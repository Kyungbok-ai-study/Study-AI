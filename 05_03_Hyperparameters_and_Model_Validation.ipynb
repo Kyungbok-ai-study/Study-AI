{
  "cells": [
    {
      "cell_type": "markdown",
      "metadata": {
        "id": "wF8XkTaKWVPW"
      },
      "source": [
        "# Hyperparameters and Model Validation"
      ]
    },
    {
      "cell_type": "markdown",
      "metadata": {
        "deletable": true,
        "editable": true,
        "id": "8Fa7E2ckWVPY"
      },
      "source": [
        "In the previous chapter, we saw the basic recipe for applying a supervised machine learning model:\n",
        "\n",
        "1. Choose a class of model.\n",
        "2. Choose model hyperparameters.\n",
        "3. Fit the model to the training data.\n",
        "4. Use the model to predict labels for new data.\n",
        "\n",
        "The first two pieces of this—the choice of model and choice of hyperparameters—are perhaps the most important part of using these tools and techniques effectively.\n",
        "In order to make informed choices, we need a way to *validate* that our model and our hyperparameters are a good fit to the data.\n",
        "While this may sound simple, there are some pitfalls that you must avoid to do this effectively."
      ]
    },
    {
      "cell_type": "markdown",
      "metadata": {
        "deletable": true,
        "editable": true,
        "id": "rUVIy4LlWVPZ"
      },
      "source": [
        "## Thinking About Model Validation\n",
        "\n",
        "In principle, model validation is very simple: after choosing a model and its hyperparameters, we can estimate how effective it is by applying it to some of the training data and comparing the predictions to the known values.\n",
        "\n",
        "This section will first show a naive approach to model validation and why it\n",
        "fails, before exploring the use of holdout sets and cross-validation for more robust\n",
        "model evaluation."
      ]
    },
    {
      "cell_type": "markdown",
      "metadata": {
        "deletable": true,
        "editable": true,
        "id": "l_teNJiwWVPZ"
      },
      "source": [
        "### Model Validation the Wrong Way\n",
        "\n",
        "Let's start with the naive approach to validation using the Iris dataset, which we saw in the previous chapter.\n",
        "We will start by loading the data:"
      ]
    },
    {
      "cell_type": "code",
      "execution_count": 1,
      "metadata": {
        "deletable": true,
        "editable": true,
        "tags": [],
        "id": "9nlw9ssaWVPa"
      },
      "outputs": [],
      "source": [
        "from sklearn.datasets import load_iris\n",
        "iris = load_iris()\n",
        "X = iris.data\n",
        "y = iris.target"
      ]
    },
    {
      "cell_type": "markdown",
      "metadata": {
        "deletable": true,
        "editable": true,
        "id": "FPxnjMKrWVPb"
      },
      "source": [
        "Next, we choose a model and hyperparameters. Here we'll use a *k*-nearest neighbors classifier with `n_neighbors=1`.\n",
        "This is a very simple and intuitive model that says \"the label of an unknown point is the same as the label of its closest training point\":"
      ]
    },
    {
      "cell_type": "code",
      "execution_count": 2,
      "metadata": {
        "deletable": true,
        "editable": true,
        "tags": [],
        "id": "qKQon6wdWVPb"
      },
      "outputs": [],
      "source": [
        "from sklearn.neighbors import KNeighborsClassifier\n",
        "model = KNeighborsClassifier(n_neighbors=1)"
      ]
    },
    {
      "cell_type": "markdown",
      "metadata": {
        "deletable": true,
        "editable": true,
        "id": "aSTxY6t8WVPb"
      },
      "source": [
        "Then we train the model, and use it to predict labels for data whose labels we already know:"
      ]
    },
    {
      "cell_type": "code",
      "execution_count": 3,
      "metadata": {
        "deletable": true,
        "editable": true,
        "tags": [],
        "id": "VkR9KaoCWVPc"
      },
      "outputs": [],
      "source": [
        "model.fit(X, y)\n",
        "y_model = model.predict(X)"
      ]
    },
    {
      "cell_type": "markdown",
      "metadata": {
        "deletable": true,
        "editable": true,
        "id": "P1Rs8DoAWVPc"
      },
      "source": [
        "Finally, we compute the fraction of correctly labeled points:"
      ]
    },
    {
      "cell_type": "code",
      "execution_count": 4,
      "metadata": {
        "deletable": true,
        "editable": true,
        "jupyter": {
          "outputs_hidden": false
        },
        "colab": {
          "base_uri": "https://localhost:8080/"
        },
        "id": "a-MrxtfHWVPc",
        "outputId": "9e8acd88-abf3-45f1-d979-6449b782c166"
      },
      "outputs": [
        {
          "output_type": "execute_result",
          "data": {
            "text/plain": [
              "1.0"
            ]
          },
          "metadata": {},
          "execution_count": 4
        }
      ],
      "source": [
        "from sklearn.metrics import accuracy_score\n",
        "accuracy_score(y, y_model)"
      ]
    },
    {
      "cell_type": "markdown",
      "metadata": {
        "deletable": true,
        "editable": true,
        "id": "0hTkvJA5WVPd"
      },
      "source": [
        "We see an accuracy score of 1.0, which indicates that 100% of points were correctly labeled by our model!\n",
        "But is this truly measuring the expected accuracy? Have we really come upon a model that we expect to be correct 100% of the time?\n",
        "\n",
        "As you may have gathered, the answer is no.\n",
        "In fact, this approach contains a fundamental flaw: *it trains and evaluates the model on the same data*.\n",
        "Furthermore, this nearest neighbor model is an *instance-based* estimator that simply stores the training data, and predicts labels by comparing new data to these stored points: except in contrived cases, it will get 100% accuracy every time!"
      ]
    },
    {
      "cell_type": "markdown",
      "metadata": {
        "deletable": true,
        "editable": true,
        "id": "JgIeo_baWVPd"
      },
      "source": [
        "### Model Validation the Right Way: Holdout Sets\n",
        "\n",
        "So what can be done?\n",
        "A better sense of a model's performance can be found by using what's known as a *holdout set*: that is, we hold back some subset of the data from the training of the model, and then use this holdout set to check the model's performance.\n",
        "This splitting can be done using the `train_test_split` utility in Scikit-Learn:"
      ]
    },
    {
      "cell_type": "code",
      "execution_count": 5,
      "metadata": {
        "deletable": true,
        "editable": true,
        "jupyter": {
          "outputs_hidden": false
        },
        "colab": {
          "base_uri": "https://localhost:8080/"
        },
        "id": "9RtIc1F0WVPd",
        "outputId": "be813775-7dcf-4931-b565-fe3f671e5a6f"
      },
      "outputs": [
        {
          "output_type": "execute_result",
          "data": {
            "text/plain": [
              "0.9066666666666666"
            ]
          },
          "metadata": {},
          "execution_count": 5
        }
      ],
      "source": [
        "from sklearn.model_selection import train_test_split\n",
        "# split the data with 50% in each set\n",
        "X1, X2, y1, y2 = train_test_split(X, y, random_state=0,\n",
        "                                  train_size=0.5)\n",
        "\n",
        "# fit the model on one set of data\n",
        "model.fit(X1, y1)\n",
        "\n",
        "# evaluate the model on the second set of data\n",
        "y2_model = model.predict(X2)\n",
        "accuracy_score(y2, y2_model)"
      ]
    },
    {
      "cell_type": "markdown",
      "metadata": {
        "deletable": true,
        "editable": true,
        "id": "X7tIkVGuWVPe"
      },
      "source": [
        "We see here a more reasonable result: the one-nearest-neighbor classifier is about 90% accurate on this holdout set.\n",
        "The holdout set is similar to unknown data, because the model has not \"seen\" it before."
      ]
    },
    {
      "cell_type": "markdown",
      "metadata": {
        "deletable": true,
        "editable": true,
        "id": "o5E9f2NFWVPe"
      },
      "source": [
        "### Model Validation via Cross-Validation\n",
        "\n",
        "One disadvantage of using a holdout set for model validation is that we have lost a portion of our data to the model training.\n",
        "In the preceding case, half the dataset does not contribute to the training of the model!\n",
        "This is not optimal, especially if the initial set of training data is small.\n",
        "\n",
        "One way to address this is to use *cross-validation*; that is, to do a sequence of fits where each subset of the data is used both as a training set and as a validation set.\n",
        "Visually, it might look something like the following figure:\n",
        "\n",
        "![](https://github.com/jakevdp/PythonDataScienceHandbook/blob/master/notebooks/images/05.03-2-fold-CV.png?raw=1)\n",
        "[figure source in Appendix](https://github.com/jakevdp/PythonDataScienceHandbook/blob/master/notebooks/06.00-Figure-Code.ipynb#2-Fold-Cross-Validation)\n",
        "\n",
        "Here we do two validation trials, alternately using each half of the data as a holdout set.\n",
        "Using the split data from earlier, we could implement it like this:"
      ]
    },
    {
      "cell_type": "code",
      "execution_count": 6,
      "metadata": {
        "deletable": true,
        "editable": true,
        "jupyter": {
          "outputs_hidden": false
        },
        "colab": {
          "base_uri": "https://localhost:8080/"
        },
        "id": "H9PDdFDBWVPe",
        "outputId": "0619b4f2-3a2f-40b9-a163-00dc6041eb4b"
      },
      "outputs": [
        {
          "output_type": "execute_result",
          "data": {
            "text/plain": [
              "(0.96, 0.9066666666666666)"
            ]
          },
          "metadata": {},
          "execution_count": 6
        }
      ],
      "source": [
        "y2_model = model.fit(X1, y1).predict(X2)\n",
        "y1_model = model.fit(X2, y2).predict(X1)\n",
        "accuracy_score(y1, y1_model), accuracy_score(y2, y2_model)"
      ]
    },
    {
      "cell_type": "markdown",
      "metadata": {
        "deletable": true,
        "editable": true,
        "id": "2KX-BObgWVPe"
      },
      "source": [
        "What comes out are two accuracy scores, which we could combine (by, say, taking the mean) to get a better measure of the global model performance.\n",
        "This particular form of cross-validation is a *two-fold cross-validation*—that is, one in which we have split the data into two sets and used each in turn as a validation set.\n",
        "\n",
        "We could expand on this idea to use even more trials, and more folds in the data—for example, the following figure shows a visual depiction of five-fold cross-validation.\n",
        "\n",
        "![](https://github.com/jakevdp/PythonDataScienceHandbook/blob/master/notebooks/images/05.03-5-fold-CV.png?raw=1)\n",
        "[figure source in Appendix](https://github.com/jakevdp/PythonDataScienceHandbook/blob/master/notebooks/06.00-Figure-Code.ipynb#5-Fold-Cross-Validation)\n",
        "\n",
        "Here we split the data into five groups, and use each of them in turn to evaluate the model fit on the other four-fifths of the data.\n",
        "This would be rather tedious to do by hand, but we can use Scikit-Learn's `cross_val_score` convenience routine to do it succinctly:"
      ]
    },
    {
      "cell_type": "code",
      "execution_count": 7,
      "metadata": {
        "deletable": true,
        "editable": true,
        "jupyter": {
          "outputs_hidden": false
        },
        "colab": {
          "base_uri": "https://localhost:8080/"
        },
        "id": "DeTVnShpWVPe",
        "outputId": "2169dbb8-7729-434e-8ece-e4c6a83f5998"
      },
      "outputs": [
        {
          "output_type": "execute_result",
          "data": {
            "text/plain": [
              "array([0.96666667, 0.96666667, 0.93333333, 0.93333333, 1.        ])"
            ]
          },
          "metadata": {},
          "execution_count": 7
        }
      ],
      "source": [
        "from sklearn.model_selection import cross_val_score\n",
        "cross_val_score(model, X, y, cv=5)"
      ]
    },
    {
      "cell_type": "markdown",
      "metadata": {
        "deletable": true,
        "editable": true,
        "id": "r18sg0MZWVPf"
      },
      "source": [
        "Repeating the validation across different subsets of the data gives us an even better idea of the performance of the algorithm.\n",
        "\n",
        "Scikit-Learn implements a number of cross-validation schemes that are useful in particular situations; these are implemented via iterators in the `model_selection` module.\n",
        "For example, we might wish to go to the extreme case in which our number of folds is equal to the number of data points: that is, we train on all points but one in each trial.\n",
        "This type of cross-validation is known as *leave-one-out* cross validation, and can be used as follows:"
      ]
    },
    {
      "cell_type": "code",
      "execution_count": 8,
      "metadata": {
        "deletable": true,
        "editable": true,
        "jupyter": {
          "outputs_hidden": false
        },
        "colab": {
          "base_uri": "https://localhost:8080/"
        },
        "id": "ivpvHaxLWVPf",
        "outputId": "82e1d7a9-f0f2-4cfc-9236-50368b8483d1"
      },
      "outputs": [
        {
          "output_type": "execute_result",
          "data": {
            "text/plain": [
              "array([1., 1., 1., 1., 1., 1., 1., 1., 1., 1., 1., 1., 1., 1., 1., 1., 1.,\n",
              "       1., 1., 1., 1., 1., 1., 1., 1., 1., 1., 1., 1., 1., 1., 1., 1., 1.,\n",
              "       1., 1., 1., 1., 1., 1., 1., 1., 1., 1., 1., 1., 1., 1., 1., 1., 1.,\n",
              "       1., 1., 1., 1., 1., 1., 1., 1., 1., 1., 1., 1., 1., 1., 1., 1., 1.,\n",
              "       1., 1., 0., 1., 0., 1., 1., 1., 1., 1., 1., 1., 1., 1., 1., 0., 1.,\n",
              "       1., 1., 1., 1., 1., 1., 1., 1., 1., 1., 1., 1., 1., 1., 1., 1., 1.,\n",
              "       1., 1., 1., 1., 0., 1., 1., 1., 1., 1., 1., 1., 1., 1., 1., 1., 1.,\n",
              "       0., 1., 1., 1., 1., 1., 1., 1., 1., 1., 1., 1., 1., 1., 0., 1., 1.,\n",
              "       1., 1., 1., 1., 1., 1., 1., 1., 1., 1., 1., 1., 1., 1.])"
            ]
          },
          "metadata": {},
          "execution_count": 8
        }
      ],
      "source": [
        "from sklearn.model_selection import LeaveOneOut\n",
        "scores = cross_val_score(model, X, y, cv=LeaveOneOut())\n",
        "scores"
      ]
    },
    {
      "cell_type": "markdown",
      "metadata": {
        "deletable": true,
        "editable": true,
        "id": "rC_y3R6EWVPf"
      },
      "source": [
        "Because we have 150 samples, the leave-one-out cross-validation yields scores for 150 trials, and each score indicates either a successful (1.0) or an unsuccessful (0.0) prediction.\n",
        "Taking the mean of these gives an estimate of the error rate:"
      ]
    },
    {
      "cell_type": "code",
      "execution_count": 9,
      "metadata": {
        "deletable": true,
        "editable": true,
        "jupyter": {
          "outputs_hidden": false
        },
        "colab": {
          "base_uri": "https://localhost:8080/"
        },
        "id": "ubl-eRHOWVPf",
        "outputId": "ebd1062d-0f06-4e78-bc7c-63e52df3baab"
      },
      "outputs": [
        {
          "output_type": "execute_result",
          "data": {
            "text/plain": [
              "0.96"
            ]
          },
          "metadata": {},
          "execution_count": 9
        }
      ],
      "source": [
        "scores.mean()"
      ]
    },
    {
      "cell_type": "markdown",
      "metadata": {
        "deletable": true,
        "editable": true,
        "id": "m-d-mVRxWVPg"
      },
      "source": [
        "Other cross-validation schemes can be used similarly.\n",
        "For a description of what is available in Scikit-Learn, use IPython to explore the ``sklearn.model_selection`` submodule, or take a look at Scikit-Learn's [cross-validation documentation](http://scikit-learn.org/stable/modules/cross_validation.html)."
      ]
    },
    {
      "cell_type": "markdown",
      "metadata": {
        "deletable": true,
        "editable": true,
        "id": "O-mHpG5AWVPg"
      },
      "source": [
        "## Selecting the Best Model\n",
        "\n",
        "Now that we've explored the basics of validation and cross-validation, we will go into a little more depth regarding model selection and selection of hyperparameters.\n",
        "These issues are some of the most important aspects of the practice of machine learning, but I find that this information is often glossed over in introductory machine learning tutorials.\n",
        "\n",
        "Of core importance is the following question: *if our estimator is underperforming, how should we move forward?*\n",
        "There are several possible answers:\n",
        "\n",
        "- Use a more complicated/more flexible model.\n",
        "- Use a less complicated/less flexible model.\n",
        "- Gather more training samples.\n",
        "- Gather more data to add features to each sample.\n",
        "\n",
        "The answer to this question is often counterintuitive.\n",
        "In particular, sometimes using a more complicated model will give worse results, and adding more training samples may not improve your results!\n",
        "The ability to determine what steps will improve your model is what separates the successful machine learning practitioners from the unsuccessful."
      ]
    },
    {
      "cell_type": "markdown",
      "metadata": {
        "deletable": true,
        "editable": true,
        "id": "mInlHRoFWVPg"
      },
      "source": [
        "### The Bias-Variance Trade-off\n",
        "\n",
        "Fundamentally, finding \"the best model\" is about finding a sweet spot in the trade-off between *bias* and *variance*.\n",
        "Consider the following figure, which presents two regression fits to the same dataset.\n",
        "\n",
        "![](https://github.com/jakevdp/PythonDataScienceHandbook/blob/master/notebooks/images/05.03-bias-variance.png?raw=1)\n",
        "[figure source in Appendix](https://github.com/jakevdp/PythonDataScienceHandbook/blob/master/notebooks/06.00-Figure-Code.ipynb#Bias-Variance-Tradeoff)\n",
        "\n",
        "It is clear that neither of these models is a particularly good fit to the data, but they fail in different ways.\n",
        "\n",
        "The model on the left attempts to find a straight-line fit through the data.\n",
        "Because in this case a straight line cannot accurately split the data, the straight-line model will never be able to describe this dataset well.\n",
        "Such a model is said to *underfit* the data: that is, it does not have enough flexibility to suitably account for all the features in the data. Another way of saying this is that the model has high bias.\n",
        "\n",
        "The model on the right attempts to fit a high-order polynomial through the data.\n",
        "Here the model fit has enough flexibility to nearly perfectly account for the fine features in the data, but even though it very accurately describes the training data, its precise form seems to be more reflective of the particular noise properties of the data than of the intrinsic properties of whatever process generated that data.\n",
        "Such a model is said to *overfit* the data: that is, it has so much flexibility that the model ends up accounting for random errors as well as the underlying data distribution. Another way of saying this is that the model has high variance."
      ]
    },
    {
      "cell_type": "markdown",
      "metadata": {
        "deletable": true,
        "editable": true,
        "id": "bmxpC_umWVPg"
      },
      "source": [
        "To look at this in another light, consider what happens if we use these two models to predict the *y*-values for some new data.\n",
        "In the plots in the following figure, the red/lighter points indicate data that is omitted from the training set.\n",
        "\n",
        "![](https://github.com/jakevdp/PythonDataScienceHandbook/blob/master/notebooks/images/05.03-bias-variance-2.png?raw=1)\n",
        "[figure source in Appendix](https://github.com/jakevdp/PythonDataScienceHandbook/blob/master/notebooks/06.00-Figure-Code.ipynb#Bias-Variance-Tradeoff-Metrics)\n",
        "\n",
        "The score here is the $R^2$ score, or [coefficient of determination](https://en.wikipedia.org/wiki/Coefficient_of_determination), which measures how well a model performs relative to a simple mean of the target values. $R^2=1$ indicates a perfect match, $R^2=0$ indicates the model does no better than simply taking the mean of the data, and negative values mean even worse models.\n",
        "From the scores associated with these two models, we can make an observation that holds more generally:\n",
        "\n",
        "- For high-bias models, the performance of the model on the validation set is similar to the performance on the training set.\n",
        "- For high-variance models, the performance of the model on the validation set is far worse than the performance on the training set."
      ]
    },
    {
      "cell_type": "markdown",
      "metadata": {
        "deletable": true,
        "editable": true,
        "id": "mvemxdtLWVPg"
      },
      "source": [
        "If we imagine that we have some ability to tune the model complexity, we would expect the training score and validation score to behave as illustrated in the following figure:\n",
        "\n",
        "![](https://github.com/jakevdp/PythonDataScienceHandbook/blob/master/notebooks/images/05.03-validation-curve.png?raw=1)\n",
        "[figure source in Appendix](https://github.com/jakevdp/PythonDataScienceHandbook/blob/master/notebooks/06.00-Figure-Code.ipynb#Validation-Curve)\n",
        "\n",
        "The diagram shown here is often called a *validation curve*, and we see the following features:\n",
        "\n",
        "- The training score is everywhere higher than the validation score. This is generally the case: the model will be a better fit to data it has seen than to data it has not seen.\n",
        "- For very low model complexity (a high-bias model), the training data is underfit, which means that the model is a poor predictor both for the training data and for any previously unseen data.\n",
        "- For very high model complexity (a high-variance model), the training data is overfit, which means that the model predicts the training data very well, but fails for any previously unseen data.\n",
        "- For some intermediate value, the validation curve has a maximum. This level of complexity indicates a suitable trade-off between bias and variance.\n",
        "\n",
        "The means of tuning the model complexity varies from model to model; when we discuss individual models in depth in later chapters, we will see how each model allows for such tuning."
      ]
    },
    {
      "cell_type": "markdown",
      "metadata": {
        "deletable": true,
        "editable": true,
        "id": "2bhJ9of8WVPh"
      },
      "source": [
        "### Validation Curves in Scikit-Learn\n",
        "\n",
        "Let's look at an example of using cross-validation to compute the validation curve for a class of models.\n",
        "Here we will use a *polynomial regression* model: this is a generalized linear model in which the degree of the polynomial is a tunable parameter.\n",
        "For example, a degree-1 polynomial fits a straight line to the data; for model parameters $a$ and $b$:\n",
        "\n",
        "$$\n",
        "y = ax + b\n",
        "$$\n",
        "\n",
        "A degree-3 polynomial fits a cubic curve to the data; for model parameters $a, b, c, d$:\n",
        "\n",
        "$$\n",
        "y = ax^3 + bx^2 + cx + d\n",
        "$$\n",
        "\n",
        "We can generalize this to any number of polynomial features.\n",
        "In Scikit-Learn, we can implement this with a linear regression classifier combined with the polynomial preprocessor.\n",
        "We will use a *pipeline* to string these operations together (we will discuss polynomial features and pipelines more fully in [Feature Engineering](05.04-Feature-Engineering.ipynb)):"
      ]
    },
    {
      "cell_type": "code",
      "execution_count": 10,
      "metadata": {
        "deletable": true,
        "editable": true,
        "tags": [],
        "id": "ZMtDD_qPWVPh"
      },
      "outputs": [],
      "source": [
        "from sklearn.preprocessing import PolynomialFeatures\n",
        "from sklearn.linear_model import LinearRegression\n",
        "from sklearn.pipeline import make_pipeline\n",
        "\n",
        "def PolynomialRegression(degree=2, **kwargs):\n",
        "    return make_pipeline(PolynomialFeatures(degree),\n",
        "                         LinearRegression(**kwargs))"
      ]
    },
    {
      "cell_type": "markdown",
      "metadata": {
        "deletable": true,
        "editable": true,
        "id": "ilGQJRIQWVPh"
      },
      "source": [
        "Now let's create some data to which we will fit our model:"
      ]
    },
    {
      "cell_type": "code",
      "execution_count": 11,
      "metadata": {
        "deletable": true,
        "editable": true,
        "tags": [],
        "id": "c1mdaeFeWVPh"
      },
      "outputs": [],
      "source": [
        "import numpy as np\n",
        "\n",
        "def make_data(N, err=1.0, rseed=1):\n",
        "    # randomly sample the data\n",
        "    rng = np.random.RandomState(rseed)\n",
        "    X = rng.rand(N, 1) ** 2\n",
        "    y = 10 - 1. / (X.ravel() + 0.1)\n",
        "    if err > 0:\n",
        "        y += err * rng.randn(N)\n",
        "    return X, y\n",
        "\n",
        "X, y = make_data(40)"
      ]
    },
    {
      "cell_type": "markdown",
      "metadata": {
        "deletable": true,
        "editable": true,
        "id": "ogFbYZl6WVPh"
      },
      "source": [
        "We can now visualize our data, along with polynomial fits of several degrees (see the following figure):"
      ]
    },
    {
      "cell_type": "code",
      "execution_count": 13,
      "metadata": {
        "deletable": true,
        "editable": true,
        "jupyter": {
          "outputs_hidden": false
        },
        "colab": {
          "base_uri": "https://localhost:8080/",
          "height": 430
        },
        "id": "kNg88PZKWVPi",
        "outputId": "57286fe4-f804-451f-d2a4-eb549b425a32"
      },
      "outputs": [
        {
          "output_type": "display_data",
          "data": {
            "text/plain": [
              "<Figure size 640x480 with 1 Axes>"
            ],
            "image/png": "[encoded data removed]"
          },
          "metadata": {}
        }
      ],
      "source": [
        "%matplotlib inline\n",
        "import matplotlib.pyplot as plt\n",
        "plt.style.use('seaborn-v0_8-whitegrid')\n",
        "\n",
        "X_test = np.linspace(-0.1, 1.1, 500)[:, None]\n",
        "\n",
        "plt.scatter(X.ravel(), y, color='black')\n",
        "axis = plt.axis()\n",
        "for degree in [1, 3, 5]:\n",
        "    y_test = PolynomialRegression(degree).fit(X, y).predict(X_test)\n",
        "    plt.plot(X_test.ravel(), y_test, label='degree={0}'.format(degree))\n",
        "plt.xlim(-0.1, 1.0)\n",
        "plt.ylim(-2, 12)\n",
        "plt.legend(loc='best');"
      ]
    },
    {
      "cell_type": "markdown",
      "metadata": {
        "deletable": true,
        "editable": true,
        "id": "l7krovEpWVPi"
      },
      "source": [
        "The knob controlling model complexity in this case is the degree of the polynomial, which can be any nonnegative integer.\n",
        "A useful question to answer is this: what degree of polynomial provides a suitable trade-off between bias (underfitting) and variance (overfitting)?\n",
        "\n",
        "We can make progress in this by visualizing the validation curve for this particular data and model; this can be done straightforwardly using the ``validation_curve`` convenience routine provided by Scikit-Learn.\n",
        "Given a model, data, parameter name, and a range to explore, this function will automatically compute both the training score and the validation score across the range (see the following figure):"
      ]
    },
    {
      "cell_type": "code",
      "execution_count": 14,
      "metadata": {
        "deletable": true,
        "editable": true,
        "jupyter": {
          "outputs_hidden": false
        },
        "colab": {
          "base_uri": "https://localhost:8080/",
          "height": 450
        },
        "id": "HmReP7bvWVPi",
        "outputId": "f46cad2d-bc3d-40e7-95c8-0158e5a60492"
      },
      "outputs": [
        {
          "output_type": "display_data",
          "data": {
            "text/plain": [
              "<Figure size 640x480 with 1 Axes>"
            ],
            "image/png": "[encoded data removed]"
          },
          "metadata": {}
        }
      ],
      "source": [
        "from sklearn.model_selection import validation_curve\n",
        "degree = np.arange(0, 21)\n",
        "train_score, val_score = validation_curve(\n",
        "    PolynomialRegression(), X, y,\n",
        "    param_name='polynomialfeatures__degree',\n",
        "    param_range=degree, cv=7)\n",
        "\n",
        "plt.plot(degree, np.median(train_score, 1),\n",
        "         color='blue', label='training score')\n",
        "plt.plot(degree, np.median(val_score, 1),\n",
        "         color='red', label='validation score')\n",
        "plt.legend(loc='best')\n",
        "plt.ylim(0, 1)\n",
        "plt.xlabel('degree')\n",
        "plt.ylabel('score');"
      ]
    },
    {
      "cell_type": "markdown",
      "metadata": {
        "deletable": true,
        "editable": true,
        "id": "gZjFK7-jWVPi"
      },
      "source": [
        "This shows precisely the qualitative behavior we expect: the training score is everywhere higher than the validation score, the training score is monotonically improving with increased model complexity, and the validation score reaches a maximum before dropping off as the model becomes overfit.\n",
        "\n",
        "From the validation curve, we can determine that the optimal trade-off between bias and variance is found for a third-order polynomial. We can compute and display this fit over the original data as follows (see the following figure):"
      ]
    },
    {
      "cell_type": "code",
      "execution_count": 15,
      "metadata": {
        "deletable": true,
        "editable": true,
        "jupyter": {
          "outputs_hidden": false
        },
        "colab": {
          "base_uri": "https://localhost:8080/",
          "height": 425
        },
        "id": "oaxNCMT8WVPj",
        "outputId": "acd3bc69-2d41-4a93-8b94-b059ccfbad88"
      },
      "outputs": [
        {
          "output_type": "display_data",
          "data": {
            "text/plain": [
              "<Figure size 640x480 with 1 Axes>"
            ],
            "image/png": "[encoded data removed]"
          },
          "metadata": {}
        }
      ],
      "source": [
        "plt.scatter(X.ravel(), y)\n",
        "lim = plt.axis()\n",
        "y_test = PolynomialRegression(3).fit(X, y).predict(X_test)\n",
        "plt.plot(X_test.ravel(), y_test);\n",
        "plt.axis(lim);"
      ]
    },
    {
      "cell_type": "markdown",
      "metadata": {
        "deletable": true,
        "editable": true,
        "id": "SiYRMQ2EWVPj"
      },
      "source": [
        "Notice that finding this optimal model did not actually require us to compute the training score, but examining the relationship between the training score and validation score can give us useful insight into the performance of the model."
      ]
    },
    {
      "cell_type": "markdown",
      "metadata": {
        "deletable": true,
        "editable": true,
        "id": "bnN55LhJWVPo"
      },
      "source": [
        "## Learning Curves\n",
        "\n",
        "One important aspect of model complexity is that the optimal model will generally depend on the size of your training data.\n",
        "For example, let's generate a new dataset with five times as many points (see the following figure):"
      ]
    },
    {
      "cell_type": "code",
      "execution_count": 16,
      "metadata": {
        "deletable": true,
        "editable": true,
        "jupyter": {
          "outputs_hidden": false
        },
        "colab": {
          "base_uri": "https://localhost:8080/",
          "height": 425
        },
        "id": "WOQj5cJrWVPo",
        "outputId": "a0405798-ea02-4b16-ec2c-9ebafb3a965c"
      },
      "outputs": [
        {
          "output_type": "display_data",
          "data": {
            "text/plain": [
              "<Figure size 640x480 with 1 Axes>"
            ],
            "image/png": "[encoded data removed]"
          },
          "metadata": {}
        }
      ],
      "source": [
        "X2, y2 = make_data(200)\n",
        "plt.scatter(X2.ravel(), y2);"
      ]
    },
    {
      "cell_type": "markdown",
      "metadata": {
        "deletable": true,
        "editable": true,
        "id": "s0P3iSvmWVPp"
      },
      "source": [
        "Now let's duplicate the preceding code to plot the validation curve for this larger dataset; for reference, we'll overplot the previous results as well (see the following figure):"
      ]
    },
    {
      "cell_type": "code",
      "execution_count": 24,
      "metadata": {
        "deletable": true,
        "editable": true,
        "jupyter": {
          "outputs_hidden": false
        },
        "colab": {
          "base_uri": "https://localhost:8080/",
          "height": 450
        },
        "id": "72cbxCpLWVPp",
        "outputId": "10ca63fb-f466-42e1-e330-78db139b4ea5"
      },
      "outputs": [
        {
          "output_type": "display_data",
          "data": {
            "text/plain": [
              "<Figure size 640x480 with 1 Axes>"
            ],
            "image/png": "[encoded data removed]"
          },
          "metadata": {}
        }
      ],
      "source": [
        "degree = np.arange(21)\n",
        "train_score2, val_score2 = validation_curve(\n",
        "    PolynomialRegression(), X2, y2,\n",
        "    param_name='polynomialfeatures__degree',\n",
        "    param_range=degree, cv=7)\n",
        "\n",
        "plt.plot(degree, np.median(train_score2, 1),\n",
        "         color='blue', label='training score')\n",
        "plt.plot(degree, np.median(val_score2, 1),\n",
        "         color='red', label='validation score')\n",
        "plt.plot(degree, np.median(train_score, 1),\n",
        "         color='blue', alpha=0.3, linestyle='dashed')\n",
        "plt.plot(degree, np.median(val_score, 1),\n",
        "         color='red', alpha=0.3, linestyle='dashed')\n",
        "plt.legend(loc='lower center')\n",
        "plt.ylim(0, 1)\n",
        "plt.xlabel('degree')\n",
        "plt.ylabel('score');"
      ]
    },
    {
      "cell_type": "markdown",
      "metadata": {
        "deletable": true,
        "editable": true,
        "id": "LJgGywICWVPp"
      },
      "source": [
        "The solid lines show the new results, while the fainter dashed lines show the results on the previous smaller dataset.\n",
        "It is clear from the validation curve that the larger dataset can support a much more complicated model: the peak here is probably around a degree of 6, but even a degree-20 model is not seriously overfitting the data—the validation and training scores remain very close.\n",
        "\n",
        "So, the behavior of the validation curve has not one but two important inputs: the model complexity and the number of training points.\n",
        "We can gain further insight by exploring the behavior of the model as a function of the number of training points, which we can do by using increasingly larger subsets of the data to fit our model.\n",
        "A plot of the training/validation score with respect to the size of the training set is sometimes known as a *learning curve.*\n",
        "\n",
        "The general behavior we would expect from a learning curve is this:\n",
        "\n",
        "- A model of a given complexity will *overfit* a small dataset: this means the training score will be relatively high, while the validation score will be relatively low.\n",
        "- A model of a given complexity will *underfit* a large dataset: this means that the training score will decrease, but the validation score will increase.\n",
        "- A model will never, except by chance, give a better score to the validation set than the training set: this means the curves should keep getting closer together but never cross.\n",
        "\n",
        "With these features in mind, we would expect a learning curve to look qualitatively like that shown in the following figure:"
      ]
    },
    {
      "cell_type": "markdown",
      "metadata": {
        "deletable": true,
        "editable": true,
        "id": "1P9i3TFbWVPp"
      },
      "source": [
        "![](https://github.com/jakevdp/PythonDataScienceHandbook/blob/master/notebooks/images/05.03-learning-curve.png?raw=1)\n",
        "[figure source in Appendix](https://github.com/jakevdp/PythonDataScienceHandbook/blob/master/notebooks/06.00-Figure-Code.ipynb#Learning-Curve)"
      ]
    },
    {
      "cell_type": "markdown",
      "metadata": {
        "deletable": true,
        "editable": true,
        "id": "pwizi7U_WVPp"
      },
      "source": [
        "The notable feature of the learning curve is the convergence to a particular score as the number of training samples grows.\n",
        "In particular, once you have enough points that a particular model has converged, *adding more training data will not help you!*\n",
        "The only way to increase model performance in this case is to use another (often more complex) model."
      ]
    },
    {
      "cell_type": "markdown",
      "metadata": {
        "deletable": true,
        "editable": true,
        "id": "laW1groAWVPp"
      },
      "source": [
        "### Learning Curves in Scikit-Learn\n",
        "\n",
        "Scikit-Learn offers a convenient utility for computing such learning curves from your models; here we will compute a learning curve for our original dataset with a second-order polynomial model and a ninth-order polynomial (see the following figure):"
      ]
    },
    {
      "cell_type": "code",
      "source": [
        "degree = 2\n",
        "N, train_lc, val_lc = learning_curve(\n",
        "        PolynomialRegression(degree), X, y, cv=7,\n",
        "        train_sizes=np.linspace(0.3, 1, 25))"
      ],
      "metadata": {
        "id": "sXpCSojrbV99"
      },
      "execution_count": 27,
      "outputs": []
    },
    {
      "cell_type": "code",
      "execution_count": 18,
      "metadata": {
        "deletable": true,
        "editable": true,
        "jupyter": {
          "outputs_hidden": false
        },
        "colab": {
          "base_uri": "https://localhost:8080/",
          "height": 499
        },
        "id": "1C0-C57nWVPq",
        "outputId": "35f8dc20-a876-47ab-a646-536cb7e22cb1"
      },
      "outputs": [
        {
          "output_type": "display_data",
          "data": {
            "text/plain": [
              "<Figure size 1600x600 with 2 Axes>"
            ],
            "image/png": "[encoded data removed]"
          },
          "metadata": {}
        }
      ],
      "source": [
        "from sklearn.model_selection import learning_curve\n",
        "\n",
        "fig, ax = plt.subplots(1, 2, figsize=(16, 6))\n",
        "fig.subplots_adjust(left=0.0625, right=0.95, wspace=0.1)\n",
        "\n",
        "for i, degree in enumerate([2, 9]):\n",
        "    N, train_lc, val_lc = learning_curve(\n",
        "        PolynomialRegression(degree), X, y, cv=7,\n",
        "        train_sizes=np.linspace(0.3, 1, 25))\n",
        "\n",
        "    ax[i].plot(N, np.mean(train_lc, 1),\n",
        "               color='blue', label='training score')\n",
        "    ax[i].plot(N, np.mean(val_lc, 1),\n",
        "               color='red', label='validation score')\n",
        "    ax[i].hlines(np.mean([train_lc[-1], val_lc[-1]]), N[0],\n",
        "                 N[-1], color='gray', linestyle='dashed')\n",
        "\n",
        "    ax[i].set_ylim(0, 1)\n",
        "    ax[i].set_xlim(N[0], N[-1])\n",
        "    ax[i].set_xlabel('training size')\n",
        "    ax[i].set_ylabel('score')\n",
        "    ax[i].set_title('degree = {0}'.format(degree), size=14)\n",
        "    ax[i].legend(loc='best')"
      ]
    },
    {
      "cell_type": "markdown",
      "metadata": {
        "deletable": true,
        "editable": true,
        "id": "GT-rrHukWVPq"
      },
      "source": [
        "This is a valuable diagnostic, because it gives us a visual depiction of how our model responds to increasing amounts of training data.\n",
        "In particular, when the learning curve has already converged (i.e., when the training and validation curves are already close to each other) *adding more training data will not significantly improve the fit!*\n",
        "This situation is seen in the left panel, with the learning curve for the degree-2 model.\n",
        "\n",
        "The only way to increase the converged score is to use a different (usually more complicated) model.\n",
        "We see this in the right panel: by moving to a much more complicated model, we increase the score of convergence (indicated by the dashed line), but at the expense of higher model variance (indicated by the difference between the training and validation scores).\n",
        "If we were to add even more data points, the learning curve for the more complicated model would eventually converge.\n",
        "\n",
        "Plotting a learning curve for your particular choice of model and dataset can help you to make this type of decision about how to move forward in improving your analysis."
      ]
    },
    {
      "cell_type": "markdown",
      "metadata": {
        "deletable": true,
        "editable": true,
        "id": "wMh2v-hwWVPq"
      },
      "source": [
        "## Validation in Practice: Grid Search\n",
        "\n",
        "The preceding discussion is meant to give you some intuition into the trade-off between bias and variance, and its dependence on model complexity and training set size.\n",
        "In practice, models generally have more than one knob to turn, meaning plots of validation and learning curves change from lines to multidimensional surfaces.\n",
        "In these cases, such visualizations are difficult, and we would rather simply find the particular model that maximizes the validation score.\n",
        "\n",
        "Scikit-Learn provides some tools to make this kind of search more convenient: here we'll consider the use of grid search to find the optimal polynomial model.\n",
        "We will explore a two-dimensional grid of model features, namely the polynomial degree and the flag telling us whether to fit the intercept.\n",
        "This can be set up using Scikit-Learn's `GridSearchCV` meta-estimator:"
      ]
    },
    {
      "cell_type": "code",
      "execution_count": 40,
      "metadata": {
        "deletable": true,
        "editable": true,
        "tags": [],
        "id": "PmH-WDSKWVPq"
      },
      "outputs": [],
      "source": [
        "from sklearn.model_selection import GridSearchCV\n",
        "\n",
        "param_grid = {'polynomialfeatures__degree': np.arange(21),\n",
        "              'linearregression__fit_intercept': [True, False]}\n",
        "\n",
        "grid = GridSearchCV(PolynomialRegression(),\n",
        "                    param_grid,\n",
        "                    cv=7,\n",
        "                    verbose= True)"
      ]
    },
    {
      "cell_type": "markdown",
      "metadata": {
        "deletable": true,
        "editable": true,
        "id": "lXtr3LwuWVPq"
      },
      "source": [
        "Notice that like a normal estimator, this has not yet been applied to any data.\n",
        "Calling the ``fit`` method will fit the model at each grid point, keeping track of the scores along the way:"
      ]
    },
    {
      "cell_type": "code",
      "execution_count": 41,
      "metadata": {
        "deletable": true,
        "editable": true,
        "tags": [],
        "colab": {
          "base_uri": "https://localhost:8080/"
        },
        "id": "e9tAz7TOWVPq",
        "outputId": "17287b37-29fc-41f6-b606-92a04b0a26ff"
      },
      "outputs": [
        {
          "output_type": "stream",
          "name": "stdout",
          "text": [
            "Fitting 7 folds for each of 42 candidates, totalling 294 fits\n"
          ]
        }
      ],
      "source": [
        "grid.fit(X, y);"
      ]
    },
    {
      "cell_type": "code",
      "source": [
        "import pandas as pd\n",
        "pd.DataFrame(grid.cv_results_)"
      ],
      "metadata": {
        "colab": {
          "base_uri": "https://localhost:8080/",
          "height": 1000
        },
        "id": "ErPWlHylcW8W",
        "outputId": "9b0bca50-66f1-4d3d-85d8-72123d0fd3f9"
      },
      "execution_count": 44,
      "outputs": [
        {
          "output_type": "execute_result",
          "data": {
            "text/plain": [
              "    mean_fit_time  std_fit_time  mean_score_time  std_score_time  \\\n",
              "0        0.001931      0.000903         0.001424        0.000855   \n",
              "1        0.001615      0.000119         0.001115        0.000071   \n",
              "2        0.001786      0.000167         0.001183        0.000111   \n",
              "3        0.001617      0.000153         0.001068        0.000015   \n",
              "4        0.001562      0.000021         0.001095        0.000048   \n",
              "5        0.001739      0.000325         0.001184        0.000170   \n",
              "6        0.001805      0.000308         0.001237        0.000179   \n",
              "7        0.001711      0.000134         0.001148        0.000079   \n",
              "8        0.001905      0.000063         0.001261        0.000053   \n",
              "9        0.001924      0.000058         0.001366        0.000195   \n",
              "10       0.001945      0.000042         0.001262        0.000051   \n",
              "11       0.001925      0.000043         0.001310        0.000082   \n",
              "12       0.002097      0.000457         0.001264        0.000030   \n",
              "13       0.001929      0.000037         0.001253        0.000028   \n",
              "14       0.002256      0.000334         0.001292        0.000039   \n",
              "15       0.002170      0.000187         0.001287        0.000022   \n",
              "16       0.002137      0.000064         0.001350        0.000092   \n",
              "17       0.002256      0.000195         0.001316        0.000012   \n",
              "18       0.002196      0.000069         0.001310        0.000033   \n",
              "19       0.002243      0.000199         0.001369        0.000097   \n",
              "20       0.002218      0.000101         0.001335        0.000051   \n",
              "21       0.001724      0.000028         0.001165        0.000027   \n",
              "22       0.001883      0.000216         0.001337        0.000129   \n",
              "23       0.001814      0.000049         0.001277        0.000067   \n",
              "24       0.001792      0.000019         0.001316        0.000152   \n",
              "25       0.002649      0.001325         0.002043        0.001520   \n",
              "26       0.001901      0.000583         0.001209        0.000241   \n",
              "27       0.001731      0.000341         0.001263        0.000309   \n",
              "28       0.001832      0.000207         0.001215        0.000089   \n",
              "29       0.001873      0.000220         0.001309        0.000154   \n",
              "30       0.001878      0.000068         0.001296        0.000033   \n",
              "31       0.001732      0.000206         0.001236        0.000129   \n",
              "32       0.001787      0.000195         0.001184        0.000068   \n",
              "33       0.001894      0.000091         0.001277        0.000018   \n",
              "34       0.001882      0.000027         0.001283        0.000025   \n",
              "35       0.001916      0.000295         0.001393        0.000304   \n",
              "36       0.001675      0.000176         0.001173        0.000060   \n",
              "37       0.001903      0.000216         0.001230        0.000094   \n",
              "38       0.001671      0.000120         0.001135        0.000032   \n",
              "39       0.001775      0.000173         0.001215        0.000080   \n",
              "40       0.001599      0.000021         0.001150        0.000035   \n",
              "41       0.001606      0.000035         0.001145        0.000028   \n",
              "\n",
              "    param_linearregression__fit_intercept  param_polynomialfeatures__degree  \\\n",
              "0                                    True                                 0   \n",
              "1                                    True                                 1   \n",
              "2                                    True                                 2   \n",
              "3                                    True                                 3   \n",
              "4                                    True                                 4   \n",
              "5                                    True                                 5   \n",
              "6                                    True                                 6   \n",
              "7                                    True                                 7   \n",
              "8                                    True                                 8   \n",
              "9                                    True                                 9   \n",
              "10                                   True                                10   \n",
              "11                                   True                                11   \n",
              "12                                   True                                12   \n",
              "13                                   True                                13   \n",
              "14                                   True                                14   \n",
              "15                                   True                                15   \n",
              "16                                   True                                16   \n",
              "17                                   True                                17   \n",
              "18                                   True                                18   \n",
              "19                                   True                                19   \n",
              "20                                   True                                20   \n",
              "21                                  False                                 0   \n",
              "22                                  False                                 1   \n",
              "23                                  False                                 2   \n",
              "24                                  False                                 3   \n",
              "25                                  False                                 4   \n",
              "26                                  False                                 5   \n",
              "27                                  False                                 6   \n",
              "28                                  False                                 7   \n",
              "29                                  False                                 8   \n",
              "30                                  False                                 9   \n",
              "31                                  False                                10   \n",
              "32                                  False                                11   \n",
              "33                                  False                                12   \n",
              "34                                  False                                13   \n",
              "35                                  False                                14   \n",
              "36                                  False                                15   \n",
              "37                                  False                                16   \n",
              "38                                  False                                17   \n",
              "39                                  False                                18   \n",
              "40                                  False                                19   \n",
              "41                                  False                                20   \n",
              "\n",
              "                                               params  split0_test_score  \\\n",
              "0   {'linearregression__fit_intercept': True, 'pol...          -0.602466   \n",
              "1   {'linearregression__fit_intercept': True, 'pol...           0.592417   \n",
              "2   {'linearregression__fit_intercept': True, 'pol...           0.821356   \n",
              "3   {'linearregression__fit_intercept': True, 'pol...           0.922981   \n",
              "4   {'linearregression__fit_intercept': True, 'pol...           0.954819   \n",
              "5   {'linearregression__fit_intercept': True, 'pol...           0.945669   \n",
              "6   {'linearregression__fit_intercept': True, 'pol...           0.938122   \n",
              "7   {'linearregression__fit_intercept': True, 'pol...           0.936214   \n",
              "8   {'linearregression__fit_intercept': True, 'pol...           0.936249   \n",
              "9   {'linearregression__fit_intercept': True, 'pol...           0.920967   \n",
              "10  {'linearregression__fit_intercept': True, 'pol...           0.921979   \n",
              "11  {'linearregression__fit_intercept': True, 'pol...           0.906899   \n",
              "12  {'linearregression__fit_intercept': True, 'pol...           0.874719   \n",
              "13  {'linearregression__fit_intercept': True, 'pol...           0.868283   \n",
              "14  {'linearregression__fit_intercept': True, 'pol...           0.872689   \n",
              "15  {'linearregression__fit_intercept': True, 'pol...           0.870584   \n",
              "16  {'linearregression__fit_intercept': True, 'pol...           0.867524   \n",
              "17  {'linearregression__fit_intercept': True, 'pol...           0.863962   \n",
              "18  {'linearregression__fit_intercept': True, 'pol...           0.864205   \n",
              "19  {'linearregression__fit_intercept': True, 'pol...           0.863309   \n",
              "20  {'linearregression__fit_intercept': True, 'pol...           0.860663   \n",
              "21  {'linearregression__fit_intercept': False, 'po...          -0.602466   \n",
              "22  {'linearregression__fit_intercept': False, 'po...           0.592417   \n",
              "23  {'linearregression__fit_intercept': False, 'po...           0.821356   \n",
              "24  {'linearregression__fit_intercept': False, 'po...           0.922981   \n",
              "25  {'linearregression__fit_intercept': False, 'po...           0.954819   \n",
              "26  {'linearregression__fit_intercept': False, 'po...           0.945669   \n",
              "27  {'linearregression__fit_intercept': False, 'po...           0.938122   \n",
              "28  {'linearregression__fit_intercept': False, 'po...           0.936214   \n",
              "29  {'linearregression__fit_intercept': False, 'po...           0.936249   \n",
              "30  {'linearregression__fit_intercept': False, 'po...           0.920967   \n",
              "31  {'linearregression__fit_intercept': False, 'po...           0.921979   \n",
              "32  {'linearregression__fit_intercept': False, 'po...           0.906899   \n",
              "33  {'linearregression__fit_intercept': False, 'po...           0.874719   \n",
              "34  {'linearregression__fit_intercept': False, 'po...           0.868283   \n",
              "35  {'linearregression__fit_intercept': False, 'po...           0.872689   \n",
              "36  {'linearregression__fit_intercept': False, 'po...           0.870584   \n",
              "37  {'linearregression__fit_intercept': False, 'po...           0.867524   \n",
              "38  {'linearregression__fit_intercept': False, 'po...           0.863965   \n",
              "39  {'linearregression__fit_intercept': False, 'po...           0.863578   \n",
              "40  {'linearregression__fit_intercept': False, 'po...           0.863318   \n",
              "41  {'linearregression__fit_intercept': False, 'po...           0.860666   \n",
              "\n",
              "    split1_test_score  split2_test_score  split3_test_score  \\\n",
              "0           -0.002046          -0.005141      -8.448036e-02   \n",
              "1            0.529559           0.780178       4.900991e-01   \n",
              "2            0.891900           0.963736       8.129546e-01   \n",
              "3            0.839170           0.925097       7.186875e-01   \n",
              "4            0.791224           0.915322       7.955717e-01   \n",
              "5            0.806117           0.917386       7.954982e-01   \n",
              "6            0.816336           0.911370       7.191907e-01   \n",
              "7            0.805548           0.915424       7.535823e-01   \n",
              "8            0.805677           0.901568       4.809638e-01   \n",
              "9            0.816951           0.904964       8.014985e-01   \n",
              "10           0.802206           0.909136      -5.040516e+00   \n",
              "11           0.795781           0.907677      -1.681386e+01   \n",
              "12           0.823103           0.913583      -3.965637e+01   \n",
              "13           0.823862           0.903245      -7.058308e+03   \n",
              "14           0.829637           0.854826      -5.456193e+03   \n",
              "15           0.837595           0.878610      -5.245170e+04   \n",
              "16           0.818438           0.705024      -2.706858e+05   \n",
              "17           0.699135          -0.573598      -2.637385e+02   \n",
              "18           0.761331          -0.144497      -4.682614e+05   \n",
              "19          -0.020454          -1.876925      -4.036507e+06   \n",
              "20           0.268576          -2.078125      -1.948266e+07   \n",
              "21          -0.002046          -0.005141      -8.448036e-02   \n",
              "22           0.529559           0.780178       4.900991e-01   \n",
              "23           0.891900           0.963736       8.129546e-01   \n",
              "24           0.839170           0.925097       7.186875e-01   \n",
              "25           0.791224           0.915322       7.955717e-01   \n",
              "26           0.806117           0.917386       7.954982e-01   \n",
              "27           0.816336           0.911370       7.191907e-01   \n",
              "28           0.805548           0.915424       7.535823e-01   \n",
              "29           0.805677           0.901568       4.809638e-01   \n",
              "30           0.816951           0.904964       8.014985e-01   \n",
              "31           0.802206           0.909136      -5.040516e+00   \n",
              "32           0.795781           0.907677      -1.681386e+01   \n",
              "33           0.823103           0.913583      -3.965637e+01   \n",
              "34           0.823862           0.903245      -7.058310e+03   \n",
              "35           0.829637           0.854826      -5.456172e+03   \n",
              "36           0.837594           0.878611      -5.245169e+04   \n",
              "37           0.818437           0.705112      -2.707071e+05   \n",
              "38           0.699237          -0.574283      -2.685245e+02   \n",
              "39           0.761333          -0.144611      -4.685473e+05   \n",
              "40          -0.019354          -1.878462      -4.038262e+06   \n",
              "41           0.268461          -2.078159      -1.948854e+07   \n",
              "\n",
              "    split4_test_score  split5_test_score  split6_test_score  mean_test_score  \\\n",
              "0           -0.043421          -0.219189          -0.094565    -1.501871e-01   \n",
              "1            0.765085           0.523538           0.797401     6.397538e-01   \n",
              "2            0.934238           0.807794           0.803378     8.621938e-01   \n",
              "3            0.967829           0.954963           0.869251     8.854256e-01   \n",
              "4            0.966332           0.939547           0.918082     8.972710e-01   \n",
              "5            0.972705           0.917507           0.922752     8.968050e-01   \n",
              "6            0.964641           0.922032           0.903794     8.822123e-01   \n",
              "7            0.966053           0.934533           0.880974     8.846184e-01   \n",
              "8            0.964383           0.733044           0.880885     8.146814e-01   \n",
              "9            0.975683           0.895313           0.882009     8.853409e-01   \n",
              "10           0.969510          -0.635767           0.896646    -1.681152e-01   \n",
              "11           0.894124         -12.342521           0.897052    -3.536406e+00   \n",
              "12           0.963098          -9.064295           0.910831    -6.319333e+00   \n",
              "13           0.951866          -5.534403           0.659938    -1.008519e+03   \n",
              "14          -0.268001       -1286.308401           0.613079    -9.627998e+02   \n",
              "15          -7.621179        -187.965446           0.355146    -7.520620e+03   \n",
              "16         -30.147681      -21198.872936           0.424073    -4.170171e+04   \n",
              "17         -49.226055       -9391.578945           0.804061    -1.386107e+03   \n",
              "18        -199.414254      -42114.716572           0.781190    -7.293904e+04   \n",
              "19        -703.142116     -128269.553198           0.647491    -5.950685e+05   \n",
              "20       -2282.052039     -312229.369439       -3181.477317    -2.828621e+06   \n",
              "21          -0.043421          -0.219189          -0.094565    -1.501871e-01   \n",
              "22           0.765085           0.523538           0.797401     6.397538e-01   \n",
              "23           0.934238           0.807794           0.803378     8.621938e-01   \n",
              "24           0.967829           0.954963           0.869251     8.854256e-01   \n",
              "25           0.966332           0.939547           0.918082     8.972710e-01   \n",
              "26           0.972705           0.917507           0.922752     8.968050e-01   \n",
              "27           0.964641           0.922032           0.903794     8.822123e-01   \n",
              "28           0.966053           0.934533           0.880974     8.846184e-01   \n",
              "29           0.964383           0.733044           0.880885     8.146814e-01   \n",
              "30           0.975683           0.895313           0.882009     8.853409e-01   \n",
              "31           0.969510          -0.635767           0.896646    -1.681152e-01   \n",
              "32           0.894124         -12.342521           0.897052    -3.536406e+00   \n",
              "33           0.963098          -9.064295           0.910831    -6.319333e+00   \n",
              "34           0.951866          -5.534417           0.659938    -1.008520e+03   \n",
              "35          -0.268000       -1286.303052           0.613078    -9.627961e+02   \n",
              "36          -7.621481        -188.048267           0.355154    -7.520631e+03   \n",
              "37         -30.125665      -21191.761397           0.424079    -4.170374e+04   \n",
              "38         -49.768720       -9340.726290           0.804338    -1.379604e+03   \n",
              "39        -200.078517      -42147.565508           0.781177    -7.298467e+04   \n",
              "40        -703.470757     -129846.113216           0.647150    -5.955445e+05   \n",
              "41       -2280.604656     -311192.661064           0.066257    -2.828860e+06   \n",
              "\n",
              "    std_test_score  rank_test_score  \n",
              "0     1.968001e-01               19  \n",
              "1     1.256786e-01               18  \n",
              "2     6.198428e-02               14  \n",
              "3     8.001154e-02                5  \n",
              "4     6.784039e-02                2  \n",
              "5     6.342756e-02                3  \n",
              "6     7.904581e-02               12  \n",
              "7     7.188280e-02                9  \n",
              "8     1.545661e-01               16  \n",
              "9     5.559182e-02                7  \n",
              "10    2.059029e+00               21  \n",
              "11    7.085036e+00               23  \n",
              "12    1.403712e+01               25  \n",
              "13    2.469817e+03               29  \n",
              "14    1.887392e+03               28  \n",
              "15    1.834315e+04               33  \n",
              "16    9.376792e+04               35  \n",
              "17    3.269440e+03               32  \n",
              "18    1.620413e+05               37  \n",
              "19    1.405657e+06               39  \n",
              "20    6.799829e+06               41  \n",
              "21    1.968001e-01               19  \n",
              "22    1.256786e-01               17  \n",
              "23    6.198428e-02               13  \n",
              "24    8.001154e-02                6  \n",
              "25    6.784039e-02                1  \n",
              "26    6.342756e-02                4  \n",
              "27    7.904581e-02               11  \n",
              "28    7.188280e-02               10  \n",
              "29    1.545661e-01               15  \n",
              "30    5.559182e-02                8  \n",
              "31    2.059029e+00               22  \n",
              "32    7.085036e+00               24  \n",
              "33    1.403712e+01               26  \n",
              "34    2.469818e+03               30  \n",
              "35    1.887385e+03               27  \n",
              "36    1.834314e+04               34  \n",
              "37    9.377559e+04               36  \n",
              "38    3.251387e+03               31  \n",
              "39    1.621400e+05               38  \n",
              "40    1.406196e+06               40  \n",
              "41    6.802132e+06               42  "
            ],
            "text/html": [
              "\n",
              "  <div id=\"df-3c2841d8-0607-48f8-a878-58642d5e7000\" class=\"colab-df-container\">\n",
              "    <div>\n",
              "<style scoped>\n",
              "    .dataframe tbody tr th:only-of-type {\n",
              "        vertical-align: middle;\n",
              "    }\n",
              "\n",
              "    .dataframe tbody tr th {\n",
              "        vertical-align: top;\n",
              "    }\n",
              "\n",
              "    .dataframe thead th {\n",
              "        text-align: right;\n",
              "    }\n",
              "</style>\n",
              "<table border=\"1\" class=\"dataframe\">\n",
              "  <thead>\n",
              "    <tr style=\"text-align: right;\">\n",
              "      <th></th>\n",
              "      <th>mean_fit_time</th>\n",
              "      <th>std_fit_time</th>\n",
              "      <th>mean_score_time</th>\n",
              "      <th>std_score_time</th>\n",
              "      <th>param_linearregression__fit_intercept</th>\n",
              "      <th>param_polynomialfeatures__degree</th>\n",
              "      <th>params</th>\n",
              "      <th>split0_test_score</th>\n",
              "      <th>split1_test_score</th>\n",
              "      <th>split2_test_score</th>\n",
              "      <th>split3_test_score</th>\n",
              "      <th>split4_test_score</th>\n",
              "      <th>split5_test_score</th>\n",
              "      <th>split6_test_score</th>\n",
              "      <th>mean_test_score</th>\n",
              "      <th>std_test_score</th>\n",
              "      <th>rank_test_score</th>\n",
              "    </tr>\n",
              "  </thead>\n",
              "  <tbody>\n",
              "    <tr>\n",
              "      <th>0</th>\n",
              "      <td>0.001931</td>\n",
              "      <td>0.000903</td>\n",
              "      <td>0.001424</td>\n",
              "      <td>0.000855</td>\n",
              "      <td>True</td>\n",
              "      <td>0</td>\n",
              "      <td>{'linearregression__fit_intercept': True, 'pol...</td>\n",
              "      <td>-0.602466</td>\n",
              "      <td>-0.002046</td>\n",
              "      <td>-0.005141</td>\n",
              "      <td>-8.448036e-02</td>\n",
              "      <td>-0.043421</td>\n",
              "      <td>-0.219189</td>\n",
              "      <td>-0.094565</td>\n",
              "      <td>-1.501871e-01</td>\n",
              "      <td>1.968001e-01</td>\n",
              "      <td>19</td>\n",
              "    </tr>\n",
              "    <tr>\n",
              "      <th>1</th>\n",
              "      <td>0.001615</td>\n",
              "      <td>0.000119</td>\n",
              "      <td>0.001115</td>\n",
              "      <td>0.000071</td>\n",
              "      <td>True</td>\n",
              "      <td>1</td>\n",
              "      <td>{'linearregression__fit_intercept': True, 'pol...</td>\n",
              "      <td>0.592417</td>\n",
              "      <td>0.529559</td>\n",
              "      <td>0.780178</td>\n",
              "      <td>4.900991e-01</td>\n",
              "      <td>0.765085</td>\n",
              "      <td>0.523538</td>\n",
              "      <td>0.797401</td>\n",
              "      <td>6.397538e-01</td>\n",
              "      <td>1.256786e-01</td>\n",
              "      <td>18</td>\n",
              "    </tr>\n",
              "    <tr>\n",
              "      <th>2</th>\n",
              "      <td>0.001786</td>\n",
              "      <td>0.000167</td>\n",
              "      <td>0.001183</td>\n",
              "      <td>0.000111</td>\n",
              "      <td>True</td>\n",
              "      <td>2</td>\n",
              "      <td>{'linearregression__fit_intercept': True, 'pol...</td>\n",
              "      <td>0.821356</td>\n",
              "      <td>0.891900</td>\n",
              "      <td>0.963736</td>\n",
              "      <td>8.129546e-01</td>\n",
              "      <td>0.934238</td>\n",
              "      <td>0.807794</td>\n",
              "      <td>0.803378</td>\n",
              "      <td>8.621938e-01</td>\n",
              "      <td>6.198428e-02</td>\n",
              "      <td>14</td>\n",
              "    </tr>\n",
              "    <tr>\n",
              "      <th>3</th>\n",
              "      <td>0.001617</td>\n",
              "      <td>0.000153</td>\n",
              "      <td>0.001068</td>\n",
              "      <td>0.000015</td>\n",
              "      <td>True</td>\n",
              "      <td>3</td>\n",
              "      <td>{'linearregression__fit_intercept': True, 'pol...</td>\n",
              "      <td>0.922981</td>\n",
              "      <td>0.839170</td>\n",
              "      <td>0.925097</td>\n",
              "      <td>7.186875e-01</td>\n",
              "      <td>0.967829</td>\n",
              "      <td>0.954963</td>\n",
              "      <td>0.869251</td>\n",
              "      <td>8.854256e-01</td>\n",
              "      <td>8.001154e-02</td>\n",
              "      <td>5</td>\n",
              "    </tr>\n",
              "    <tr>\n",
              "      <th>4</th>\n",
              "      <td>0.001562</td>\n",
              "      <td>0.000021</td>\n",
              "      <td>0.001095</td>\n",
              "      <td>0.000048</td>\n",
              "      <td>True</td>\n",
              "      <td>4</td>\n",
              "      <td>{'linearregression__fit_intercept': True, 'pol...</td>\n",
              "      <td>0.954819</td>\n",
              "      <td>0.791224</td>\n",
              "      <td>0.915322</td>\n",
              "      <td>7.955717e-01</td>\n",
              "      <td>0.966332</td>\n",
              "      <td>0.939547</td>\n",
              "      <td>0.918082</td>\n",
              "      <td>8.972710e-01</td>\n",
              "      <td>6.784039e-02</td>\n",
              "      <td>2</td>\n",
              "    </tr>\n",
              "    <tr>\n",
              "      <th>5</th>\n",
              "      <td>0.001739</td>\n",
              "      <td>0.000325</td>\n",
              "      <td>0.001184</td>\n",
              "      <td>0.000170</td>\n",
              "      <td>True</td>\n",
              "      <td>5</td>\n",
              "      <td>{'linearregression__fit_intercept': True, 'pol...</td>\n",
              "      <td>0.945669</td>\n",
              "      <td>0.806117</td>\n",
              "      <td>0.917386</td>\n",
              "      <td>7.954982e-01</td>\n",
              "      <td>0.972705</td>\n",
              "      <td>0.917507</td>\n",
              "      <td>0.922752</td>\n",
              "      <td>8.968050e-01</td>\n",
              "      <td>6.342756e-02</td>\n",
              "      <td>3</td>\n",
              "    </tr>\n",
              "    <tr>\n",
              "      <th>6</th>\n",
              "      <td>0.001805</td>\n",
              "      <td>0.000308</td>\n",
              "      <td>0.001237</td>\n",
              "      <td>0.000179</td>\n",
              "      <td>True</td>\n",
              "      <td>6</td>\n",
              "      <td>{'linearregression__fit_intercept': True, 'pol...</td>\n",
              "      <td>0.938122</td>\n",
              "      <td>0.816336</td>\n",
              "      <td>0.911370</td>\n",
              "      <td>7.191907e-01</td>\n",
              "      <td>0.964641</td>\n",
              "      <td>0.922032</td>\n",
              "      <td>0.903794</td>\n",
              "      <td>8.822123e-01</td>\n",
              "      <td>7.904581e-02</td>\n",
              "      <td>12</td>\n",
              "    </tr>\n",
              "    <tr>\n",
              "      <th>7</th>\n",
              "      <td>0.001711</td>\n",
              "      <td>0.000134</td>\n",
              "      <td>0.001148</td>\n",
              "      <td>0.000079</td>\n",
              "      <td>True</td>\n",
              "      <td>7</td>\n",
              "      <td>{'linearregression__fit_intercept': True, 'pol...</td>\n",
              "      <td>0.936214</td>\n",
              "      <td>0.805548</td>\n",
              "      <td>0.915424</td>\n",
              "      <td>7.535823e-01</td>\n",
              "      <td>0.966053</td>\n",
              "      <td>0.934533</td>\n",
              "      <td>0.880974</td>\n",
              "      <td>8.846184e-01</td>\n",
              "      <td>7.188280e-02</td>\n",
              "      <td>9</td>\n",
              "    </tr>\n",
              "    <tr>\n",
              "      <th>8</th>\n",
              "      <td>0.001905</td>\n",
              "      <td>0.000063</td>\n",
              "      <td>0.001261</td>\n",
              "      <td>0.000053</td>\n",
              "      <td>True</td>\n",
              "      <td>8</td>\n",
              "      <td>{'linearregression__fit_intercept': True, 'pol...</td>\n",
              "      <td>0.936249</td>\n",
              "      <td>0.805677</td>\n",
              "      <td>0.901568</td>\n",
              "      <td>4.809638e-01</td>\n",
              "      <td>0.964383</td>\n",
              "      <td>0.733044</td>\n",
              "      <td>0.880885</td>\n",
              "      <td>8.146814e-01</td>\n",
              "      <td>1.545661e-01</td>\n",
              "      <td>16</td>\n",
              "    </tr>\n",
              "    <tr>\n",
              "      <th>9</th>\n",
              "      <td>0.001924</td>\n",
              "      <td>0.000058</td>\n",
              "      <td>0.001366</td>\n",
              "      <td>0.000195</td>\n",
              "      <td>True</td>\n",
              "      <td>9</td>\n",
              "      <td>{'linearregression__fit_intercept': True, 'pol...</td>\n",
              "      <td>0.920967</td>\n",
              "      <td>0.816951</td>\n",
              "      <td>0.904964</td>\n",
              "      <td>8.014985e-01</td>\n",
              "      <td>0.975683</td>\n",
              "      <td>0.895313</td>\n",
              "      <td>0.882009</td>\n",
              "      <td>8.853409e-01</td>\n",
              "      <td>5.559182e-02</td>\n",
              "      <td>7</td>\n",
              "    </tr>\n",
              "    <tr>\n",
              "      <th>10</th>\n",
              "      <td>0.001945</td>\n",
              "      <td>0.000042</td>\n",
              "      <td>0.001262</td>\n",
              "      <td>0.000051</td>\n",
              "      <td>True</td>\n",
              "      <td>10</td>\n",
              "      <td>{'linearregression__fit_intercept': True, 'pol...</td>\n",
              "      <td>0.921979</td>\n",
              "      <td>0.802206</td>\n",
              "      <td>0.909136</td>\n",
              "      <td>-5.040516e+00</td>\n",
              "      <td>0.969510</td>\n",
              "      <td>-0.635767</td>\n",
              "      <td>0.896646</td>\n",
              "      <td>-1.681152e-01</td>\n",
              "      <td>2.059029e+00</td>\n",
              "      <td>21</td>\n",
              "    </tr>\n",
              "    <tr>\n",
              "      <th>11</th>\n",
              "      <td>0.001925</td>\n",
              "      <td>0.000043</td>\n",
              "      <td>0.001310</td>\n",
              "      <td>0.000082</td>\n",
              "      <td>True</td>\n",
              "      <td>11</td>\n",
              "      <td>{'linearregression__fit_intercept': True, 'pol...</td>\n",
              "      <td>0.906899</td>\n",
              "      <td>0.795781</td>\n",
              "      <td>0.907677</td>\n",
              "      <td>-1.681386e+01</td>\n",
              "      <td>0.894124</td>\n",
              "      <td>-12.342521</td>\n",
              "      <td>0.897052</td>\n",
              "      <td>-3.536406e+00</td>\n",
              "      <td>7.085036e+00</td>\n",
              "      <td>23</td>\n",
              "    </tr>\n",
              "    <tr>\n",
              "      <th>12</th>\n",
              "      <td>0.002097</td>\n",
              "      <td>0.000457</td>\n",
              "      <td>0.001264</td>\n",
              "      <td>0.000030</td>\n",
              "      <td>True</td>\n",
              "      <td>12</td>\n",
              "      <td>{'linearregression__fit_intercept': True, 'pol...</td>\n",
              "      <td>0.874719</td>\n",
              "      <td>0.823103</td>\n",
              "      <td>0.913583</td>\n",
              "      <td>-3.965637e+01</td>\n",
              "      <td>0.963098</td>\n",
              "      <td>-9.064295</td>\n",
              "      <td>0.910831</td>\n",
              "      <td>-6.319333e+00</td>\n",
              "      <td>1.403712e+01</td>\n",
              "      <td>25</td>\n",
              "    </tr>\n",
              "    <tr>\n",
              "      <th>13</th>\n",
              "      <td>0.001929</td>\n",
              "      <td>0.000037</td>\n",
              "      <td>0.001253</td>\n",
              "      <td>0.000028</td>\n",
              "      <td>True</td>\n",
              "      <td>13</td>\n",
              "      <td>{'linearregression__fit_intercept': True, 'pol...</td>\n",
              "      <td>0.868283</td>\n",
              "      <td>0.823862</td>\n",
              "      <td>0.903245</td>\n",
              "      <td>-7.058308e+03</td>\n",
              "      <td>0.951866</td>\n",
              "      <td>-5.534403</td>\n",
              "      <td>0.659938</td>\n",
              "      <td>-1.008519e+03</td>\n",
              "      <td>2.469817e+03</td>\n",
              "      <td>29</td>\n",
              "    </tr>\n",
              "    <tr>\n",
              "      <th>14</th>\n",
              "      <td>0.002256</td>\n",
              "      <td>0.000334</td>\n",
              "      <td>0.001292</td>\n",
              "      <td>0.000039</td>\n",
              "      <td>True</td>\n",
              "      <td>14</td>\n",
              "      <td>{'linearregression__fit_intercept': True, 'pol...</td>\n",
              "      <td>0.872689</td>\n",
              "      <td>0.829637</td>\n",
              "      <td>0.854826</td>\n",
              "      <td>-5.456193e+03</td>\n",
              "      <td>-0.268001</td>\n",
              "      <td>-1286.308401</td>\n",
              "      <td>0.613079</td>\n",
              "      <td>-9.627998e+02</td>\n",
              "      <td>1.887392e+03</td>\n",
              "      <td>28</td>\n",
              "    </tr>\n",
              "    <tr>\n",
              "      <th>15</th>\n",
              "      <td>0.002170</td>\n",
              "      <td>0.000187</td>\n",
              "      <td>0.001287</td>\n",
              "      <td>0.000022</td>\n",
              "      <td>True</td>\n",
              "      <td>15</td>\n",
              "      <td>{'linearregression__fit_intercept': True, 'pol...</td>\n",
              "      <td>0.870584</td>\n",
              "      <td>0.837595</td>\n",
              "      <td>0.878610</td>\n",
              "      <td>-5.245170e+04</td>\n",
              "      <td>-7.621179</td>\n",
              "      <td>-187.965446</td>\n",
              "      <td>0.355146</td>\n",
              "      <td>-7.520620e+03</td>\n",
              "      <td>1.834315e+04</td>\n",
              "      <td>33</td>\n",
              "    </tr>\n",
              "    <tr>\n",
              "      <th>16</th>\n",
              "      <td>0.002137</td>\n",
              "      <td>0.000064</td>\n",
              "      <td>0.001350</td>\n",
              "      <td>0.000092</td>\n",
              "      <td>True</td>\n",
              "      <td>16</td>\n",
              "      <td>{'linearregression__fit_intercept': True, 'pol...</td>\n",
              "      <td>0.867524</td>\n",
              "      <td>0.818438</td>\n",
              "      <td>0.705024</td>\n",
              "      <td>-2.706858e+05</td>\n",
              "      <td>-30.147681</td>\n",
              "      <td>-21198.872936</td>\n",
              "      <td>0.424073</td>\n",
              "      <td>-4.170171e+04</td>\n",
              "      <td>9.376792e+04</td>\n",
              "      <td>35</td>\n",
              "    </tr>\n",
              "    <tr>\n",
              "      <th>17</th>\n",
              "      <td>0.002256</td>\n",
              "      <td>0.000195</td>\n",
              "      <td>0.001316</td>\n",
              "      <td>0.000012</td>\n",
              "      <td>True</td>\n",
              "      <td>17</td>\n",
              "      <td>{'linearregression__fit_intercept': True, 'pol...</td>\n",
              "      <td>0.863962</td>\n",
              "      <td>0.699135</td>\n",
              "      <td>-0.573598</td>\n",
              "      <td>-2.637385e+02</td>\n",
              "      <td>-49.226055</td>\n",
              "      <td>-9391.578945</td>\n",
              "      <td>0.804061</td>\n",
              "      <td>-1.386107e+03</td>\n",
              "      <td>3.269440e+03</td>\n",
              "      <td>32</td>\n",
              "    </tr>\n",
              "    <tr>\n",
              "      <th>18</th>\n",
              "      <td>0.002196</td>\n",
              "      <td>0.000069</td>\n",
              "      <td>0.001310</td>\n",
              "      <td>0.000033</td>\n",
              "      <td>True</td>\n",
              "      <td>18</td>\n",
              "      <td>{'linearregression__fit_intercept': True, 'pol...</td>\n",
              "      <td>0.864205</td>\n",
              "      <td>0.761331</td>\n",
              "      <td>-0.144497</td>\n",
              "      <td>-4.682614e+05</td>\n",
              "      <td>-199.414254</td>\n",
              "      <td>-42114.716572</td>\n",
              "      <td>0.781190</td>\n",
              "      <td>-7.293904e+04</td>\n",
              "      <td>1.620413e+05</td>\n",
              "      <td>37</td>\n",
              "    </tr>\n",
              "    <tr>\n",
              "      <th>19</th>\n",
              "      <td>0.002243</td>\n",
              "      <td>0.000199</td>\n",
              "      <td>0.001369</td>\n",
              "      <td>0.000097</td>\n",
              "      <td>True</td>\n",
              "      <td>19</td>\n",
              "      <td>{'linearregression__fit_intercept': True, 'pol...</td>\n",
              "      <td>0.863309</td>\n",
              "      <td>-0.020454</td>\n",
              "      <td>-1.876925</td>\n",
              "      <td>-4.036507e+06</td>\n",
              "      <td>-703.142116</td>\n",
              "      <td>-128269.553198</td>\n",
              "      <td>0.647491</td>\n",
              "      <td>-5.950685e+05</td>\n",
              "      <td>1.405657e+06</td>\n",
              "      <td>39</td>\n",
              "    </tr>\n",
              "    <tr>\n",
              "      <th>20</th>\n",
              "      <td>0.002218</td>\n",
              "      <td>0.000101</td>\n",
              "      <td>0.001335</td>\n",
              "      <td>0.000051</td>\n",
              "      <td>True</td>\n",
              "      <td>20</td>\n",
              "      <td>{'linearregression__fit_intercept': True, 'pol...</td>\n",
              "      <td>0.860663</td>\n",
              "      <td>0.268576</td>\n",
              "      <td>-2.078125</td>\n",
              "      <td>-1.948266e+07</td>\n",
              "      <td>-2282.052039</td>\n",
              "      <td>-312229.369439</td>\n",
              "      <td>-3181.477317</td>\n",
              "      <td>-2.828621e+06</td>\n",
              "      <td>6.799829e+06</td>\n",
              "      <td>41</td>\n",
              "    </tr>\n",
              "    <tr>\n",
              "      <th>21</th>\n",
              "      <td>0.001724</td>\n",
              "      <td>0.000028</td>\n",
              "      <td>0.001165</td>\n",
              "      <td>0.000027</td>\n",
              "      <td>False</td>\n",
              "      <td>0</td>\n",
              "      <td>{'linearregression__fit_intercept': False, 'po...</td>\n",
              "      <td>-0.602466</td>\n",
              "      <td>-0.002046</td>\n",
              "      <td>-0.005141</td>\n",
              "      <td>-8.448036e-02</td>\n",
              "      <td>-0.043421</td>\n",
              "      <td>-0.219189</td>\n",
              "      <td>-0.094565</td>\n",
              "      <td>-1.501871e-01</td>\n",
              "      <td>1.968001e-01</td>\n",
              "      <td>19</td>\n",
              "    </tr>\n",
              "    <tr>\n",
              "      <th>22</th>\n",
              "      <td>0.001883</td>\n",
              "      <td>0.000216</td>\n",
              "      <td>0.001337</td>\n",
              "      <td>0.000129</td>\n",
              "      <td>False</td>\n",
              "      <td>1</td>\n",
              "      <td>{'linearregression__fit_intercept': False, 'po...</td>\n",
              "      <td>0.592417</td>\n",
              "      <td>0.529559</td>\n",
              "      <td>0.780178</td>\n",
              "      <td>4.900991e-01</td>\n",
              "      <td>0.765085</td>\n",
              "      <td>0.523538</td>\n",
              "      <td>0.797401</td>\n",
              "      <td>6.397538e-01</td>\n",
              "      <td>1.256786e-01</td>\n",
              "      <td>17</td>\n",
              "    </tr>\n",
              "    <tr>\n",
              "      <th>23</th>\n",
              "      <td>0.001814</td>\n",
              "      <td>0.000049</td>\n",
              "      <td>0.001277</td>\n",
              "      <td>0.000067</td>\n",
              "      <td>False</td>\n",
              "      <td>2</td>\n",
              "      <td>{'linearregression__fit_intercept': False, 'po...</td>\n",
              "      <td>0.821356</td>\n",
              "      <td>0.891900</td>\n",
              "      <td>0.963736</td>\n",
              "      <td>8.129546e-01</td>\n",
              "      <td>0.934238</td>\n",
              "      <td>0.807794</td>\n",
              "      <td>0.803378</td>\n",
              "      <td>8.621938e-01</td>\n",
              "      <td>6.198428e-02</td>\n",
              "      <td>13</td>\n",
              "    </tr>\n",
              "    <tr>\n",
              "      <th>24</th>\n",
              "      <td>0.001792</td>\n",
              "      <td>0.000019</td>\n",
              "      <td>0.001316</td>\n",
              "      <td>0.000152</td>\n",
              "      <td>False</td>\n",
              "      <td>3</td>\n",
              "      <td>{'linearregression__fit_intercept': False, 'po...</td>\n",
              "      <td>0.922981</td>\n",
              "      <td>0.839170</td>\n",
              "      <td>0.925097</td>\n",
              "      <td>7.186875e-01</td>\n",
              "      <td>0.967829</td>\n",
              "      <td>0.954963</td>\n",
              "      <td>0.869251</td>\n",
              "      <td>8.854256e-01</td>\n",
              "      <td>8.001154e-02</td>\n",
              "      <td>6</td>\n",
              "    </tr>\n",
              "    <tr>\n",
              "      <th>25</th>\n",
              "      <td>0.002649</td>\n",
              "      <td>0.001325</td>\n",
              "      <td>0.002043</td>\n",
              "      <td>0.001520</td>\n",
              "      <td>False</td>\n",
              "      <td>4</td>\n",
              "      <td>{'linearregression__fit_intercept': False, 'po...</td>\n",
              "      <td>0.954819</td>\n",
              "      <td>0.791224</td>\n",
              "      <td>0.915322</td>\n",
              "      <td>7.955717e-01</td>\n",
              "      <td>0.966332</td>\n",
              "      <td>0.939547</td>\n",
              "      <td>0.918082</td>\n",
              "      <td>8.972710e-01</td>\n",
              "      <td>6.784039e-02</td>\n",
              "      <td>1</td>\n",
              "    </tr>\n",
              "    <tr>\n",
              "      <th>26</th>\n",
              "      <td>0.001901</td>\n",
              "      <td>0.000583</td>\n",
              "      <td>0.001209</td>\n",
              "      <td>0.000241</td>\n",
              "      <td>False</td>\n",
              "      <td>5</td>\n",
              "      <td>{'linearregression__fit_intercept': False, 'po...</td>\n",
              "      <td>0.945669</td>\n",
              "      <td>0.806117</td>\n",
              "      <td>0.917386</td>\n",
              "      <td>7.954982e-01</td>\n",
              "      <td>0.972705</td>\n",
              "      <td>0.917507</td>\n",
              "      <td>0.922752</td>\n",
              "      <td>8.968050e-01</td>\n",
              "      <td>6.342756e-02</td>\n",
              "      <td>4</td>\n",
              "    </tr>\n",
              "    <tr>\n",
              "      <th>27</th>\n",
              "      <td>0.001731</td>\n",
              "      <td>0.000341</td>\n",
              "      <td>0.001263</td>\n",
              "      <td>0.000309</td>\n",
              "      <td>False</td>\n",
              "      <td>6</td>\n",
              "      <td>{'linearregression__fit_intercept': False, 'po...</td>\n",
              "      <td>0.938122</td>\n",
              "      <td>0.816336</td>\n",
              "      <td>0.911370</td>\n",
              "      <td>7.191907e-01</td>\n",
              "      <td>0.964641</td>\n",
              "      <td>0.922032</td>\n",
              "      <td>0.903794</td>\n",
              "      <td>8.822123e-01</td>\n",
              "      <td>7.904581e-02</td>\n",
              "      <td>11</td>\n",
              "    </tr>\n",
              "    <tr>\n",
              "      <th>28</th>\n",
              "      <td>0.001832</td>\n",
              "      <td>0.000207</td>\n",
              "      <td>0.001215</td>\n",
              "      <td>0.000089</td>\n",
              "      <td>False</td>\n",
              "      <td>7</td>\n",
              "      <td>{'linearregression__fit_intercept': False, 'po...</td>\n",
              "      <td>0.936214</td>\n",
              "      <td>0.805548</td>\n",
              "      <td>0.915424</td>\n",
              "      <td>7.535823e-01</td>\n",
              "      <td>0.966053</td>\n",
              "      <td>0.934533</td>\n",
              "      <td>0.880974</td>\n",
              "      <td>8.846184e-01</td>\n",
              "      <td>7.188280e-02</td>\n",
              "      <td>10</td>\n",
              "    </tr>\n",
              "    <tr>\n",
              "      <th>29</th>\n",
              "      <td>0.001873</td>\n",
              "      <td>0.000220</td>\n",
              "      <td>0.001309</td>\n",
              "      <td>0.000154</td>\n",
              "      <td>False</td>\n",
              "      <td>8</td>\n",
              "      <td>{'linearregression__fit_intercept': False, 'po...</td>\n",
              "      <td>0.936249</td>\n",
              "      <td>0.805677</td>\n",
              "      <td>0.901568</td>\n",
              "      <td>4.809638e-01</td>\n",
              "      <td>0.964383</td>\n",
              "      <td>0.733044</td>\n",
              "      <td>0.880885</td>\n",
              "      <td>8.146814e-01</td>\n",
              "      <td>1.545661e-01</td>\n",
              "      <td>15</td>\n",
              "    </tr>\n",
              "    <tr>\n",
              "      <th>30</th>\n",
              "      <td>0.001878</td>\n",
              "      <td>0.000068</td>\n",
              "      <td>0.001296</td>\n",
              "      <td>0.000033</td>\n",
              "      <td>False</td>\n",
              "      <td>9</td>\n",
              "      <td>{'linearregression__fit_intercept': False, 'po...</td>\n",
              "      <td>0.920967</td>\n",
              "      <td>0.816951</td>\n",
              "      <td>0.904964</td>\n",
              "      <td>8.014985e-01</td>\n",
              "      <td>0.975683</td>\n",
              "      <td>0.895313</td>\n",
              "      <td>0.882009</td>\n",
              "      <td>8.853409e-01</td>\n",
              "      <td>5.559182e-02</td>\n",
              "      <td>8</td>\n",
              "    </tr>\n",
              "    <tr>\n",
              "      <th>31</th>\n",
              "      <td>0.001732</td>\n",
              "      <td>0.000206</td>\n",
              "      <td>0.001236</td>\n",
              "      <td>0.000129</td>\n",
              "      <td>False</td>\n",
              "      <td>10</td>\n",
              "      <td>{'linearregression__fit_intercept': False, 'po...</td>\n",
              "      <td>0.921979</td>\n",
              "      <td>0.802206</td>\n",
              "      <td>0.909136</td>\n",
              "      <td>-5.040516e+00</td>\n",
              "      <td>0.969510</td>\n",
              "      <td>-0.635767</td>\n",
              "      <td>0.896646</td>\n",
              "      <td>-1.681152e-01</td>\n",
              "      <td>2.059029e+00</td>\n",
              "      <td>22</td>\n",
              "    </tr>\n",
              "    <tr>\n",
              "      <th>32</th>\n",
              "      <td>0.001787</td>\n",
              "      <td>0.000195</td>\n",
              "      <td>0.001184</td>\n",
              "      <td>0.000068</td>\n",
              "      <td>False</td>\n",
              "      <td>11</td>\n",
              "      <td>{'linearregression__fit_intercept': False, 'po...</td>\n",
              "      <td>0.906899</td>\n",
              "      <td>0.795781</td>\n",
              "      <td>0.907677</td>\n",
              "      <td>-1.681386e+01</td>\n",
              "      <td>0.894124</td>\n",
              "      <td>-12.342521</td>\n",
              "      <td>0.897052</td>\n",
              "      <td>-3.536406e+00</td>\n",
              "      <td>7.085036e+00</td>\n",
              "      <td>24</td>\n",
              "    </tr>\n",
              "    <tr>\n",
              "      <th>33</th>\n",
              "      <td>0.001894</td>\n",
              "      <td>0.000091</td>\n",
              "      <td>0.001277</td>\n",
              "      <td>0.000018</td>\n",
              "      <td>False</td>\n",
              "      <td>12</td>\n",
              "      <td>{'linearregression__fit_intercept': False, 'po...</td>\n",
              "      <td>0.874719</td>\n",
              "      <td>0.823103</td>\n",
              "      <td>0.913583</td>\n",
              "      <td>-3.965637e+01</td>\n",
              "      <td>0.963098</td>\n",
              "      <td>-9.064295</td>\n",
              "      <td>0.910831</td>\n",
              "      <td>-6.319333e+00</td>\n",
              "      <td>1.403712e+01</td>\n",
              "      <td>26</td>\n",
              "    </tr>\n",
              "    <tr>\n",
              "      <th>34</th>\n",
              "      <td>0.001882</td>\n",
              "      <td>0.000027</td>\n",
              "      <td>0.001283</td>\n",
              "      <td>0.000025</td>\n",
              "      <td>False</td>\n",
              "      <td>13</td>\n",
              "      <td>{'linearregression__fit_intercept': False, 'po...</td>\n",
              "      <td>0.868283</td>\n",
              "      <td>0.823862</td>\n",
              "      <td>0.903245</td>\n",
              "      <td>-7.058310e+03</td>\n",
              "      <td>0.951866</td>\n",
              "      <td>-5.534417</td>\n",
              "      <td>0.659938</td>\n",
              "      <td>-1.008520e+03</td>\n",
              "      <td>2.469818e+03</td>\n",
              "      <td>30</td>\n",
              "    </tr>\n",
              "    <tr>\n",
              "      <th>35</th>\n",
              "      <td>0.001916</td>\n",
              "      <td>0.000295</td>\n",
              "      <td>0.001393</td>\n",
              "      <td>0.000304</td>\n",
              "      <td>False</td>\n",
              "      <td>14</td>\n",
              "      <td>{'linearregression__fit_intercept': False, 'po...</td>\n",
              "      <td>0.872689</td>\n",
              "      <td>0.829637</td>\n",
              "      <td>0.854826</td>\n",
              "      <td>-5.456172e+03</td>\n",
              "      <td>-0.268000</td>\n",
              "      <td>-1286.303052</td>\n",
              "      <td>0.613078</td>\n",
              "      <td>-9.627961e+02</td>\n",
              "      <td>1.887385e+03</td>\n",
              "      <td>27</td>\n",
              "    </tr>\n",
              "    <tr>\n",
              "      <th>36</th>\n",
              "      <td>0.001675</td>\n",
              "      <td>0.000176</td>\n",
              "      <td>0.001173</td>\n",
              "      <td>0.000060</td>\n",
              "      <td>False</td>\n",
              "      <td>15</td>\n",
              "      <td>{'linearregression__fit_intercept': False, 'po...</td>\n",
              "      <td>0.870584</td>\n",
              "      <td>0.837594</td>\n",
              "      <td>0.878611</td>\n",
              "      <td>-5.245169e+04</td>\n",
              "      <td>-7.621481</td>\n",
              "      <td>-188.048267</td>\n",
              "      <td>0.355154</td>\n",
              "      <td>-7.520631e+03</td>\n",
              "      <td>1.834314e+04</td>\n",
              "      <td>34</td>\n",
              "    </tr>\n",
              "    <tr>\n",
              "      <th>37</th>\n",
              "      <td>0.001903</td>\n",
              "      <td>0.000216</td>\n",
              "      <td>0.001230</td>\n",
              "      <td>0.000094</td>\n",
              "      <td>False</td>\n",
              "      <td>16</td>\n",
              "      <td>{'linearregression__fit_intercept': False, 'po...</td>\n",
              "      <td>0.867524</td>\n",
              "      <td>0.818437</td>\n",
              "      <td>0.705112</td>\n",
              "      <td>-2.707071e+05</td>\n",
              "      <td>-30.125665</td>\n",
              "      <td>-21191.761397</td>\n",
              "      <td>0.424079</td>\n",
              "      <td>-4.170374e+04</td>\n",
              "      <td>9.377559e+04</td>\n",
              "      <td>36</td>\n",
              "    </tr>\n",
              "    <tr>\n",
              "      <th>38</th>\n",
              "      <td>0.001671</td>\n",
              "      <td>0.000120</td>\n",
              "      <td>0.001135</td>\n",
              "      <td>0.000032</td>\n",
              "      <td>False</td>\n",
              "      <td>17</td>\n",
              "      <td>{'linearregression__fit_intercept': False, 'po...</td>\n",
              "      <td>0.863965</td>\n",
              "      <td>0.699237</td>\n",
              "      <td>-0.574283</td>\n",
              "      <td>-2.685245e+02</td>\n",
              "      <td>-49.768720</td>\n",
              "      <td>-9340.726290</td>\n",
              "      <td>0.804338</td>\n",
              "      <td>-1.379604e+03</td>\n",
              "      <td>3.251387e+03</td>\n",
              "      <td>31</td>\n",
              "    </tr>\n",
              "    <tr>\n",
              "      <th>39</th>\n",
              "      <td>0.001775</td>\n",
              "      <td>0.000173</td>\n",
              "      <td>0.001215</td>\n",
              "      <td>0.000080</td>\n",
              "      <td>False</td>\n",
              "      <td>18</td>\n",
              "      <td>{'linearregression__fit_intercept': False, 'po...</td>\n",
              "      <td>0.863578</td>\n",
              "      <td>0.761333</td>\n",
              "      <td>-0.144611</td>\n",
              "      <td>-4.685473e+05</td>\n",
              "      <td>-200.078517</td>\n",
              "      <td>-42147.565508</td>\n",
              "      <td>0.781177</td>\n",
              "      <td>-7.298467e+04</td>\n",
              "      <td>1.621400e+05</td>\n",
              "      <td>38</td>\n",
              "    </tr>\n",
              "    <tr>\n",
              "      <th>40</th>\n",
              "      <td>0.001599</td>\n",
              "      <td>0.000021</td>\n",
              "      <td>0.001150</td>\n",
              "      <td>0.000035</td>\n",
              "      <td>False</td>\n",
              "      <td>19</td>\n",
              "      <td>{'linearregression__fit_intercept': False, 'po...</td>\n",
              "      <td>0.863318</td>\n",
              "      <td>-0.019354</td>\n",
              "      <td>-1.878462</td>\n",
              "      <td>-4.038262e+06</td>\n",
              "      <td>-703.470757</td>\n",
              "      <td>-129846.113216</td>\n",
              "      <td>0.647150</td>\n",
              "      <td>-5.955445e+05</td>\n",
              "      <td>1.406196e+06</td>\n",
              "      <td>40</td>\n",
              "    </tr>\n",
              "    <tr>\n",
              "      <th>41</th>\n",
              "      <td>0.001606</td>\n",
              "      <td>0.000035</td>\n",
              "      <td>0.001145</td>\n",
              "      <td>0.000028</td>\n",
              "      <td>False</td>\n",
              "      <td>20</td>\n",
              "      <td>{'linearregression__fit_intercept': False, 'po...</td>\n",
              "      <td>0.860666</td>\n",
              "      <td>0.268461</td>\n",
              "      <td>-2.078159</td>\n",
              "      <td>-1.948854e+07</td>\n",
              "      <td>-2280.604656</td>\n",
              "      <td>-311192.661064</td>\n",
              "      <td>0.066257</td>\n",
              "      <td>-2.828860e+06</td>\n",
              "      <td>6.802132e+06</td>\n",
              "      <td>42</td>\n",
              "    </tr>\n",
              "  </tbody>\n",
              "</table>\n",
              "</div>\n",
              "    <div class=\"colab-df-buttons\">\n",
              "\n",
              "  <div class=\"colab-df-container\">\n",
              "    <button class=\"colab-df-convert\" onclick=\"convertToInteractive('df-3c2841d8-0607-48f8-a878-58642d5e7000')\"\n",
              "            title=\"Convert this dataframe to an interactive table.\"\n",
              "            style=\"display:none;\">\n",
              "\n",
              "  <svg xmlns=\"http://www.w3.org/2000/svg\" height=\"24px\" viewBox=\"0 -960 960 960\">\n",
              "    <path d=\"M120-120v-720h720v720H120Zm60-500h600v-160H180v160Zm220 220h160v-160H400v160Zm0 220h160v-160H400v160ZM180-400h160v-160H180v160Zm440 0h160v-160H620v160ZM180-180h160v-160H180v160Zm440 0h160v-160H620v160Z\"/>\n",
              "  </svg>\n",
              "    </button>\n",
              "\n",
              "  <style>\n",
              "    .colab-df-container {\n",
              "      display:flex;\n",
              "      gap: 12px;\n",
              "    }\n",
              "\n",
              "    .colab-df-convert {\n",
              "      background-color: #E8F0FE;\n",
              "      border: none;\n",
              "      border-radius: 50%;\n",
              "      cursor: pointer;\n",
              "      display: none;\n",
              "      fill: #1967D2;\n",
              "      height: 32px;\n",
              "      padding: 0 0 0 0;\n",
              "      width: 32px;\n",
              "    }\n",
              "\n",
              "    .colab-df-convert:hover {\n",
              "      background-color: #E2EBFA;\n",
              "      box-shadow: 0px 1px 2px rgba(60, 64, 67, 0.3), 0px 1px 3px 1px rgba(60, 64, 67, 0.15);\n",
              "      fill: #174EA6;\n",
              "    }\n",
              "\n",
              "    .colab-df-buttons div {\n",
              "      margin-bottom: 4px;\n",
              "    }\n",
              "\n",
              "    [theme=dark] .colab-df-convert {\n",
              "      background-color: #3B4455;\n",
              "      fill: #D2E3FC;\n",
              "    }\n",
              "\n",
              "    [theme=dark] .colab-df-convert:hover {\n",
              "      background-color: #434B5C;\n",
              "      box-shadow: 0px 1px 3px 1px rgba(0, 0, 0, 0.15);\n",
              "      filter: drop-shadow(0px 1px 2px rgba(0, 0, 0, 0.3));\n",
              "      fill: #FFFFFF;\n",
              "    }\n",
              "  </style>\n",
              "\n",
              "    <script>\n",
              "      const buttonEl =\n",
              "        document.querySelector('#df-3c2841d8-0607-48f8-a878-58642d5e7000 button.colab-df-convert');\n",
              "      buttonEl.style.display =\n",
              "        google.colab.kernel.accessAllowed ? 'block' : 'none';\n",
              "\n",
              "      async function convertToInteractive(key) {\n",
              "        const element = document.querySelector('#df-3c2841d8-0607-48f8-a878-58642d5e7000');\n",
              "        const dataTable =\n",
              "          await google.colab.kernel.invokeFunction('convertToInteractive',\n",
              "                                                    [key], {});\n",
              "        if (!dataTable) return;\n",
              "\n",
              "        const docLinkHtml = 'Like what you see? Visit the ' +\n",
              "          '<a target=\"_blank\" href=https://colab.research.google.com/notebooks/data_table.ipynb>data table notebook</a>'\n",
              "          + ' to learn more about interactive tables.';\n",
              "        element.innerHTML = '';\n",
              "        dataTable['output_type'] = 'display_data';\n",
              "        await google.colab.output.renderOutput(dataTable, element);\n",
              "        const docLink = document.createElement('div');\n",
              "        docLink.innerHTML = docLinkHtml;\n",
              "        element.appendChild(docLink);\n",
              "      }\n",
              "    </script>\n",
              "  </div>\n",
              "\n",
              "\n",
              "<div id=\"df-b3f9b551-b536-4127-8c70-8dc63fe7b324\">\n",
              "  <button class=\"colab-df-quickchart\" onclick=\"quickchart('df-b3f9b551-b536-4127-8c70-8dc63fe7b324')\"\n",
              "            title=\"Suggest charts\"\n",
              "            style=\"display:none;\">\n",
              "\n",
              "<svg xmlns=\"http://www.w3.org/2000/svg\" height=\"24px\"viewBox=\"0 0 24 24\"\n",
              "     width=\"24px\">\n",
              "    <g>\n",
              "        <path d=\"M19 3H5c-1.1 0-2 .9-2 2v14c0 1.1.9 2 2 2h14c1.1 0 2-.9 2-2V5c0-1.1-.9-2-2-2zM9 17H7v-7h2v7zm4 0h-2V7h2v10zm4 0h-2v-4h2v4z\"/>\n",
              "    </g>\n",
              "</svg>\n",
              "  </button>\n",
              "\n",
              "<style>\n",
              "  .colab-df-quickchart {\n",
              "      --bg-color: #E8F0FE;\n",
              "      --fill-color: #1967D2;\n",
              "      --hover-bg-color: #E2EBFA;\n",
              "      --hover-fill-color: #174EA6;\n",
              "      --disabled-fill-color: #AAA;\n",
              "      --disabled-bg-color: #DDD;\n",
              "  }\n",
              "\n",
              "  [theme=dark] .colab-df-quickchart {\n",
              "      --bg-color: #3B4455;\n",
              "      --fill-color: #D2E3FC;\n",
              "      --hover-bg-color: #434B5C;\n",
              "      --hover-fill-color: #FFFFFF;\n",
              "      --disabled-bg-color: #3B4455;\n",
              "      --disabled-fill-color: #666;\n",
              "  }\n",
              "\n",
              "  .colab-df-quickchart {\n",
              "    background-color: var(--bg-color);\n",
              "    border: none;\n",
              "    border-radius: 50%;\n",
              "    cursor: pointer;\n",
              "    display: none;\n",
              "    fill: var(--fill-color);\n",
              "    height: 32px;\n",
              "    padding: 0;\n",
              "    width: 32px;\n",
              "  }\n",
              "\n",
              "  .colab-df-quickchart:hover {\n",
              "    background-color: var(--hover-bg-color);\n",
              "    box-shadow: 0 1px 2px rgba(60, 64, 67, 0.3), 0 1px 3px 1px rgba(60, 64, 67, 0.15);\n",
              "    fill: var(--button-hover-fill-color);\n",
              "  }\n",
              "\n",
              "  .colab-df-quickchart-complete:disabled,\n",
              "  .colab-df-quickchart-complete:disabled:hover {\n",
              "    background-color: var(--disabled-bg-color);\n",
              "    fill: var(--disabled-fill-color);\n",
              "    box-shadow: none;\n",
              "  }\n",
              "\n",
              "  .colab-df-spinner {\n",
              "    border: 2px solid var(--fill-color);\n",
              "    border-color: transparent;\n",
              "    border-bottom-color: var(--fill-color);\n",
              "    animation:\n",
              "      spin 1s steps(1) infinite;\n",
              "  }\n",
              "\n",
              "  @keyframes spin {\n",
              "    0% {\n",
              "      border-color: transparent;\n",
              "      border-bottom-color: var(--fill-color);\n",
              "      border-left-color: var(--fill-color);\n",
              "    }\n",
              "    20% {\n",
              "      border-color: transparent;\n",
              "      border-left-color: var(--fill-color);\n",
              "      border-top-color: var(--fill-color);\n",
              "    }\n",
              "    30% {\n",
              "      border-color: transparent;\n",
              "      border-left-color: var(--fill-color);\n",
              "      border-top-color: var(--fill-color);\n",
              "      border-right-color: var(--fill-color);\n",
              "    }\n",
              "    40% {\n",
              "      border-color: transparent;\n",
              "      border-right-color: var(--fill-color);\n",
              "      border-top-color: var(--fill-color);\n",
              "    }\n",
              "    60% {\n",
              "      border-color: transparent;\n",
              "      border-right-color: var(--fill-color);\n",
              "    }\n",
              "    80% {\n",
              "      border-color: transparent;\n",
              "      border-right-color: var(--fill-color);\n",
              "      border-bottom-color: var(--fill-color);\n",
              "    }\n",
              "    90% {\n",
              "      border-color: transparent;\n",
              "      border-bottom-color: var(--fill-color);\n",
              "    }\n",
              "  }\n",
              "</style>\n",
              "\n",
              "  <script>\n",
              "    async function quickchart(key) {\n",
              "      const quickchartButtonEl =\n",
              "        document.querySelector('#' + key + ' button');\n",
              "      quickchartButtonEl.disabled = true;  // To prevent multiple clicks.\n",
              "      quickchartButtonEl.classList.add('colab-df-spinner');\n",
              "      try {\n",
              "        const charts = await google.colab.kernel.invokeFunction(\n",
              "            'suggestCharts', [key], {});\n",
              "      } catch (error) {\n",
              "        console.error('Error during call to suggestCharts:', error);\n",
              "      }\n",
              "      quickchartButtonEl.classList.remove('colab-df-spinner');\n",
              "      quickchartButtonEl.classList.add('colab-df-quickchart-complete');\n",
              "    }\n",
              "    (() => {\n",
              "      let quickchartButtonEl =\n",
              "        document.querySelector('#df-b3f9b551-b536-4127-8c70-8dc63fe7b324 button');\n",
              "      quickchartButtonEl.style.display =\n",
              "        google.colab.kernel.accessAllowed ? 'block' : 'none';\n",
              "    })();\n",
              "  </script>\n",
              "</div>\n",
              "\n",
              "    </div>\n",
              "  </div>\n"
            ],
            "application/vnd.google.colaboratory.intrinsic+json": {
              "type": "dataframe",
              "summary": "{\n  \"name\": \"pd\",\n  \"rows\": 42,\n  \"fields\": [\n    {\n      \"column\": \"mean_fit_time\",\n      \"properties\": {\n        \"dtype\": \"number\",\n        \"std\": 0.00022490213238554837,\n        \"min\": 0.001561880111694336,\n        \"max\": 0.002649341310773577,\n        \"num_unique_values\": 42,\n        \"samples\": [\n          0.002649341310773577,\n          0.0019291469029017857,\n          0.0019045897892543248\n        ],\n        \"semantic_type\": \"\",\n        \"description\": \"\"\n      }\n    },\n    {\n      \"column\": \"std_fit_time\",\n      \"properties\": {\n        \"dtype\": \"number\",\n        \"std\": 0.0002452221806725422,\n        \"min\": 1.879681171162865e-05,\n        \"max\": 0.0013251520665332659,\n        \"num_unique_values\": 42,\n        \"samples\": [\n          0.0013251520665332659,\n          3.6687002489255875e-05,\n          6.322234165533811e-05\n        ],\n        \"semantic_type\": \"\",\n        \"description\": \"\"\n      }\n    },\n    {\n      \"column\": \"mean_score_time\",\n      \"properties\": {\n        \"dtype\": \"number\",\n        \"std\": 0.0001479542386299818,\n        \"min\": 0.0010675702776227678,\n        \"max\": 0.002043485641479492,\n        \"num_unique_values\": 42,\n        \"samples\": [\n          0.002043485641479492,\n          0.001252889633178711,\n          0.001260723386492048\n        ],\n        \"semantic_type\": \"\",\n        \"description\": \"\"\n      }\n    },\n    {\n      \"column\": \"std_score_time\",\n      \"properties\": {\n        \"dtype\": \"number\",\n        \"std\": 0.00025854628624419796,\n        \"min\": 1.153174393492398e-05,\n        \"max\": 0.0015197592873685878,\n        \"num_unique_values\": 42,\n        \"samples\": [\n          0.0015197592873685878,\n          2.7847919904897658e-05,\n          5.2613688846686085e-05\n        ],\n        \"semantic_type\": \"\",\n        \"description\": \"\"\n      }\n    },\n    {\n      \"column\": \"param_linearregression__fit_intercept\",\n      \"properties\": {\n        \"dtype\": \"boolean\",\n        \"num_unique_values\": 2,\n        \"samples\": [\n          false,\n          true\n        ],\n        \"semantic_type\": \"\",\n        \"description\": \"\"\n      }\n    },\n    {\n      \"column\": \"param_polynomialfeatures__degree\",\n      \"properties\": {\n        \"dtype\": \"number\",\n        \"std\": 6,\n        \"min\": 0,\n        \"max\": 20,\n        \"num_unique_values\": 21,\n        \"samples\": [\n          0,\n          17\n        ],\n        \"semantic_type\": \"\",\n        \"description\": \"\"\n      }\n    },\n    {\n      \"column\": \"params\",\n      \"properties\": {\n        \"dtype\": \"object\",\n        \"semantic_type\": \"\",\n        \"description\": \"\"\n      }\n    },\n    {\n      \"column\": \"split0_test_score\",\n      \"properties\": {\n        \"dtype\": \"number\",\n        \"std\": 0.32810760897325236,\n        \"min\": -0.6024664309487888,\n        \"max\": 0.9548191335710007,\n        \"num_unique_values\": 41,\n        \"samples\": [\n          0.9229813190572146,\n          0.8682826460802909\n        ],\n        \"semantic_type\": \"\",\n        \"description\": \"\"\n      }\n    },\n    {\n      \"column\": \"split1_test_score\",\n      \"properties\": {\n        \"dtype\": \"number\",\n        \"std\": 0.2663283181646394,\n        \"min\": -0.020453886778464048,\n        \"max\": 0.8918995652071648,\n        \"num_unique_values\": 41,\n        \"samples\": [\n          0.7912236296805341,\n          0.823862226994615\n        ],\n        \"semantic_type\": \"\",\n        \"description\": \"\"\n      }\n    },\n    {\n      \"column\": \"split2_test_score\",\n      \"properties\": {\n        \"dtype\": \"number\",\n        \"std\": 0.898393164488436,\n        \"min\": -2.078159286772313,\n        \"max\": 0.9637358321826661,\n        \"num_unique_values\": 42,\n        \"samples\": [\n          0.9153217652089574,\n          0.9032453226627877\n        ],\n        \"semantic_type\": \"\",\n        \"description\": \"\"\n      }\n    },\n    {\n      \"column\": \"split3_test_score\",\n      \"properties\": {\n        \"dtype\": \"number\",\n        \"std\": 4237478.640235158,\n        \"min\": -19488542.94898077,\n        \"max\": 0.8129545753872074,\n        \"num_unique_values\": 40,\n        \"samples\": [\n          -4036506.6051462917,\n          -270685.78571986704\n        ],\n        \"semantic_type\": \"\",\n        \"description\": \"\"\n      }\n    },\n    {\n      \"column\": \"split4_test_score\",\n      \"properties\": {\n        \"dtype\": \"number\",\n        \"std\": 505.407132844203,\n        \"min\": -2282.052038512517,\n        \"max\": 0.9756825288239335,\n        \"num_unique_values\": 41,\n        \"samples\": [\n          0.9663324834303079,\n          0.9518657928299986\n        ],\n        \"semantic_type\": \"\",\n        \"description\": \"\"\n      }\n    },\n    {\n      \"column\": \"split5_test_score\",\n      \"properties\": {\n        \"dtype\": \"number\",\n        \"std\": 71057.0574341212,\n        \"min\": -312229.3694389523,\n        \"max\": 0.954962840054635,\n        \"num_unique_values\": 40,\n        \"samples\": [\n          -128269.55319816824,\n          -21198.872935788586\n        ],\n        \"semantic_type\": \"\",\n        \"description\": \"\"\n      }\n    },\n    {\n      \"column\": \"split6_test_score\",\n      \"properties\": {\n        \"dtype\": \"number\",\n        \"std\": 491.023978445221,\n        \"min\": -3181.4773166931823,\n        \"max\": 0.9227522258145459,\n        \"num_unique_values\": 42,\n        \"samples\": [\n          0.9180817885689397,\n          0.6599383807202147\n        ],\n        \"semantic_type\": \"\",\n        \"description\": \"\"\n      }\n    },\n    {\n      \"column\": \"mean_test_score\",\n      \"properties\": {\n        \"dtype\": \"number\",\n        \"std\": 615384.2933803638,\n        \"min\": -2828859.5853536283,\n        \"max\": 0.8972710305736532,\n        \"num_unique_values\": 41,\n        \"samples\": [\n          0.8972710305736532,\n          -1008.5193802133679\n        ],\n        \"semantic_type\": \"\",\n        \"description\": \"\"\n      }\n    },\n    {\n      \"column\": \"std_test_score\",\n      \"properties\": {\n        \"dtype\": \"number\",\n        \"std\": 1478859.3138487502,\n        \"min\": 0.05559181880827218,\n        \"max\": 6802132.296695133,\n        \"num_unique_values\": 42,\n        \"samples\": [\n          0.0678403889363425,\n          2469.817027576524\n        ],\n        \"semantic_type\": \"\",\n        \"description\": \"\"\n      }\n    },\n    {\n      \"column\": \"rank_test_score\",\n      \"properties\": {\n        \"dtype\": \"int32\",\n        \"num_unique_values\": 41,\n        \"samples\": [\n          1,\n          29\n        ],\n        \"semantic_type\": \"\",\n        \"description\": \"\"\n      }\n    }\n  ]\n}"
            }
          },
          "metadata": {},
          "execution_count": 44
        }
      ]
    },
    {
      "cell_type": "markdown",
      "metadata": {
        "deletable": true,
        "editable": true,
        "id": "CV506t1hWVPr"
      },
      "source": [
        "Now that the model is fit, we can ask for the best parameters as follows:"
      ]
    },
    {
      "cell_type": "code",
      "execution_count": 34,
      "metadata": {
        "deletable": true,
        "editable": true,
        "jupyter": {
          "outputs_hidden": false
        },
        "colab": {
          "base_uri": "https://localhost:8080/"
        },
        "id": "NIN7WcA7WVPr",
        "outputId": "2a4e9202-52a0-4047-b7eb-3e09a3949dcf"
      },
      "outputs": [
        {
          "output_type": "execute_result",
          "data": {
            "text/plain": [
              "{'linearregression__fit_intercept': False, 'polynomialfeatures__degree': 4}"
            ]
          },
          "metadata": {},
          "execution_count": 34
        }
      ],
      "source": [
        "grid.best_params_"
      ]
    },
    {
      "cell_type": "markdown",
      "metadata": {
        "deletable": true,
        "editable": true,
        "id": "LTGlh7yuWVPr"
      },
      "source": [
        "Finally, if we wish, we can use the best model and show the fit to our data using code from before (see the following figure):"
      ]
    },
    {
      "cell_type": "code",
      "execution_count": 22,
      "metadata": {
        "deletable": true,
        "editable": true,
        "jupyter": {
          "outputs_hidden": false
        },
        "colab": {
          "base_uri": "https://localhost:8080/",
          "height": 425
        },
        "id": "VylSSpnyWVPr",
        "outputId": "f3097df5-cbae-4e70-d9cd-50ecd2994f4d"
      },
      "outputs": [
        {
          "output_type": "display_data",
          "data": {
            "text/plain": [
              "<Figure size 640x480 with 1 Axes>"
            ],
            "image/png": "[encoded data removed]"
          },
          "metadata": {}
        }
      ],
      "source": [
        "model = grid.best_estimator_\n",
        "\n",
        "plt.scatter(X.ravel(), y)\n",
        "lim = plt.axis()\n",
        "y_test = model.fit(X, y).predict(X_test)\n",
        "plt.plot(X_test.ravel(), y_test);\n",
        "plt.axis(lim);"
      ]
    },
    {
      "cell_type": "markdown",
      "metadata": {
        "deletable": true,
        "editable": true,
        "id": "ip1qeKzBWVPr"
      },
      "source": [
        "Other options in `GridSearchCV` include the ability to specify a custom scoring function, to parallelize the computations, to do randomized searches, and more.\n",
        "For more information, see the examples in [In-Depth: Kernel Density Estimation](05.13-Kernel-Density-Estimation.ipynb) and [Feature Engineering: Working with Images](05.14-Image-Features.ipynb), or refer to Scikit-Learn's [grid search documentation](http://Scikit-Learn.org/stable/modules/grid_search.html)."
      ]
    },
    {
      "cell_type": "markdown",
      "metadata": {
        "deletable": true,
        "editable": true,
        "id": "juInA0yAWVPr"
      },
      "source": [
        "## Summary\n",
        "\n",
        "In this chapter we began to explore the concept of model validation and hyperparameter optimization, focusing on intuitive aspects of the bias–variance trade-off and how it comes into play when fitting models to data.\n",
        "In particular, we found that the use of a validation set or cross-validation approach is vital when tuning parameters in order to avoid overfitting for more complex/flexible models.\n",
        "\n",
        "In later chapters, we will discuss the details of particularly useful models, what tuning is available for these models, and how these free parameters affect model complexity.\n",
        "Keep the lessons of this chapter in mind as you read on and learn about these machine learning approaches!"
      ]
    }
  ],
  "metadata": {
    "anaconda-cloud": {},
    "jupytext": {
      "formats": "ipynb,md"
    },
    "kernelspec": {
      "display_name": "Python 3.9.6 64-bit ('3.9.6')",
      "language": "python",
      "name": "python3"
    },
    "language_info": {
      "codemirror_mode": {
        "name": "ipython",
        "version": 3
      },
      "file_extension": ".py",
      "mimetype": "text/x-python",
      "name": "python",
      "nbconvert_exporter": "python",
      "pygments_lexer": "ipython3",
      "version": "3.9.6"
    },
    "vscode": {
      "interpreter": {
        "hash": "513788764cd0ec0f97313d5418a13e1ea666d16d72f976a8acadce25a5af2ffc"
      }
    },
    "colab": {
      "provenance": []
    }
  },
  "nbformat": 4,
  "nbformat_minor": 0
}