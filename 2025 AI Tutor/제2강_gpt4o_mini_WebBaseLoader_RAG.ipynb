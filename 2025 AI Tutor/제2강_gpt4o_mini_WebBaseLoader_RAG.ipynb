{
  "cells": [
    {
      "cell_type": "markdown",
      "metadata": {
        "id": "view-in-github",
        "colab_type": "text"
      },
      "source": [
        "<a href=\"https://colab.research.google.com/github/ancestor9/Gyeongbok-AI-study/blob/main/2025%20AI%20Tutor/%EC%A0%9C2%EA%B0%95_gpt4o_mini_WebBaseLoader_RAG.ipynb\" target=\"_parent\"><img src=\"https://colab.research.google.com/assets/colab-badge.svg\" alt=\"Open In Colab\"/></a>"
      ]
    },
    {
      "cell_type": "markdown",
      "id": "83efc973-52a7-4dd7-a1fd-f0e24729c061",
      "metadata": {
        "id": "83efc973-52a7-4dd7-a1fd-f0e24729c061"
      },
      "source": [
        "# Part2: RAG (Retrieval-Augmented Generation)\n",
        "- 모델의 학습 데이터에 포함되지 않은 데이터를 사용 (환각 방지)\n",
        "- **외부 데이터**를 검색(retrieval)한 후, 생성(generation) 단계에서 LLM에 전달\n",
        "- 모델은 주어진 컨텍스트나 질문에 더 적합하고 풍부한 정보를 반영한 답변을 생성\n",
        "- 논문: https://arxiv.org/abs/2005.11401"
      ]
    },
    {
      "cell_type": "markdown",
      "source": [
        "## 0. 환경 구성"
      ],
      "metadata": {
        "id": "DEJbhYzzUZ-K"
      },
      "id": "DEJbhYzzUZ-K"
    },
    {
      "cell_type": "markdown",
      "source": [
        "### 1) 라이브러리 설치"
      ],
      "metadata": {
        "id": "1F5lTDp5UPf0"
      },
      "id": "1F5lTDp5UPf0"
    },
    {
      "cell_type": "code",
      "execution_count": 1,
      "id": "4cd87a33-0a37-461b-8f37-3c142e60b1f6",
      "metadata": {
        "id": "4cd87a33-0a37-461b-8f37-3c142e60b1f6",
        "colab": {
          "base_uri": "https://localhost:8080/"
        },
        "outputId": "f2904640-81bf-4836-8842-f47738e5cf28"
      },
      "outputs": [
        {
          "output_type": "stream",
          "name": "stdout",
          "text": [
            "\u001b[?25l     \u001b[90m━━━━━━━━━━━━━━━━━━━━━━━━━━━━━━━━━━━━━━━━\u001b[0m \u001b[32m0.0/67.3 kB\u001b[0m \u001b[31m?\u001b[0m eta \u001b[36m-:--:--\u001b[0m\r\u001b[2K     \u001b[90m━━━━━━━━━━━━━━━━━━━━━━━━━━━━━━━━━━━━━━━━\u001b[0m \u001b[32m67.3/67.3 kB\u001b[0m \u001b[31m2.6 MB/s\u001b[0m eta \u001b[36m0:00:00\u001b[0m\n",
            "\u001b[?25h  Installing build dependencies ... \u001b[?25l\u001b[?25hdone\n",
            "  Getting requirements to build wheel ... \u001b[?25l\u001b[?25hdone\n",
            "  Preparing metadata (pyproject.toml) ... \u001b[?25l\u001b[?25hdone\n",
            "\u001b[2K   \u001b[90m━━━━━━━━━━━━━━━━━━━━━━━━━━━━━━━━━━━━━━━━\u001b[0m \u001b[32m62.4/62.4 kB\u001b[0m \u001b[31m5.3 MB/s\u001b[0m eta \u001b[36m0:00:00\u001b[0m\n",
            "\u001b[2K   \u001b[90m━━━━━━━━━━━━━━━━━━━━━━━━━━━━━━━━━━━━━━━━\u001b[0m \u001b[32m2.5/2.5 MB\u001b[0m \u001b[31m91.9 MB/s\u001b[0m eta \u001b[36m0:00:00\u001b[0m\n",
            "\u001b[2K   \u001b[90m━━━━━━━━━━━━━━━━━━━━━━━━━━━━━━━━━━━━━━━━\u001b[0m \u001b[32m1.2/1.2 MB\u001b[0m \u001b[31m71.8 MB/s\u001b[0m eta \u001b[36m0:00:00\u001b[0m\n",
            "\u001b[2K   \u001b[90m━━━━━━━━━━━━━━━━━━━━━━━━━━━━━━━━━━━━━━━━\u001b[0m \u001b[32m18.3/18.3 MB\u001b[0m \u001b[31m117.1 MB/s\u001b[0m eta \u001b[36m0:00:00\u001b[0m\n",
            "\u001b[2K   \u001b[90m━━━━━━━━━━━━━━━━━━━━━━━━━━━━━━━━━━━━━━━━\u001b[0m \u001b[32m2.4/2.4 MB\u001b[0m \u001b[31m82.5 MB/s\u001b[0m eta \u001b[36m0:00:00\u001b[0m\n",
            "\u001b[2K   \u001b[90m━━━━━━━━━━━━━━━━━━━━━━━━━━━━━━━━━━━━━━━━\u001b[0m \u001b[32m94.9/94.9 kB\u001b[0m \u001b[31m7.7 MB/s\u001b[0m eta \u001b[36m0:00:00\u001b[0m\n",
            "\u001b[2K   \u001b[90m━━━━━━━━━━━━━━━━━━━━━━━━━━━━━━━━━━━━━━━━\u001b[0m \u001b[32m284.2/284.2 kB\u001b[0m \u001b[31m21.3 MB/s\u001b[0m eta \u001b[36m0:00:00\u001b[0m\n",
            "\u001b[2K   \u001b[90m━━━━━━━━━━━━━━━━━━━━━━━━━━━━━━━━━━━━━━━━\u001b[0m \u001b[32m2.0/2.0 MB\u001b[0m \u001b[31m84.2 MB/s\u001b[0m eta \u001b[36m0:00:00\u001b[0m\n",
            "\u001b[2K   \u001b[90m━━━━━━━━━━━━━━━━━━━━━━━━━━━━━━━━━━━━━━━━\u001b[0m \u001b[32m433.9/433.9 kB\u001b[0m \u001b[31m31.1 MB/s\u001b[0m eta \u001b[36m0:00:00\u001b[0m\n",
            "\u001b[2K   \u001b[90m━━━━━━━━━━━━━━━━━━━━━━━━━━━━━━━━━━━━━━━━\u001b[0m \u001b[32m101.6/101.6 kB\u001b[0m \u001b[31m8.9 MB/s\u001b[0m eta \u001b[36m0:00:00\u001b[0m\n",
            "\u001b[2K   \u001b[90m━━━━━━━━━━━━━━━━━━━━━━━━━━━━━━━━━━━━━━━━\u001b[0m \u001b[32m16.0/16.0 MB\u001b[0m \u001b[31m111.0 MB/s\u001b[0m eta \u001b[36m0:00:00\u001b[0m\n",
            "\u001b[2K   \u001b[90m━━━━━━━━━━━━━━━━━━━━━━━━━━━━━━━━━━━━━━━━\u001b[0m \u001b[32m55.9/55.9 kB\u001b[0m \u001b[31m5.2 MB/s\u001b[0m eta \u001b[36m0:00:00\u001b[0m\n",
            "\u001b[2K   \u001b[90m━━━━━━━━━━━━━━━━━━━━━━━━━━━━━━━━━━━━━━━━\u001b[0m \u001b[32m89.1/89.1 kB\u001b[0m \u001b[31m9.0 MB/s\u001b[0m eta \u001b[36m0:00:00\u001b[0m\n",
            "\u001b[2K   \u001b[90m━━━━━━━━━━━━━━━━━━━━━━━━━━━━━━━━━━━━━━━━\u001b[0m \u001b[32m44.4/44.4 kB\u001b[0m \u001b[31m3.1 MB/s\u001b[0m eta \u001b[36m0:00:00\u001b[0m\n",
            "\u001b[2K   \u001b[90m━━━━━━━━━━━━━━━━━━━━━━━━━━━━━━━━━━━━━━━━\u001b[0m \u001b[32m62.5/62.5 kB\u001b[0m \u001b[31m5.3 MB/s\u001b[0m eta \u001b[36m0:00:00\u001b[0m\n",
            "\u001b[2K   \u001b[90m━━━━━━━━━━━━━━━━━━━━━━━━━━━━━━━━━━━━━━━━\u001b[0m \u001b[32m459.8/459.8 kB\u001b[0m \u001b[31m34.5 MB/s\u001b[0m eta \u001b[36m0:00:00\u001b[0m\n",
            "\u001b[2K   \u001b[90m━━━━━━━━━━━━━━━━━━━━━━━━━━━━━━━━━━━━━━━━\u001b[0m \u001b[32m50.9/50.9 kB\u001b[0m \u001b[31m4.4 MB/s\u001b[0m eta \u001b[36m0:00:00\u001b[0m\n",
            "\u001b[2K   \u001b[90m━━━━━━━━━━━━━━━━━━━━━━━━━━━━━━━━━━━━━━━━\u001b[0m \u001b[32m71.5/71.5 kB\u001b[0m \u001b[31m6.8 MB/s\u001b[0m eta \u001b[36m0:00:00\u001b[0m\n",
            "\u001b[2K   \u001b[90m━━━━━━━━━━━━━━━━━━━━━━━━━━━━━━━━━━━━━━━━\u001b[0m \u001b[32m4.0/4.0 MB\u001b[0m \u001b[31m103.7 MB/s\u001b[0m eta \u001b[36m0:00:00\u001b[0m\n",
            "\u001b[2K   \u001b[90m━━━━━━━━━━━━━━━━━━━━━━━━━━━━━━━━━━━━━━━━\u001b[0m \u001b[32m454.8/454.8 kB\u001b[0m \u001b[31m33.5 MB/s\u001b[0m eta \u001b[36m0:00:00\u001b[0m\n",
            "\u001b[2K   \u001b[90m━━━━━━━━━━━━━━━━━━━━━━━━━━━━━━━━━━━━━━━━\u001b[0m \u001b[32m46.0/46.0 kB\u001b[0m \u001b[31m4.0 MB/s\u001b[0m eta \u001b[36m0:00:00\u001b[0m\n",
            "\u001b[2K   \u001b[90m━━━━━━━━━━━━━━━━━━━━━━━━━━━━━━━━━━━━━━━━\u001b[0m \u001b[32m86.8/86.8 kB\u001b[0m \u001b[31m7.5 MB/s\u001b[0m eta \u001b[36m0:00:00\u001b[0m\n",
            "\u001b[?25h  Building wheel for pypika (pyproject.toml) ... \u001b[?25l\u001b[?25hdone\n"
          ]
        }
      ],
      "source": [
        "!pip install -q langchain langchain-openai langchain_community tiktoken chromadb"
      ]
    },
    {
      "cell_type": "code",
      "source": [
        "import langchain\n",
        "\n",
        "langchain.__version__"
      ],
      "metadata": {
        "id": "si0unLA0n8Po",
        "colab": {
          "base_uri": "https://localhost:8080/",
          "height": 35
        },
        "outputId": "bc674bfe-09df-4ad8-f05b-2139061e6c88"
      },
      "id": "si0unLA0n8Po",
      "execution_count": 2,
      "outputs": [
        {
          "output_type": "execute_result",
          "data": {
            "text/plain": [
              "'0.3.23'"
            ],
            "application/vnd.google.colaboratory.intrinsic+json": {
              "type": "string"
            }
          },
          "metadata": {},
          "execution_count": 2
        }
      ]
    },
    {
      "cell_type": "markdown",
      "id": "55152049-e9e5-4952-8e19-409f58cf3ac9",
      "metadata": {
        "id": "55152049-e9e5-4952-8e19-409f58cf3ac9"
      },
      "source": [
        "### 2) OpenAI 인증키 설정\n",
        "https://openai.com/"
      ]
    },
    {
      "cell_type": "code",
      "execution_count": 3,
      "id": "b76f68a8-4745-4377-8057-6090b87377d1",
      "metadata": {
        "id": "b76f68a8-4745-4377-8057-6090b87377d1"
      },
      "outputs": [],
      "source": [
        "from google.colab import userdata\n",
        "apikey  = userdata.get('openapi')\n",
        "\n",
        "import os\n",
        "os.environ['OPENAI_API_KEY'] = apikey"
      ]
    },
    {
      "cell_type": "markdown",
      "source": [
        "## 1. RAG 파이프라인 개요\n",
        "- Load Data - Text Split - Indexing - Retrieval - Generation\n",
        "\n",
        "### **1.1. WebBaseLoader (Loading from URL)**"
      ],
      "metadata": {
        "id": "NU1VnNaZN2-d"
      },
      "id": "NU1VnNaZN2-d"
    },
    {
      "cell_type": "markdown",
      "source": [
        "##### Step 1: Load Data"
      ],
      "metadata": {
        "id": "PufJBHgTaA-L"
      },
      "id": "PufJBHgTaA-L"
    },
    {
      "cell_type": "code",
      "execution_count": 4,
      "id": "6f5e3a62-f0a8-4d03-b983-d33de460d229",
      "metadata": {
        "id": "6f5e3a62-f0a8-4d03-b983-d33de460d229",
        "colab": {
          "base_uri": "https://localhost:8080/"
        },
        "outputId": "87c1c3eb-bc12-4caa-ea34-692c60fcbeba"
      },
      "outputs": [
        {
          "output_type": "stream",
          "name": "stderr",
          "text": [
            "WARNING:langchain_community.utils.user_agent:USER_AGENT environment variable not set, consider setting it to identify your requests.\n"
          ]
        },
        {
          "output_type": "stream",
          "name": "stdout",
          "text": [
            "1\n",
            "13300\n",
            "공동체의 규범을 총체적으로 어기고 있다면 규범 준수를 위해 좀 더 빠르게 강력한 수단을 이용해야 합니다. 특히 정책 문서에 명시된 원칙을 지키지 않는 것은 대부분의 경우 다른 사용자에게 받아들여지지 않습니다 (다른 분들에게 예외 상황임을 설득할 수 있다면 가능하기는 하지만요). 이는 당신을 포함해서 편집자 개개인이 정책과 지침을 직접 집행 및 적용한다는 것을 의미합니다.\n",
            "특정 사용자가 명백히 정책에 반하는 행동을 하거나 정책과 상충되는 방식으로 지침을 어기는 경우, 특히 의도적이고 지속적으로 그런 행위를 하는 경우 해당 사용자는 관리자의 제재 조치로 일시적, 혹은 영구적으로 편집이 차단될 수 있습니다. 영어판을 비롯한 타 언어판에서는 일반적인 분쟁 해결 절차로 끝낼 수 없는 사안은 중재위원회가 개입하기도 합니다.\n",
            "\n",
            "문서 내용\n",
            "정책과 지침의 문서 내용은 처음 읽는 사용자라도 원칙과 규범을 잘 이해할 수 있도록 다음 원칙을 지켜야 합니다.\n",
            "\n",
            "명확하게 작성하세요. 소수만 알아듣거나 준법률적인 단어, 혹은 지나치게 단순한 표현은 피해야 합니다. 명확하고, 직접적이고, 모호하지 않고, 구체적으로 작성하세요. 지나치게 상투적인 표현이나 일반론은 피하세요. 지침, 도움말 문서 및 기타 정보문 문서에서도 \"해야 합니다\" 혹은 \"하지 말아야 합니다\" 같이 직접적인 표현을 굳이 꺼릴 필요는 없습니다.\n",
            "가능한 간결하게, 너무 단순하지는 않게. 정책이 중언부언하면 오해를 부릅니다. 불필요한 말은 생략하세요. 직접적이고 간결한 설명이 마구잡이식 예시 나열보다 더 이해하기 쉽습니다. 각주나 관련 문서 링크를 이용하여 더 상세히 설명할 수도 있습니다.\n",
            "규칙을 만든 의도를 강조하세요. 사용자들이 상식대로 행동하리라 기대하세요. 정책의 의도가 명료하다면, 추가 설명은 필요 없죠. 즉 규칙을 '어떻게' 지키는지와 더불어 '왜' 지켜야 하는지 확실하게 밝혀야 합니다.\n",
            "범위는 분명히, 중복은 피하기. 되도록 앞부분에서 정책 및 지침의 목적과 범위를 분명하게 밝혀야 합니다. 독자 대부분은 도입부 \n"
          ]
        }
      ],
      "source": [
        "# Data Loader - 웹페이지 데이터 가져오기\n",
        "from langchain_community.document_loaders import WebBaseLoader\n",
        "\n",
        "# 위키피디아 정책과 지침\n",
        "url = 'https://ko.wikipedia.org/wiki/%EC%9C%84%ED%82%A4%EB%B0%B1%EA%B3%BC:%EC%A0%95%EC%B1%85%EA%B3%BC_%EC%A7%80%EC%B9%A8'\n",
        "loader = WebBaseLoader(url)\n",
        "\n",
        "# 웹페이지 텍스트 -> Documents\n",
        "docs = loader.load()\n",
        "\n",
        "print(len(docs))\n",
        "print(len(docs[0].page_content))\n",
        "print(docs[0].page_content[5000:6000])"
      ]
    },
    {
      "cell_type": "markdown",
      "source": [
        "##### Step 2: Split texts"
      ],
      "metadata": {
        "id": "vzBeboLlaIuy"
      },
      "id": "vzBeboLlaIuy"
    },
    {
      "cell_type": "code",
      "execution_count": 5,
      "id": "c64f653d-dcfb-432b-b090-40476aa4c29c",
      "metadata": {
        "id": "c64f653d-dcfb-432b-b090-40476aa4c29c",
        "outputId": "7f4a67d2-3967-4b12-ceeb-0d582a0d55e9",
        "colab": {
          "base_uri": "https://localhost:8080/"
        }
      },
      "outputs": [
        {
          "output_type": "stream",
          "name": "stdout",
          "text": [
            "19\n",
            "page_content='제안과 채택\n",
            " 백:아님 § 관료주의  문서를 참고하십시오. 단축백:제안\n",
            "제안 문서란 정책과 지침으로 채택하자고 의견을 묻는 문서이나 아직 위키백과 내에 받아들여지는 원칙으로 확립되지는 않은 문서입니다. {{제안}} 틀을 붙여 공동체 내에서 정책이나 지침으로 채택할 지 의견을 물을 수 있습니다. 제안 문서는 정책과 지침이 아니므로 아무리 실제 있는 정책이나 지침을 요약하거나 인용해서 다른 문서에 쓴다고 해도 함부로 정책이나 지침 틀을 붙여서는 안 됩니다.\n",
            "'제안'은 완전 새로운 원칙이라기보다, 기존의 불문율이나 토론 총의의 문서를 통한 구체화에 가깝습니다. 많은 사람들이 쉽게 제안을 받아들이도록 하기 위해서는, 기초적인 원칙을 우선 정하고 기본 틀을 짜야 합니다. 정책과 지침의 기본 원칙은 \"왜 지켜야 하는가?\", \"어떻게 지켜야 하는가?\" 두 가지입니다. 특정 원칙을 정책이나 지침으로 확립하기 위해서는 우선 저 두 가지 물음에 성실하게 답하는 제안 문서를 작성해야 합니다.\n",
            "좋은 아이디어를 싣기 위해 사랑방이나 관련 위키프로젝트에 도움을 구해 피드백을 요청할 수 있습니다. 이 과정에서 공동체가 어느 정도 받아들일 수 있는 원칙이 구체화됩니다. 많은 이와의 토론을 통해 공감대가 형성되고 제안을 개선할 수 있습니다.\n",
            "정책이나 지침은 위키백과 내의 모든 편집자들에게 적용되는 원칙이므로 높은 수준의 총의가 요구됩니다. 제안 문서가 잘 짜여졌고 충분히 논의되었다면, 더 많은 공동체의 편집자와 논의를 하기 위해 승격 제안을 올려야 합니다. 제안 문서 맨 위에 {{제안}}을 붙여 제안 안건임을 알려주고, 토론 문서에 {{의견 요청}}을 붙인 뒤 채택 제안에 관한 토론 문단을 새로 만들면 됩니다. 많은 편집자들에게 알리기 위해 관련 내용을 {{위키백과 소식}}에 올리고 사랑방에 이를 공지해야 하며, 합의가 있을 경우 미디어위키의 sitenotice(위키백과 최상단에 노출되는 구역)에 공지할 수도 있습니다.' metadata={'source': 'https://ko.wikipedia.org/wiki/%EC%9C%84%ED%82%A4%EB%B0%B1%EA%B3%BC:%EC%A0%95%EC%B1%85%EA%B3%BC_%EC%A7%80%EC%B9%A8', 'title': '위키백과:정책과 지침 - 위키백과, 우리 모두의 백과사전', 'language': 'ko'}\n"
          ]
        }
      ],
      "source": [
        "# Text Split (Documents -> small chunks: Documents)\n",
        "from langchain.text_splitter import RecursiveCharacterTextSplitter\n",
        "\n",
        "text_splitter = RecursiveCharacterTextSplitter(chunk_size=1000, chunk_overlap=200)\n",
        "splits = text_splitter.split_documents(docs)\n",
        "\n",
        "print(len(splits))\n",
        "print(splits[10])"
      ]
    },
    {
      "cell_type": "code",
      "execution_count": 6,
      "id": "bc49bd43-5adb-4862-8134-78645ad068e7",
      "metadata": {
        "id": "bc49bd43-5adb-4862-8134-78645ad068e7",
        "outputId": "2563536b-268a-4873-d9f7-aeac35ee5311",
        "colab": {
          "base_uri": "https://localhost:8080/",
          "height": 163
        }
      },
      "outputs": [
        {
          "output_type": "execute_result",
          "data": {
            "text/plain": [
              "'제안과 채택\\n\\xa0백:아님 §\\xa0관료주의  문서를 참고하십시오. 단축백:제안\\n제안 문서란 정책과 지침으로 채택하자고 의견을 묻는 문서이나 아직 위키백과 내에 받아들여지는 원칙으로 확립되지는 않은 문서입니다. {{제안}} 틀을 붙여 공동체 내에서 정책이나 지침으로 채택할 지 의견을 물을 수 있습니다. 제안 문서는 정책과 지침이 아니므로 아무리 실제 있는 정책이나 지침을 요약하거나 인용해서 다른 문서에 쓴다고 해도 함부로 정책이나 지침 틀을 붙여서는 안 됩니다.\\n\\'제안\\'은 완전 새로운 원칙이라기보다, 기존의 불문율이나 토론 총의의 문서를 통한 구체화에 가깝습니다. 많은 사람들이 쉽게 제안을 받아들이도록 하기 위해서는, 기초적인 원칙을 우선 정하고 기본 틀을 짜야 합니다. 정책과 지침의 기본 원칙은 \"왜 지켜야 하는가?\", \"어떻게 지켜야 하는가?\" 두 가지입니다. 특정 원칙을 정책이나 지침으로 확립하기 위해서는 우선 저 두 가지 물음에 성실하게 답하는 제안 문서를 작성해야 합니다.\\n좋은 아이디어를 싣기 위해 사랑방이나 관련 위키프로젝트에 도움을 구해 피드백을 요청할 수 있습니다. 이 과정에서 공동체가 어느 정도 받아들일 수 있는 원칙이 구체화됩니다. 많은 이와의 토론을 통해 공감대가 형성되고 제안을 개선할 수 있습니다.\\n정책이나 지침은 위키백과 내의 모든 편집자들에게 적용되는 원칙이므로 높은 수준의 총의가 요구됩니다. 제안 문서가 잘 짜여졌고 충분히 논의되었다면, 더 많은 공동체의 편집자와 논의를 하기 위해 승격 제안을 올려야 합니다. 제안 문서 맨 위에 {{제안}}을 붙여 제안 안건임을 알려주고, 토론 문서에 {{의견 요청}}을 붙인 뒤 채택 제안에 관한 토론 문단을 새로 만들면 됩니다. 많은 편집자들에게 알리기 위해 관련 내용을 {{위키백과 소식}}에 올리고 사랑방에 이를 공지해야 하며, 합의가 있을 경우 미디어위키의 sitenotice(위키백과 최상단에 노출되는 구역)에 공지할 수도 있습니다.'"
            ],
            "application/vnd.google.colaboratory.intrinsic+json": {
              "type": "string"
            }
          },
          "metadata": {},
          "execution_count": 6
        }
      ],
      "source": [
        "# page_content 속성\n",
        "splits[10].page_content"
      ]
    },
    {
      "cell_type": "code",
      "execution_count": 7,
      "id": "91248b06-1161-4b2d-b6c3-707e6e5f8620",
      "metadata": {
        "id": "91248b06-1161-4b2d-b6c3-707e6e5f8620",
        "outputId": "5d6eda0c-b0e1-43a2-c937-9c07890a6410",
        "colab": {
          "base_uri": "https://localhost:8080/"
        }
      },
      "outputs": [
        {
          "output_type": "execute_result",
          "data": {
            "text/plain": [
              "{'source': 'https://ko.wikipedia.org/wiki/%EC%9C%84%ED%82%A4%EB%B0%B1%EA%B3%BC:%EC%A0%95%EC%B1%85%EA%B3%BC_%EC%A7%80%EC%B9%A8',\n",
              " 'title': '위키백과:정책과 지침 - 위키백과, 우리 모두의 백과사전',\n",
              " 'language': 'ko'}"
            ]
          },
          "metadata": {},
          "execution_count": 7
        }
      ],
      "source": [
        "# metadata 속성\n",
        "splits[10].metadata"
      ]
    },
    {
      "cell_type": "markdown",
      "source": [
        "##### Step 3: Indexing"
      ],
      "metadata": {
        "id": "-PLZMd4baaLc"
      },
      "id": "-PLZMd4baaLc"
    },
    {
      "cell_type": "code",
      "source": [
        "# Indexing (Texts -> Embedding -> Store)\n",
        "from langchain_community.vectorstores import Chroma\n",
        "from langchain_openai import OpenAIEmbeddings\n",
        "\n",
        "vectorstore = Chroma.from_documents(documents=splits,\n",
        "                                    embedding=OpenAIEmbeddings())\n",
        "\n",
        "docs = vectorstore.similarity_search(\"격하 과정에 대해서 설명해주세요.\")\n",
        "# 디폴트로 model_name=\"text-embedding-ada-002\"가 사용됨\n",
        "\n",
        "print(len(docs))\n",
        "print(docs[0].page_content)"
      ],
      "metadata": {
        "colab": {
          "base_uri": "https://localhost:8080/"
        },
        "id": "0ljkpK0Og2LV",
        "outputId": "b2234d0f-1e8a-4c42-c520-0295d21126a0"
      },
      "id": "0ljkpK0Og2LV",
      "execution_count": 8,
      "outputs": [
        {
          "output_type": "stream",
          "name": "stdout",
          "text": [
            "4\n",
            "격하\n",
            "특정 정책이나 지침이 편집 관행이나 공동체 규범이 바뀌며 쓸모없어질 수 있고, 다른 문서가 개선되어 내용이 중복될 수 있으며, 불필요한 내용이 증식할 수도 있습니다. 이 경우 편집자들은 정책을 지침으로 격하하거나, 정책 또는 지침을 보충 설명, 정보문, 수필 또는 중단 문서로 격하할 것을 제안할 수 있습니다. \n",
            "격하 과정은 채택 과정과 비슷합니다. 일반적으로 토론 문서 내 논의가 시작되고 프로젝트 문서 상단에 {{새로운 토론|문단=진행 중인 토론 문단}} 틀을 붙여 공동체의 참여를 요청합니다. 논의가 충분히 이루어진 후, 제3의 편집자가 토론을 종료하고 평가한 후 상태 변경 총의가 형성되었는지 판단해야 합니다. 폐지된 정책이나 지침은 최상단에 {{중단}} 틀을 붙여 더 이상 사용하지 않는 정책/지침임을 알립니다.\n",
            "소수의 공동체 인원만 지지하는 수필, 정보문 및 기타 비공식 문서는 일반적으로 주된 작성자의 사용자 이름공간으로 이동합니다. 이러한 논의는 일반적으로 해당 문서의 토론란에서 이루어지며, 간혹 위키백과:의견 요청을 통해 처리되기도 합니다.\n",
            "\n",
            "같이 보기\n",
            "위키백과:위키백과의 정책과 지침 목록\n",
            "위키백과:의견 요청\n",
            "수필\n",
            "\n",
            "위키백과:제품, 절차, 정책\n",
            "위키백과:위키백과 공동체의 기대와 규범\n",
            "기타 링크\n"
          ]
        }
      ]
    },
    {
      "cell_type": "markdown",
      "source": [
        "##### Step 4: Retrieval ~ Generation"
      ],
      "metadata": {
        "id": "mYrHWwsnajPY"
      },
      "id": "mYrHWwsnajPY"
    },
    {
      "cell_type": "code",
      "execution_count": 9,
      "id": "e99275d3-abb2-4bc3-b783-2afc37d4b666",
      "metadata": {
        "id": "e99275d3-abb2-4bc3-b783-2afc37d4b666",
        "outputId": "761bb87b-e62d-4fa9-9715-d0837d1ee281",
        "colab": {
          "base_uri": "https://localhost:8080/",
          "height": 90
        }
      },
      "outputs": [
        {
          "output_type": "execute_result",
          "data": {
            "text/plain": [
              "'격하 과정은 특정 정책이나 지침이 더 이상 유효하지 않거나 쓸모없게 되었을 때 이를 낮추는 절차입니다. 이 과정은 채택 과정과 유사하게 진행됩니다. 일반적으로 토론 문서 내에서 논의가 시작되며, 프로젝트 문서 상단에 {{새로운 토론|문단=진행 중인 토론 문단}} 틀을 붙여 공동체의 참여를 요청합니다. 충분한 논의가 이루어진 후, 제3의 편집자가 토론을 종료하고 평가하여 상태 변경에 대한 총의가 형성되었는지 판단합니다. \\n\\n격하된 정책이나 지침은 최상단에 {{중단}} 틀을 붙여 더 이상 사용되지 않음을 알립니다. 소수의 공동체 인원만 지지하는 비공식 문서는 일반적으로 주된 작성자의 사용자 이름공간으로 이동됩니다. 이러한 논의는 해당 문서의 토론란에서 이루어지며, 때로는 위키백과:의견 요청을 통해 처리되기도 합니다.'"
            ],
            "application/vnd.google.colaboratory.intrinsic+json": {
              "type": "string"
            }
          },
          "metadata": {},
          "execution_count": 9
        }
      ],
      "source": [
        "from langchain_openai import ChatOpenAI\n",
        "from langchain_core.prompts import ChatPromptTemplate\n",
        "from langchain_core.runnables import RunnablePassthrough\n",
        "from langchain_core.output_parsers import StrOutputParser\n",
        "\n",
        "# Prompt\n",
        "template = '''Answer the question based only on the following context:\n",
        "{context}\n",
        "\n",
        "Question: {question}\n",
        "'''\n",
        "\n",
        "prompt = ChatPromptTemplate.from_template(template)\n",
        "\n",
        "# LLM\n",
        "model = ChatOpenAI(model='gpt-4o-mini', temperature=0)\n",
        "\n",
        "# Rretriever\n",
        "retriever = vectorstore.as_retriever()\n",
        "\n",
        "# Combine Documents\n",
        "def format_docs(docs):\n",
        "    return '\\n\\n'.join(doc.page_content for doc in docs)\n",
        "\n",
        "# RAG Chain 연결\n",
        "rag_chain = (\n",
        "    {'context': retriever | format_docs, 'question': RunnablePassthrough()}\n",
        "    | prompt\n",
        "    | model\n",
        "    | StrOutputParser()\n",
        ")\n",
        "\n",
        "# Chain 실행\n",
        "rag_chain.invoke(\"격하 과정에 대해서 설명해주세요.\")"
      ]
    },
    {
      "cell_type": "markdown",
      "source": [
        "### **1.2. RecursiveCharacterTextSplitter (Loading CSV 파일)**"
      ],
      "metadata": {
        "id": "JhGiL8__hEPs"
      },
      "id": "JhGiL8__hEPs"
    },
    {
      "cell_type": "code",
      "source": [
        "import pandas as pd\n",
        "from langchain.text_splitter import RecursiveCharacterTextSplitter\n",
        "\n",
        "# Load the CSV file into a DataFrame\n",
        "file_path = '/content/식품안전정보DB(2023)_sample.xlsx'  # Replace with your CSV file path\n",
        "data = pd.read_excel(file_path)\n",
        "data"
      ],
      "metadata": {
        "colab": {
          "base_uri": "https://localhost:8080/",
          "height": 353
        },
        "id": "BmaVhoEphylk",
        "outputId": "3a1edc98-a5ad-465f-afac-e453d49ddc0e"
      },
      "id": "BmaVhoEphylk",
      "execution_count": 10,
      "outputs": [
        {
          "output_type": "error",
          "ename": "FileNotFoundError",
          "evalue": "[Errno 2] No such file or directory: '/content/식품안전정보DB(2023)_sample.xlsx'",
          "traceback": [
            "\u001b[0;31m---------------------------------------------------------------------------\u001b[0m",
            "\u001b[0;31mFileNotFoundError\u001b[0m                         Traceback (most recent call last)",
            "\u001b[0;32m<ipython-input-10-b7f7d55d060c>\u001b[0m in \u001b[0;36m<cell line: 0>\u001b[0;34m()\u001b[0m\n\u001b[1;32m      4\u001b[0m \u001b[0;31m# Load the CSV file into a DataFrame\u001b[0m\u001b[0;34m\u001b[0m\u001b[0;34m\u001b[0m\u001b[0m\n\u001b[1;32m      5\u001b[0m \u001b[0mfile_path\u001b[0m \u001b[0;34m=\u001b[0m \u001b[0;34m'/content/식품안전정보DB(2023)_sample.xlsx'\u001b[0m  \u001b[0;31m# Replace with your CSV file path\u001b[0m\u001b[0;34m\u001b[0m\u001b[0;34m\u001b[0m\u001b[0m\n\u001b[0;32m----> 6\u001b[0;31m \u001b[0mdata\u001b[0m \u001b[0;34m=\u001b[0m \u001b[0mpd\u001b[0m\u001b[0;34m.\u001b[0m\u001b[0mread_excel\u001b[0m\u001b[0;34m(\u001b[0m\u001b[0mfile_path\u001b[0m\u001b[0;34m)\u001b[0m\u001b[0;34m\u001b[0m\u001b[0;34m\u001b[0m\u001b[0m\n\u001b[0m\u001b[1;32m      7\u001b[0m \u001b[0mdata\u001b[0m\u001b[0;34m\u001b[0m\u001b[0;34m\u001b[0m\u001b[0m\n",
            "\u001b[0;32m/usr/local/lib/python3.11/dist-packages/pandas/io/excel/_base.py\u001b[0m in \u001b[0;36mread_excel\u001b[0;34m(io, sheet_name, header, names, index_col, usecols, dtype, engine, converters, true_values, false_values, skiprows, nrows, na_values, keep_default_na, na_filter, verbose, parse_dates, date_parser, date_format, thousands, decimal, comment, skipfooter, storage_options, dtype_backend, engine_kwargs)\u001b[0m\n\u001b[1;32m    493\u001b[0m     \u001b[0;32mif\u001b[0m \u001b[0;32mnot\u001b[0m \u001b[0misinstance\u001b[0m\u001b[0;34m(\u001b[0m\u001b[0mio\u001b[0m\u001b[0;34m,\u001b[0m \u001b[0mExcelFile\u001b[0m\u001b[0;34m)\u001b[0m\u001b[0;34m:\u001b[0m\u001b[0;34m\u001b[0m\u001b[0;34m\u001b[0m\u001b[0m\n\u001b[1;32m    494\u001b[0m         \u001b[0mshould_close\u001b[0m \u001b[0;34m=\u001b[0m \u001b[0;32mTrue\u001b[0m\u001b[0;34m\u001b[0m\u001b[0;34m\u001b[0m\u001b[0m\n\u001b[0;32m--> 495\u001b[0;31m         io = ExcelFile(\n\u001b[0m\u001b[1;32m    496\u001b[0m             \u001b[0mio\u001b[0m\u001b[0;34m,\u001b[0m\u001b[0;34m\u001b[0m\u001b[0;34m\u001b[0m\u001b[0m\n\u001b[1;32m    497\u001b[0m             \u001b[0mstorage_options\u001b[0m\u001b[0;34m=\u001b[0m\u001b[0mstorage_options\u001b[0m\u001b[0;34m,\u001b[0m\u001b[0;34m\u001b[0m\u001b[0;34m\u001b[0m\u001b[0m\n",
            "\u001b[0;32m/usr/local/lib/python3.11/dist-packages/pandas/io/excel/_base.py\u001b[0m in \u001b[0;36m__init__\u001b[0;34m(self, path_or_buffer, engine, storage_options, engine_kwargs)\u001b[0m\n\u001b[1;32m   1548\u001b[0m                 \u001b[0mext\u001b[0m \u001b[0;34m=\u001b[0m \u001b[0;34m\"xls\"\u001b[0m\u001b[0;34m\u001b[0m\u001b[0;34m\u001b[0m\u001b[0m\n\u001b[1;32m   1549\u001b[0m             \u001b[0;32melse\u001b[0m\u001b[0;34m:\u001b[0m\u001b[0;34m\u001b[0m\u001b[0;34m\u001b[0m\u001b[0m\n\u001b[0;32m-> 1550\u001b[0;31m                 ext = inspect_excel_format(\n\u001b[0m\u001b[1;32m   1551\u001b[0m                     \u001b[0mcontent_or_path\u001b[0m\u001b[0;34m=\u001b[0m\u001b[0mpath_or_buffer\u001b[0m\u001b[0;34m,\u001b[0m \u001b[0mstorage_options\u001b[0m\u001b[0;34m=\u001b[0m\u001b[0mstorage_options\u001b[0m\u001b[0;34m\u001b[0m\u001b[0;34m\u001b[0m\u001b[0m\n\u001b[1;32m   1552\u001b[0m                 )\n",
            "\u001b[0;32m/usr/local/lib/python3.11/dist-packages/pandas/io/excel/_base.py\u001b[0m in \u001b[0;36minspect_excel_format\u001b[0;34m(content_or_path, storage_options)\u001b[0m\n\u001b[1;32m   1400\u001b[0m         \u001b[0mcontent_or_path\u001b[0m \u001b[0;34m=\u001b[0m \u001b[0mBytesIO\u001b[0m\u001b[0;34m(\u001b[0m\u001b[0mcontent_or_path\u001b[0m\u001b[0;34m)\u001b[0m\u001b[0;34m\u001b[0m\u001b[0;34m\u001b[0m\u001b[0m\n\u001b[1;32m   1401\u001b[0m \u001b[0;34m\u001b[0m\u001b[0m\n\u001b[0;32m-> 1402\u001b[0;31m     with get_handle(\n\u001b[0m\u001b[1;32m   1403\u001b[0m         \u001b[0mcontent_or_path\u001b[0m\u001b[0;34m,\u001b[0m \u001b[0;34m\"rb\"\u001b[0m\u001b[0;34m,\u001b[0m \u001b[0mstorage_options\u001b[0m\u001b[0;34m=\u001b[0m\u001b[0mstorage_options\u001b[0m\u001b[0;34m,\u001b[0m \u001b[0mis_text\u001b[0m\u001b[0;34m=\u001b[0m\u001b[0;32mFalse\u001b[0m\u001b[0;34m\u001b[0m\u001b[0;34m\u001b[0m\u001b[0m\n\u001b[1;32m   1404\u001b[0m     ) as handle:\n",
            "\u001b[0;32m/usr/local/lib/python3.11/dist-packages/pandas/io/common.py\u001b[0m in \u001b[0;36mget_handle\u001b[0;34m(path_or_buf, mode, encoding, compression, memory_map, is_text, errors, storage_options)\u001b[0m\n\u001b[1;32m    880\u001b[0m         \u001b[0;32melse\u001b[0m\u001b[0;34m:\u001b[0m\u001b[0;34m\u001b[0m\u001b[0;34m\u001b[0m\u001b[0m\n\u001b[1;32m    881\u001b[0m             \u001b[0;31m# Binary mode\u001b[0m\u001b[0;34m\u001b[0m\u001b[0;34m\u001b[0m\u001b[0m\n\u001b[0;32m--> 882\u001b[0;31m             \u001b[0mhandle\u001b[0m \u001b[0;34m=\u001b[0m \u001b[0mopen\u001b[0m\u001b[0;34m(\u001b[0m\u001b[0mhandle\u001b[0m\u001b[0;34m,\u001b[0m \u001b[0mioargs\u001b[0m\u001b[0;34m.\u001b[0m\u001b[0mmode\u001b[0m\u001b[0;34m)\u001b[0m\u001b[0;34m\u001b[0m\u001b[0;34m\u001b[0m\u001b[0m\n\u001b[0m\u001b[1;32m    883\u001b[0m         \u001b[0mhandles\u001b[0m\u001b[0;34m.\u001b[0m\u001b[0mappend\u001b[0m\u001b[0;34m(\u001b[0m\u001b[0mhandle\u001b[0m\u001b[0;34m)\u001b[0m\u001b[0;34m\u001b[0m\u001b[0;34m\u001b[0m\u001b[0m\n\u001b[1;32m    884\u001b[0m \u001b[0;34m\u001b[0m\u001b[0m\n",
            "\u001b[0;31mFileNotFoundError\u001b[0m: [Errno 2] No such file or directory: '/content/식품안전정보DB(2023)_sample.xlsx'"
          ]
        }
      ]
    },
    {
      "cell_type": "code",
      "source": [],
      "metadata": {
        "id": "gxOefsvfp4Zs"
      },
      "id": "gxOefsvfp4Zs",
      "execution_count": null,
      "outputs": []
    },
    {
      "cell_type": "code",
      "source": [
        "from langchain_community.vectorstores import Chroma\n",
        "from langchain.text_splitter import RecursiveCharacterTextSplitter\n",
        "\n",
        "# Define a simple Document class\n",
        "class Document:\n",
        "    def __init__(self, page_content, metadata):\n",
        "        self.page_content = page_content\n",
        "        self.metadata = metadata\n",
        "\n",
        "# Create documents with page_content and metadata\n",
        "documents = []\n",
        "for _, row in data.iterrows():\n",
        "    document = Document(\n",
        "        page_content=row['내용'],\n",
        "        metadata={\n",
        "            '국가명': row['국가명'],\n",
        "            '수집일자': row['수집일자'],\n",
        "            '제목': row['제목'],\n",
        "            '정보제공국가': row['정보제공국가'],\n",
        "            '정보구분': row['정보구분'],\n",
        "            '식품등유형': row['식품등유형'],\n",
        "            '원인요소': row['원인요소']\n",
        "        }\n",
        "    )\n",
        "    documents.append(document)\n",
        "\n",
        "# Initialize the text splitter with specified chunk size and overlap\n",
        "text_splitter = RecursiveCharacterTextSplitter(chunk_size=1000, chunk_overlap=200)\n",
        "\n",
        "# Split the documents into smaller chunks\n",
        "splits = text_splitter.split_documents(documents)\n",
        "\n",
        "# Initialize the language model\n",
        "llm = ChatOpenAI(model=\"gpt-4o-mini\")\n",
        "\n",
        "# Initialize the embedding model without the model_name argument\n",
        "embedding_model = OpenAIEmbeddings()\n",
        "\n",
        "# Convert text documents into embeddings and store them using Chroma\n",
        "vectorstore = Chroma.from_documents(documents=splits, embedding=embedding_model)\n",
        "\n",
        "# Convert text documents into embeddings and store them using Chroma\n",
        "vectorstore = Chroma.from_documents(documents=splits, embedding=embedding_model)\n"
      ],
      "metadata": {
        "colab": {
          "base_uri": "https://localhost:8080/",
          "height": 255
        },
        "id": "JQopDYnXp4bt",
        "outputId": "7e8bed7c-b5fd-4c81-feda-4f30c30608c7"
      },
      "id": "JQopDYnXp4bt",
      "execution_count": null,
      "outputs": [
        {
          "output_type": "stream",
          "name": "stdout",
          "text": [
            "Number of documents found: 4\n",
            "Sample document content:\n"
          ]
        },
        {
          "output_type": "error",
          "ename": "TypeError",
          "evalue": "'Document' object is not subscriptable",
          "traceback": [
            "\u001b[0;31m---------------------------------------------------------------------------\u001b[0m",
            "\u001b[0;31mTypeError\u001b[0m                                 Traceback (most recent call last)",
            "\u001b[0;32m<ipython-input-27-f88d26eb4cc6>\u001b[0m in \u001b[0;36m<cell line: 52>\u001b[0;34m()\u001b[0m\n\u001b[1;32m     50\u001b[0m \u001b[0mprint\u001b[0m\u001b[0;34m(\u001b[0m\u001b[0;34mf\"Number of documents found: {len(results)}\"\u001b[0m\u001b[0;34m)\u001b[0m\u001b[0;34m\u001b[0m\u001b[0;34m\u001b[0m\u001b[0m\n\u001b[1;32m     51\u001b[0m \u001b[0mprint\u001b[0m\u001b[0;34m(\u001b[0m\u001b[0;34m\"Sample document content:\"\u001b[0m\u001b[0;34m)\u001b[0m\u001b[0;34m\u001b[0m\u001b[0;34m\u001b[0m\u001b[0m\n\u001b[0;32m---> 52\u001b[0;31m \u001b[0mprint\u001b[0m\u001b[0;34m(\u001b[0m\u001b[0mresults\u001b[0m\u001b[0;34m[\u001b[0m\u001b[0;36m0\u001b[0m\u001b[0;34m]\u001b[0m\u001b[0;34m[\u001b[0m\u001b[0;34m'page_content'\u001b[0m\u001b[0;34m]\u001b[0m\u001b[0;34m)\u001b[0m\u001b[0;34m\u001b[0m\u001b[0;34m\u001b[0m\u001b[0m\n\u001b[0m\u001b[1;32m     53\u001b[0m \u001b[0mprint\u001b[0m\u001b[0;34m(\u001b[0m\u001b[0;34m\"Metadata:\"\u001b[0m\u001b[0;34m)\u001b[0m\u001b[0;34m\u001b[0m\u001b[0;34m\u001b[0m\u001b[0m\n\u001b[1;32m     54\u001b[0m \u001b[0mprint\u001b[0m\u001b[0;34m(\u001b[0m\u001b[0mresults\u001b[0m\u001b[0;34m[\u001b[0m\u001b[0;36m0\u001b[0m\u001b[0;34m]\u001b[0m\u001b[0;34m[\u001b[0m\u001b[0;34m'metadata'\u001b[0m\u001b[0;34m]\u001b[0m\u001b[0;34m)\u001b[0m\u001b[0;34m\u001b[0m\u001b[0;34m\u001b[0m\u001b[0m\n",
            "\u001b[0;31mTypeError\u001b[0m: 'Document' object is not subscriptable"
          ]
        }
      ]
    },
    {
      "cell_type": "code",
      "source": [
        "\n",
        "# Perform a similarity search on the stored embeddings\n",
        "query = \"2023년 국가별 위애요인 기사 건수가 제일 많은 상위 국가는?.\"\n",
        "results = vectorstore.similarity_search(query)\n",
        "results\n"
      ],
      "metadata": {
        "colab": {
          "base_uri": "https://localhost:8080/"
        },
        "id": "81qqKUBcsQuL",
        "outputId": "6014b3d7-62e2-42a4-da33-f35d22ce65f6"
      },
      "id": "81qqKUBcsQuL",
      "execution_count": null,
      "outputs": [
        {
          "output_type": "execute_result",
          "data": {
            "text/plain": [
              "[Document(metadata={'국가명': '베트남', '수집일자': '2023-12-12', '식품등유형': '축산물>식육류>식육류일반', '원인요소': '안전위생>안전>안전', '정보구분': '글로벌 동향정보', '정보제공국가': '베트남', '제목': '베트남 농업농촌개발부, 식품 및 질병안전 보장을 위한 동물 도축 통제 등 관리 강화'}, page_content='베트남 농업농촌개발부는 12월 8일, 식품안전, 질병안전 보장을 위한 동물 도축의 관리 강화에 관한 공문(số 9001/BNN-TY)을 중앙 소속 각 성(省), 시 인민위원회에 발행했음. 2023년 11월말까지 전국 63개의 성/시 중 32개의 성/시에서 집중 도축망을 구축을 위한 계획을 수립했음. 그러나 전국에는 여전히 24,000개 이상의 소규모 도축장이 존재하며, 그 중 약 18.6%만 수의 기관이 통제하고 있어 식품안전이 보장되지 않을 위험이 매우 높음.농업농촌개발부는 수의국에 동물운송검역, 위생검사, 도축통제관리 및 도축시설에서 금지물질 사용 등에 대하여 각 지방까지 업무단(đoàn công tác)을 설립하도록 요청했음. 또한, 축산국에는 각 지방의 가축 및 수의 전문 기관과 협력하여 축산 시설에서 금지물질 사용 점검 및 감독단 설립을 주관하도록 하였음. (*)자세한 내용은 원문참조'),\n",
              " Document(metadata={'국가명': '베트남', '수집일자': '2023-12-12', '식품등유형': '축산물>식육류>식육류일반', '원인요소': '안전위생>안전>안전', '정보구분': '글로벌 동향정보', '정보제공국가': '베트남', '제목': '베트남 농업농촌개발부, 식품 및 질병안전 보장을 위한 동물 도축 통제 등 관리 강화'}, page_content='베트남 농업농촌개발부는 12월 8일, 식품안전, 질병안전 보장을 위한 동물 도축의 관리 강화에 관한 공문(số 9001/BNN-TY)을 중앙 소속 각 성(省), 시 인민위원회에 발행했음. 2023년 11월말까지 전국 63개의 성/시 중 32개의 성/시에서 집중 도축망을 구축을 위한 계획을 수립했음. 그러나 전국에는 여전히 24,000개 이상의 소규모 도축장이 존재하며, 그 중 약 18.6%만 수의 기관이 통제하고 있어 식품안전이 보장되지 않을 위험이 매우 높음.농업농촌개발부는 수의국에 동물운송검역, 위생검사, 도축통제관리 및 도축시설에서 금지물질 사용 등에 대하여 각 지방까지 업무단(đoàn công tác)을 설립하도록 요청했음. 또한, 축산국에는 각 지방의 가축 및 수의 전문 기관과 협력하여 축산 시설에서 금지물질 사용 점검 및 감독단 설립을 주관하도록 하였음. (*)자세한 내용은 원문참조'),\n",
              " Document(metadata={'국가명': '일본', '수집일자': '2023-12-22', '식품등유형': '축산물>식육류>닭고기', '원인요소': '생물학적 위해요소>동식물질병>동물질병', '정보구분': '글로벌 동향정보', '정보제공국가': '제외국', '제목': '일본 농림수산성 동물검역소, 미국 및 헝가리 일부 지역의 살아있는 가금, 가금육 등의 일시 수입중지'}, page_content='일본 농림수산성 동물검역소는 12월 21일, 미국 및 헝가리 일부 지역으로부터 다음과 같이(대상품목 ; 대상지역 ; 수입중지조치/해제조치 연월일(*)) 살아 있는 가금, 가금육 등의 수입이 일시 중지되었음을 알림.<수입중지 - 미국>-가금육, 가금란 등(**):  > State of South Dakota - Lake County ; 2023년 12월 16일 > State of Kansas - Rice County ; 2023년 12월 16일<수입중지 - 헝가리>-살아 있는 가금/가금육, 가금란 등: Győr-Moson-Sopron ; 2023년 12월 21일(*)살아 있는 가금, 가금육 등의 수입중지조치 및 수입해제조치에 대해서:   https://www.maff.go.jp/aqs/topix/im/hpai.html(**)(1) 가금육, 장기 및 이들 가공품 (2) 가금란 및 그 가공품'),\n",
              " Document(metadata={'국가명': '일본', '수집일자': '2023-12-22', '식품등유형': '축산물>식육류>닭고기', '원인요소': '생물학적 위해요소>동식물질병>동물질병', '정보구분': '글로벌 동향정보', '정보제공국가': '제외국', '제목': '일본 농림수산성 동물검역소, 미국 및 헝가리 일부 지역의 살아있는 가금, 가금육 등의 일시 수입중지'}, page_content='일본 농림수산성 동물검역소는 12월 21일, 미국 및 헝가리 일부 지역으로부터 다음과 같이(대상품목 ; 대상지역 ; 수입중지조치/해제조치 연월일(*)) 살아 있는 가금, 가금육 등의 수입이 일시 중지되었음을 알림.<수입중지 - 미국>-가금육, 가금란 등(**):  > State of South Dakota - Lake County ; 2023년 12월 16일 > State of Kansas - Rice County ; 2023년 12월 16일<수입중지 - 헝가리>-살아 있는 가금/가금육, 가금란 등: Győr-Moson-Sopron ; 2023년 12월 21일(*)살아 있는 가금, 가금육 등의 수입중지조치 및 수입해제조치에 대해서:   https://www.maff.go.jp/aqs/topix/im/hpai.html(**)(1) 가금육, 장기 및 이들 가공품 (2) 가금란 및 그 가공품')]"
            ]
          },
          "metadata": {},
          "execution_count": 31
        }
      ]
    },
    {
      "cell_type": "code",
      "source": [
        "results"
      ],
      "metadata": {
        "colab": {
          "base_uri": "https://localhost:8080/"
        },
        "id": "HapggL-1p4d4",
        "outputId": "aa943ab1-a92d-4e36-c28b-4449cebc12af"
      },
      "id": "HapggL-1p4d4",
      "execution_count": null,
      "outputs": [
        {
          "output_type": "execute_result",
          "data": {
            "text/plain": [
              "[Document(metadata={'국가명': '베트남', '수집일자': '2023-12-18', '식품등유형': '식품일반>식품일반>식품일반', '원인요소': '안전위생>안전>안전', '정보구분': '글로벌 동향정보', '정보제공국가': '베트남', '제목': '베트남 식품안전국, 2024년 설 명절 기간 식품안전보장 활동 계획 발표'}, page_content='베트남 식품안전국은 2023년 12월 18일, 2024년 설 명절 및 봄 축제 기간 동안 식품안전 보장을 위한 식품안전에 관한 중앙지시위원회는 다음과 같이 활동 계획을 발표했음.Ⅰ. 목표  -2024년 설 명절 및 봄 축제기간 중 식품의 생산, 가공, 거래, 수입 및 사용 시 식품안전보장 통제를 강화하고 가짜 및 불량 식품의 생산 및 거래를 적시에 예방함.-2024년 설명절 및 봄 축제기간 식중독 발생 최소화II. 기간 및 범위 - 기간: 2023년 12월 20일부터 2023년 3월 20일까지- 범위: 전국 (*)자세한 내용은 원문참조'),\n",
              " Document(metadata={'국가명': '베트남', '수집일자': '2023-12-18', '식품등유형': '식품일반>식품일반>식품일반', '원인요소': '안전위생>안전>안전', '정보구분': '글로벌 동향정보', '정보제공국가': '베트남', '제목': '베트남 식품안전국, 2024년 설 명절 기간 식품안전보장 활동 계획 발표'}, page_content='베트남 식품안전국은 2023년 12월 18일, 2024년 설 명절 및 봄 축제 기간 동안 식품안전 보장을 위한 식품안전에 관한 중앙지시위원회는 다음과 같이 활동 계획을 발표했음.Ⅰ. 목표  -2024년 설 명절 및 봄 축제기간 중 식품의 생산, 가공, 거래, 수입 및 사용 시 식품안전보장 통제를 강화하고 가짜 및 불량 식품의 생산 및 거래를 적시에 예방함.-2024년 설명절 및 봄 축제기간 식중독 발생 최소화II. 기간 및 범위 - 기간: 2023년 12월 20일부터 2023년 3월 20일까지- 범위: 전국 (*)자세한 내용은 원문참조'),\n",
              " Document(metadata={'국가명': '일본', '수집일자': '2023-12-06', '식품등유형': '식품일반>식품일반>식품일반', '원인요소': '표시광고>원료·성분·함량>원료·성분·함량', '정보구분': '글로벌 동향정보', '정보제공국가': '일본', '제목': '일본 소비자청, 식품표시법 식품표시기준 관련 지시 및 명령 현황(2023년도 상반기) '}, page_content=\"일본 소비자청은 12월 5일, 식품표시법 식품표시기준 관련 정부(소비자청, 국세청 및 농림수산성) 및 도도부현 등에 의한 2023년도 상반기(2023년 4월~2023년 9월) 지시 및 명령건수를 공개함.<정부에 의한 지시 및 명령건수>-지시건수 총 0건-명령건수 총 0건 (지시: '식품표시법에 근거한 지시 및 지도와 공표에 관한 지침'에 비추어 지도에 해당하지 않는 경우에 실시하는 행정지도(식품표시법 제6조 제1항 및 제3항)) (명령: 식품표시법 제6조 제1항 또는 제3항의 지시 관련 조치를 정당한 이유 없이 이행하지 않는 사업자에 대한 행정처분(식품표시법 제6조 제5항), '식품표시법에 근거한 명령 등 지침'에 비추어 식품의 회수 등 또는 영업정지를 명하는 행정처분(식품표시법 제6조 제8항))<도도부현 등에 의한 지시 및 명령건수>-지시건수 총 4건: 신선식품(농산물 2건, 수산물 1건), 가공식품 2건 -명령건수 총 0건<식품표시기준 관련 지도건수 등(*)>-2023년도 상반기: 136(57) (2023년도부터 괄호 안의 구두에 의한 지도건수도 포함함)(*)https://www.caa.go.jp/policies/policy/food_labeling/information/assets/food_labeling_cms202_231205_02.pdf\"),\n",
              " Document(metadata={'국가명': '일본', '수집일자': '2023-12-06', '식품등유형': '식품일반>식품일반>식품일반', '원인요소': '표시광고>원료·성분·함량>원료·성분·함량', '정보구분': '글로벌 동향정보', '정보제공국가': '일본', '제목': '일본 소비자청, 식품표시법 식품표시기준 관련 지시 및 명령 현황(2023년도 상반기) '}, page_content=\"일본 소비자청은 12월 5일, 식품표시법 식품표시기준 관련 정부(소비자청, 국세청 및 농림수산성) 및 도도부현 등에 의한 2023년도 상반기(2023년 4월~2023년 9월) 지시 및 명령건수를 공개함.<정부에 의한 지시 및 명령건수>-지시건수 총 0건-명령건수 총 0건 (지시: '식품표시법에 근거한 지시 및 지도와 공표에 관한 지침'에 비추어 지도에 해당하지 않는 경우에 실시하는 행정지도(식품표시법 제6조 제1항 및 제3항)) (명령: 식품표시법 제6조 제1항 또는 제3항의 지시 관련 조치를 정당한 이유 없이 이행하지 않는 사업자에 대한 행정처분(식품표시법 제6조 제5항), '식품표시법에 근거한 명령 등 지침'에 비추어 식품의 회수 등 또는 영업정지를 명하는 행정처분(식품표시법 제6조 제8항))<도도부현 등에 의한 지시 및 명령건수>-지시건수 총 4건: 신선식품(농산물 2건, 수산물 1건), 가공식품 2건 -명령건수 총 0건<식품표시기준 관련 지도건수 등(*)>-2023년도 상반기: 136(57) (2023년도부터 괄호 안의 구두에 의한 지도건수도 포함함)(*)https://www.caa.go.jp/policies/policy/food_labeling/information/assets/food_labeling_cms202_231205_02.pdf\")]"
            ]
          },
          "metadata": {},
          "execution_count": 29
        }
      ]
    },
    {
      "cell_type": "code",
      "source": [],
      "metadata": {
        "id": "FyVyllIitNfg"
      },
      "id": "FyVyllIitNfg",
      "execution_count": null,
      "outputs": []
    },
    {
      "cell_type": "code",
      "source": [],
      "metadata": {
        "id": "1YqefISFp4fg"
      },
      "id": "1YqefISFp4fg",
      "execution_count": null,
      "outputs": []
    }
  ],
  "metadata": {
    "kernelspec": {
      "display_name": "Python 3",
      "name": "python3"
    },
    "language_info": {
      "name": "python"
    },
    "colab": {
      "provenance": [],
      "gpuType": "T4",
      "include_colab_link": true
    },
    "accelerator": "GPU"
  },
  "nbformat": 4,
  "nbformat_minor": 5
}