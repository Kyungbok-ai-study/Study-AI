{
  "cells": [
    {
      "cell_type": "markdown",
      "metadata": {
        "id": "view-in-github",
        "colab_type": "text"
      },
      "source": [
        "<a href=\"https://colab.research.google.com/github/ancestor9/Gyeongbok-AI-study/blob/main/2025%20AI%20Tutor/%EC%A0%9C1%EA%B0%95_gpt4o_mini_langchain_basics.ipynb\" target=\"_parent\"><img src=\"https://colab.research.google.com/assets/colab-badge.svg\" alt=\"Open In Colab\"/></a>"
      ]
    },
    {
      "cell_type": "markdown",
      "id": "ed0f96f1-910f-438f-876f-9eff119c2b0a",
      "metadata": {
        "id": "ed0f96f1-910f-438f-876f-9eff119c2b0a"
      },
      "source": [
        "# Part1: Langchain 기초\n",
        "- **[깃허브소스코드](https://github.com/tsdata/langchain-study/blob/main/001_langchain_basics.ipynb)**\n",
        "-**[유튜브동영상](https://www.youtube.com/watch?v=g54cRchilxU)**\n",
        "\n",
        "<img src='https://substackcdn.com/image/fetch/w_1456,c_limit,f_webp,q_auto:good,fl_progressive:steep/https%3A%2F%2Fsubstack-post-media.s3.amazonaws.com%2Fpublic%2Fimages%2F415a61dd-daef-4978-8df2-07eb9a89044f_2468x707.jpeg'>"
      ]
    },
    {
      "cell_type": "markdown",
      "id": "5a5b1e2f-9d67-4d01-9a8c-83ced6b711a9",
      "metadata": {
        "id": "5a5b1e2f-9d67-4d01-9a8c-83ced6b711a9"
      },
      "source": [
        "## 1. 환경 구성"
      ]
    },
    {
      "cell_type": "markdown",
      "id": "b03b7854-f96a-47fc-b3c7-b2bdfb55df81",
      "metadata": {
        "id": "b03b7854-f96a-47fc-b3c7-b2bdfb55df81"
      },
      "source": [
        "### 1) 라이브러리 설치"
      ]
    },
    {
      "cell_type": "code",
      "execution_count": 1,
      "id": "4cd87a33-0a37-461b-8f37-3c142e60b1f6",
      "metadata": {
        "id": "4cd87a33-0a37-461b-8f37-3c142e60b1f6",
        "colab": {
          "base_uri": "https://localhost:8080/"
        },
        "outputId": "ffd45795-1219-40a6-a81e-fd77804484a1"
      },
      "outputs": [
        {
          "output_type": "stream",
          "name": "stdout",
          "text": [
            "\u001b[?25l   \u001b[90m━━━━━━━━━━━━━━━━━━━━━━━━━━━━━━━━━━━━━━━━\u001b[0m \u001b[32m0.0/62.4 kB\u001b[0m \u001b[31m?\u001b[0m eta \u001b[36m-:--:--\u001b[0m\r\u001b[2K   \u001b[90m━━━━━━━━━━━━━━━━━━━━━━━━━━━━━━━━━━━━━━━━\u001b[0m \u001b[32m62.4/62.4 kB\u001b[0m \u001b[31m1.8 MB/s\u001b[0m eta \u001b[36m0:00:00\u001b[0m\n",
            "\u001b[2K   \u001b[90m━━━━━━━━━━━━━━━━━━━━━━━━━━━━━━━━━━━━━━━━\u001b[0m \u001b[32m1.2/1.2 MB\u001b[0m \u001b[31m25.7 MB/s\u001b[0m eta \u001b[36m0:00:00\u001b[0m\n",
            "\u001b[2K   \u001b[90m━━━━━━━━━━━━━━━━━━━━━━━━━━━━━━━━━━━━━━━━\u001b[0m \u001b[32m433.9/433.9 kB\u001b[0m \u001b[31m7.9 MB/s\u001b[0m eta \u001b[36m0:00:00\u001b[0m\n",
            "\u001b[?25h"
          ]
        }
      ],
      "source": [
        "!pip install -q langchain langchain-openai tiktoken"
      ]
    },
    {
      "cell_type": "markdown",
      "id": "55152049-e9e5-4952-8e19-409f58cf3ac9",
      "metadata": {
        "id": "55152049-e9e5-4952-8e19-409f58cf3ac9"
      },
      "source": [
        "### 2) OpenAI 인증키 설정\n",
        "https://openai.com/"
      ]
    },
    {
      "cell_type": "code",
      "execution_count": 2,
      "id": "b76f68a8-4745-4377-8057-6090b87377d1",
      "metadata": {
        "id": "b76f68a8-4745-4377-8057-6090b87377d1"
      },
      "outputs": [],
      "source": [
        "import os\n",
        "from google.colab import userdata\n",
        "OPENAI_API_KEY = userdata.get('openapi')\n",
        "\n",
        "os.environ['OPENAI_API_KEY'] = OPENAI_API_KEY"
      ]
    },
    {
      "cell_type": "code",
      "source": [
        "OPENAI_API_KEY[::5]"
      ],
      "metadata": {
        "colab": {
          "base_uri": "https://localhost:8080/",
          "height": 35
        },
        "id": "HWP1DjUHZaiJ",
        "outputId": "e588e851-d986-42c6-92df-01ca6a30cb96"
      },
      "id": "HWP1DjUHZaiJ",
      "execution_count": 3,
      "outputs": [
        {
          "output_type": "execute_result",
          "data": {
            "text/plain": [
              "'sohvlfEUvwSVN_jTllpRoP67GpxRuI8aE'"
            ],
            "application/vnd.google.colaboratory.intrinsic+json": {
              "type": "string"
            }
          },
          "metadata": {},
          "execution_count": 3
        }
      ]
    },
    {
      "cell_type": "markdown",
      "id": "fc01c50a-32cf-49af-891a-f9b17fa0bd6c",
      "metadata": {
        "id": "fc01c50a-32cf-49af-891a-f9b17fa0bd6c"
      },
      "source": [
        "## 2. LLM Chain"
      ]
    },
    {
      "cell_type": "markdown",
      "id": "23729d10-9600-415b-b7d1-f954665224e3",
      "metadata": {
        "id": "23729d10-9600-415b-b7d1-f954665224e3"
      },
      "source": [
        "### 1) Prompt + LLM\n"
      ]
    },
    {
      "cell_type": "code",
      "source": [
        "from langchain_openai import ChatOpenAI\n",
        "# model\n",
        "llm = ChatOpenAI(model=\"gpt-4o-mini\")  # \"gpt-3.5-turbo-0125\"\n",
        "# chain 실행\n",
        "result = llm.invoke(\"지구의 자전 주기는?\")"
      ],
      "metadata": {
        "id": "on0y4xF8VoyE"
      },
      "id": "on0y4xF8VoyE",
      "execution_count": 4,
      "outputs": []
    },
    {
      "cell_type": "code",
      "source": [
        "result.content"
      ],
      "metadata": {
        "colab": {
          "base_uri": "https://localhost:8080/",
          "height": 53
        },
        "id": "WzcZy4PruV1n",
        "outputId": "03fcbb92-d515-4278-e492-e959eabaf898"
      },
      "id": "WzcZy4PruV1n",
      "execution_count": 5,
      "outputs": [
        {
          "output_type": "execute_result",
          "data": {
            "text/plain": [
              "\"지구의 자전 주기는 약 24시간입니다. 정확히 말하면, 자전 주기는 23시간 56분 4초로, 이를 '태양일'이라고 하며, 일반적으로 하루로 알려져 있습니다. 이 주기는 지구가 자전축을 기준으로 한 바퀴를 도는 데 걸리는 시간입니다. 태양일은 지구가 태양을 기준으로 다시 같은 위치에 도착하는 시간을 나타내며, 보통 24시간으로 계산됩니다.\""
            ],
            "application/vnd.google.colaboratory.intrinsic+json": {
              "type": "string"
            }
          },
          "metadata": {},
          "execution_count": 5
        }
      ]
    },
    {
      "cell_type": "code",
      "source": [
        "from langchain_core.prompts import ChatPromptTemplate\n",
        "\n",
        "prompt = ChatPromptTemplate.from_template(\"You are an expert in astronomy. Answer the question. <Question>: {input}\")\n",
        "prompt"
      ],
      "metadata": {
        "id": "SeNi_VXqYD-b",
        "colab": {
          "base_uri": "https://localhost:8080/"
        },
        "outputId": "996780aa-d017-4513-80ff-71558b2d9d77"
      },
      "id": "SeNi_VXqYD-b",
      "execution_count": 6,
      "outputs": [
        {
          "output_type": "execute_result",
          "data": {
            "text/plain": [
              "ChatPromptTemplate(input_variables=['input'], input_types={}, partial_variables={}, messages=[HumanMessagePromptTemplate(prompt=PromptTemplate(input_variables=['input'], input_types={}, partial_variables={}, template='You are an expert in astronomy. Answer the question. <Question>: {input}'), additional_kwargs={})])"
            ]
          },
          "metadata": {},
          "execution_count": 6
        }
      ]
    },
    {
      "cell_type": "code",
      "source": [
        "from langchain_openai import ChatOpenAI\n",
        "llm = ChatOpenAI(model=\"gpt-4o-mini\")\n",
        "\n",
        "# chain 연결 (LCEL)\n",
        "chain = prompt | llm\n",
        "\n",
        "# chain 호출\n",
        "chain.invoke({\"input\": \"지구의 자전 주기에 대해 자세히 설명해줘?\"})"
      ],
      "metadata": {
        "id": "01WLucSpYjZt",
        "colab": {
          "base_uri": "https://localhost:8080/"
        },
        "outputId": "4df89c79-971f-43ed-904f-414ec169f225"
      },
      "id": "01WLucSpYjZt",
      "execution_count": 7,
      "outputs": [
        {
          "output_type": "execute_result",
          "data": {
            "text/plain": [
              "AIMessage(content='지구의 자전 주기는 지구가 자신의 축을 한 바퀴 도는 데 걸리는 시간을 의미합니다. 이 주기는 약 24시간입니다. 하지만 정확하게는 23시간 56분 4초, 즉 약 23.9345 시간입니다. 이를 천문학적으로 \"항성일\"이라고 부릅니다.\\n\\n### 자전 주기의 종류\\n\\n1. **항성일(23시간 56분 4초)**: 지구가 단순히 자신의 축을 한 바퀴 도는 데 걸리는 시간입니다. 이 시간은 지구가 별을 배경으로 해서 돌아가는 시간을 기준으로 합니다. 따라서 항성일은 고정된 별을 기준으로 하는 시간입니다.\\n\\n2. **태양일(24시간)**: 우리가 일반적으로 사용하는 하루, 즉 태양이 동쪽에서 떠서 서쪽으로 지는 데 걸리는 시간입니다. 이 시간은 지구가 자전과 동시에 태양 주위를 공전하는 결과로, 지구의 자전과 태양의 상대적인 위치 변화 때문에 4분 정도 더 길어집니다. 그래서 항성일보다 태양일은 약 4분 더 깁니다.\\n\\n### 자전의 결과\\n\\n자전은 여러 가지 중요한 현상을 만들어냅니다.\\n\\n- **주기적인 낮과 밤**: 지구가 자전하기 때문에 특정 지역에서는 태양이 떠오르고, 다른 지역에서는 해가 지는 현상이 발생합니다.\\n  \\n- **코리올리 효과**: 지구의 자전에 의해 발생하는 패러럴레볼루션으로, 대기와 해류의 흐름에 영향을 미쳐 지구의 날씨와 해양 순환에 중요한 역할을 합니다.\\n\\n- **중력 및 기울기**: 지구는 완전한 구가 아니라 약간 편평한 형태를 가지고 있어, 자전으로 인해 적도 부근에서는 중력이 약간 더 낮고, 극지방에서는 상대적으로 더 높습니다.\\n\\n지구의 자전 주기는 지구의 회전 운동과, 태양과의 상대적인 위치, 그리고 여러 천문학적 요소들에 따라 결정되므로, 지구에서의 시간을 이해하는 데 매우 중요한 요소입니다.', additional_kwargs={'refusal': None}, response_metadata={'token_usage': {'completion_tokens': 472, 'prompt_tokens': 35, 'total_tokens': 507, 'completion_tokens_details': {'accepted_prediction_tokens': 0, 'audio_tokens': 0, 'reasoning_tokens': 0, 'rejected_prediction_tokens': 0}, 'prompt_tokens_details': {'audio_tokens': 0, 'cached_tokens': 0}}, 'model_name': 'gpt-4o-mini-2024-07-18', 'system_fingerprint': 'fp_f7d56a8a2c', 'id': 'chatcmpl-BOgfScQJxQu35OGHJYM9xIVWLcN3F', 'finish_reason': 'stop', 'logprobs': None}, id='run-340c9dcf-da8b-4523-97e4-83100f1f81c7-0', usage_metadata={'input_tokens': 35, 'output_tokens': 472, 'total_tokens': 507, 'input_token_details': {'audio': 0, 'cache_read': 0}, 'output_token_details': {'audio': 0, 'reasoning': 0}})"
            ]
          },
          "metadata": {},
          "execution_count": 7
        }
      ]
    },
    {
      "cell_type": "code",
      "execution_count": 8,
      "id": "f42fc0d1-c7a1-48a1-8e26-9718a1443be4",
      "metadata": {
        "id": "f42fc0d1-c7a1-48a1-8e26-9718a1443be4",
        "colab": {
          "base_uri": "https://localhost:8080/",
          "height": 126
        },
        "outputId": "2f81c98c-da14-477b-c238-434c03367b09"
      },
      "outputs": [
        {
          "output_type": "execute_result",
          "data": {
            "text/plain": [
              "\"지구의 자전 주기란 지구가 한 번 스스로의 축을 중심으로 회전하는 데 소요되는 시간을 말합니다. 일반적으로 이 주기는 약 24시간으로 알려져 있지만, 이 24시간은 평균적인 값입니다.\\n\\n자전 주기는 두 가지 서로 다른 방법으로 측정됩니다:\\n\\n1. **태양일(Solar Day)**: 태양일은 태양이 동일한 위치에 돌아오기까지 걸리는 시간으로, 약 24시간입니다. 태양이 하늘에서 가장 높은 지점에 도달할 때를 기준으로 하여 하루를 계산합니다.\\n\\n2. **항성일(Sidereal Day)**: 항성일은 지구가 항성, 즉 먼 별에 대해 한 바퀴를 도는 데 걸리는 시간으로, 약 23시간 56분 4초입니다. 이는 지구가 자전하면서 태양을 상대적으로 지나치는 시간을 고려하지 않는 측정 방법입니다.\\n\\n이 두 가지 자전 주기 간의 차이는 지구가 태양 주위를 공전하기 때문에 발생합니다. 지구가 한 바퀴 공전하는 동안 태양을 기준으로 다시 한 번 자전하려면 약 4분 정도 더 필요하게 됩니다. 그래서 우리가 경험하는 24시간은 항성일보다 약 4분 더 긴 것입니다.\\n\\n또한, 지구의 자전 속도는 시간에 따라 미세하게 변할 수 있으며, 이는 지구 내부의 물리적 변화, 조수력, 대기와 해양의 움직임 등 다양한 요인에 의해 영향을 받습니다. 이러한 이유로 과거에는 원자시계를 통해 보다 정밀한 시간을 측정하기 위해 '진정한 태양일'이라는 개념이 등장하기도 했습니다.\\n\\n결론적으로, 지구의 자전 주기는 약 24시간이며, 이는 지구가 자전과 공전을 동시에 진행하는 복합적인 현상으로 인해 결정됩니다.\""
            ],
            "application/vnd.google.colaboratory.intrinsic+json": {
              "type": "string"
            }
          },
          "metadata": {},
          "execution_count": 8
        }
      ],
      "source": [
        "from langchain_openai import ChatOpenAI\n",
        "from langchain_core.prompts import ChatPromptTemplate\n",
        "from langchain_core.output_parsers import StrOutputParser\n",
        "\n",
        "# prompt + model + output parser\n",
        "prompt = ChatPromptTemplate.from_template(\"You are an expert in astronomy. Answer the question. <Question>: {input}\")\n",
        "llm = ChatOpenAI(model=\"gpt-4o-mini\")\n",
        "output_parser = StrOutputParser()\n",
        "\n",
        "# LCEL chaining\n",
        "chain = prompt | llm | output_parser\n",
        "\n",
        "# chain 호출\n",
        "chain.invoke({\"input\": \"지구의 자전 주기에 대해 자세히 설명해줘?\"})"
      ]
    },
    {
      "cell_type": "markdown",
      "id": "b0188674-915f-41af-ac46-56f9f54289b0",
      "metadata": {
        "id": "b0188674-915f-41af-ac46-56f9f54289b0"
      },
      "source": [
        "### 2) Multiple Chains"
      ]
    },
    {
      "cell_type": "code",
      "execution_count": 9,
      "id": "31678c55-38a8-4ca2-b437-9d4495946b0a",
      "metadata": {
        "id": "31678c55-38a8-4ca2-b437-9d4495946b0a",
        "colab": {
          "base_uri": "https://localhost:8080/",
          "height": 35
        },
        "outputId": "46f770d8-cd29-451e-d096-47c2aa81b854"
      },
      "outputs": [
        {
          "output_type": "execute_result",
          "data": {
            "text/plain": [
              "'The Korean word \"미래\" translates to \"future\" in English.'"
            ],
            "application/vnd.google.colaboratory.intrinsic+json": {
              "type": "string"
            }
          },
          "metadata": {},
          "execution_count": 9
        }
      ],
      "source": [
        "prompt1 = ChatPromptTemplate.from_template(\"translates {korean_word} to English.\")\n",
        "prompt2 = ChatPromptTemplate.from_template(\n",
        "    \"explain {english_word} using oxford dictionary to me in Korean.\"\n",
        ")\n",
        "\n",
        "llm = ChatOpenAI(model=\"gpt-4o-mini\")\n",
        "\n",
        "chain1 = prompt1 | llm | StrOutputParser()\n",
        "\n",
        "chain1.invoke({\"korean_word\":\"미래\"})"
      ]
    },
    {
      "cell_type": "code",
      "execution_count": 10,
      "id": "16718b76-f59d-48f7-906f-5d2371417803",
      "metadata": {
        "id": "16718b76-f59d-48f7-906f-5d2371417803",
        "colab": {
          "base_uri": "https://localhost:8080/",
          "height": 53
        },
        "outputId": "a16dc2f6-f8cc-44e3-d5ae-5dc3cbe994c1"
      },
      "outputs": [
        {
          "output_type": "execute_result",
          "data": {
            "text/plain": [
              "'\"미래\"는 영어로 \"future\"라는 뜻입니다. 옥스퍼드 사전에서는 \"미래\"를 다음과 같이 설명합니다: \"아직 오지 않았지만 앞으로 올 시간.\" 쉽게 말해, 미래는 현재를 지나서 다가오는 시간이나 사건을 가리킵니다. 예를 들어, 우리의 계획이나 희망, 가능성 등이 미래와 관련되어 있습니다.'"
            ],
            "application/vnd.google.colaboratory.intrinsic+json": {
              "type": "string"
            }
          },
          "metadata": {},
          "execution_count": 10
        }
      ],
      "source": [
        "chain2 = (\n",
        "    {\"english_word\": chain1}\n",
        "    | prompt2\n",
        "    | llm\n",
        "    | StrOutputParser()\n",
        ")\n",
        "\n",
        "chain2.invoke({\"korean_word\":\"미래\"})"
      ]
    },
    {
      "cell_type": "markdown",
      "id": "668cb998-71fb-4fd9-a6f1-61aad022fa3e",
      "metadata": {
        "id": "668cb998-71fb-4fd9-a6f1-61aad022fa3e"
      },
      "source": [
        "## 3. Prompt\n",
        "  "
      ]
    },
    {
      "cell_type": "markdown",
      "id": "16573676-6ba7-439a-a989-1e7d13420e95",
      "metadata": {
        "id": "16573676-6ba7-439a-a989-1e7d13420e95"
      },
      "source": [
        "### 1) PromptTemplate"
      ]
    },
    {
      "cell_type": "code",
      "execution_count": 11,
      "id": "096f63a1-6b04-4d1d-aaaf-c5a77c5d3ef2",
      "metadata": {
        "id": "096f63a1-6b04-4d1d-aaaf-c5a77c5d3ef2",
        "colab": {
          "base_uri": "https://localhost:8080/",
          "height": 35
        },
        "outputId": "222cc896-3dcf-4d4e-9ef0-2a76d233b557"
      },
      "outputs": [
        {
          "output_type": "execute_result",
          "data": {
            "text/plain": [
              "'안녕하세요, 제 이름은 홍길동이고, 나이는 30살입니다.'"
            ],
            "application/vnd.google.colaboratory.intrinsic+json": {
              "type": "string"
            }
          },
          "metadata": {},
          "execution_count": 11
        }
      ],
      "source": [
        "from langchain_core.prompts import PromptTemplate\n",
        "\n",
        "# 'name'과 'age'라는 두 개의 변수를 사용하는 프롬프트 템플릿을 정의\n",
        "template_text = \"안녕하세요, 제 이름은 {name}이고, 나이는 {age}살입니다.\"\n",
        "\n",
        "# PromptTemplate 인스턴스를 생성\n",
        "prompt_template = PromptTemplate.from_template(template_text)\n",
        "\n",
        "# 템플릿에 값을 채워서 프롬프트를 완성\n",
        "filled_prompt = prompt_template.format(name=\"홍길동\", age=30)\n",
        "\n",
        "filled_prompt"
      ]
    },
    {
      "cell_type": "code",
      "execution_count": 12,
      "id": "4a314a0f-11f3-47f0-aed7-d405b837a273",
      "metadata": {
        "id": "4a314a0f-11f3-47f0-aed7-d405b837a273",
        "colab": {
          "base_uri": "https://localhost:8080/"
        },
        "outputId": "c0f18456-db9c-43fd-ba3c-ed38df88eff4"
      },
      "outputs": [
        {
          "output_type": "execute_result",
          "data": {
            "text/plain": [
              "PromptTemplate(input_variables=['age', 'language', 'name'], input_types={}, partial_variables={}, template='안녕하세요, 제 이름은 {name}이고, 나이는 {age}살입니다.\\n\\n아버지를 아버지라 부를 수 없습니다.\\n\\n{language}로 번역해주세요.')"
            ]
          },
          "metadata": {},
          "execution_count": 12
        }
      ],
      "source": [
        "# 문자열 템플릿 결합 (PromptTemplate + PromptTemplate + 문자열)\n",
        "combined_prompt = (\n",
        "              prompt_template\n",
        "              + PromptTemplate.from_template(\"\\n\\n아버지를 아버지라 부를 수 없습니다.\")\n",
        "              + \"\\n\\n{language}로 번역해주세요.\"\n",
        ")\n",
        "\n",
        "combined_prompt"
      ]
    },
    {
      "cell_type": "code",
      "execution_count": 13,
      "id": "ca859903-85e4-4630-a173-fffabb24a766",
      "metadata": {
        "id": "ca859903-85e4-4630-a173-fffabb24a766",
        "colab": {
          "base_uri": "https://localhost:8080/",
          "height": 35
        },
        "outputId": "0caf6488-fdab-4eff-8ccf-05e5993cb310"
      },
      "outputs": [
        {
          "output_type": "execute_result",
          "data": {
            "text/plain": [
              "'안녕하세요, 제 이름은 홍길동이고, 나이는 30살입니다.\\n\\n아버지를 아버지라 부를 수 없습니다.\\n\\n영어로 번역해주세요.'"
            ],
            "application/vnd.google.colaboratory.intrinsic+json": {
              "type": "string"
            }
          },
          "metadata": {},
          "execution_count": 13
        }
      ],
      "source": [
        "combined_prompt.format(name=\"홍길동\", age=30, language=\"영어\")"
      ]
    },
    {
      "cell_type": "code",
      "execution_count": 14,
      "id": "63a96988-196b-4c6f-ac01-6f8c56386af3",
      "metadata": {
        "id": "63a96988-196b-4c6f-ac01-6f8c56386af3",
        "colab": {
          "base_uri": "https://localhost:8080/",
          "height": 35
        },
        "outputId": "3504e1a0-89e7-41c6-dabd-f606acfd9615"
      },
      "outputs": [
        {
          "output_type": "execute_result",
          "data": {
            "text/plain": [
              "'Hello, my name is Hong Gil-dong, and I am 30 years old.\\n\\nI cannot call my father \"father.\"'"
            ],
            "application/vnd.google.colaboratory.intrinsic+json": {
              "type": "string"
            }
          },
          "metadata": {},
          "execution_count": 14
        }
      ],
      "source": [
        "from langchain_openai import ChatOpenAI\n",
        "from langchain_core.output_parsers import StrOutputParser\n",
        "\n",
        "llm = ChatOpenAI(model=\"gpt-4o-mini\")\n",
        "chain = combined_prompt | llm | StrOutputParser()\n",
        "chain.invoke({\"age\":30, \"language\":\"영어\", \"name\":\"홍길동\"})"
      ]
    },
    {
      "cell_type": "markdown",
      "id": "aa617bbb-8ccb-4aab-a7df-6cd8232ac92f",
      "metadata": {
        "id": "aa617bbb-8ccb-4aab-a7df-6cd8232ac92f"
      },
      "source": [
        "### 2) ChatPromptTemplate"
      ]
    },
    {
      "cell_type": "code",
      "execution_count": 15,
      "id": "10dc9e58-0555-49d1-9ea0-faba6bd63f55",
      "metadata": {
        "id": "10dc9e58-0555-49d1-9ea0-faba6bd63f55",
        "colab": {
          "base_uri": "https://localhost:8080/"
        },
        "outputId": "8a597c55-6d75-4d74-8a90-ea06de3b7f31"
      },
      "outputs": [
        {
          "output_type": "execute_result",
          "data": {
            "text/plain": [
              "[SystemMessage(content='이 시스템은 천문학 질문에 답변할 수 있습니다.', additional_kwargs={}, response_metadata={}),\n",
              " HumanMessage(content='태양계에서 가장 큰 행성은 무엇인가요?', additional_kwargs={}, response_metadata={})]"
            ]
          },
          "metadata": {},
          "execution_count": 15
        }
      ],
      "source": [
        "# 2-튜플 형태의 메시지 목록으로 프롬프트 생성 (type, content)\n",
        "\n",
        "from langchain_core.prompts import ChatPromptTemplate\n",
        "\n",
        "chat_prompt = ChatPromptTemplate.from_messages([\n",
        "    (\"system\", \"이 시스템은 천문학 질문에 답변할 수 있습니다.\"),\n",
        "    (\"user\", \"{user_input}\"),\n",
        "])\n",
        "\n",
        "messages = chat_prompt.format_messages(user_input=\"태양계에서 가장 큰 행성은 무엇인가요?\")\n",
        "messages"
      ]
    },
    {
      "cell_type": "code",
      "execution_count": 16,
      "id": "f1a8fcae-33bd-43d9-a55e-9f37e82f5484",
      "metadata": {
        "id": "f1a8fcae-33bd-43d9-a55e-9f37e82f5484",
        "colab": {
          "base_uri": "https://localhost:8080/",
          "height": 35
        },
        "outputId": "b39f3a08-b826-49d6-e59e-b0505cd2f943"
      },
      "outputs": [
        {
          "output_type": "execute_result",
          "data": {
            "text/plain": [
              "'태양계에서 가장 큰 행성은 목성(Jupiter)입니다. 목성은 지름이 약 142,984킬로미터로, 태양계의 다른 모든 행성보다 훨씬 큽니다. 또한, 목성은 거대한 가스 행성으로 주로 수소와 헬륨으로 이루어져 있습니다.'"
            ],
            "application/vnd.google.colaboratory.intrinsic+json": {
              "type": "string"
            }
          },
          "metadata": {},
          "execution_count": 16
        }
      ],
      "source": [
        "chain = chat_prompt | llm | StrOutputParser()\n",
        "\n",
        "chain.invoke({\"user_input\": \"태양계에서 가장 큰 행성은 무엇인가요?\"})"
      ]
    },
    {
      "cell_type": "markdown",
      "id": "e332a435-3379-4b08-8800-2c758eea9eca",
      "metadata": {
        "id": "e332a435-3379-4b08-8800-2c758eea9eca"
      },
      "source": [
        "### 3) Message"
      ]
    },
    {
      "cell_type": "code",
      "source": [
        "# MessagePromptTemplate 활용\n",
        "\n",
        "from langchain_core.prompts import SystemMessagePromptTemplate,  HumanMessagePromptTemplate\n",
        "\n",
        "chat_prompt = ChatPromptTemplate.from_messages(\n",
        "    [\n",
        "        SystemMessagePromptTemplate.from_template(\"이 시스템은 천문학 질문에 답변할 수 있습니다.\"),\n",
        "        HumanMessagePromptTemplate.from_template(\"{user_input}\"),\n",
        "    ]\n",
        ")\n",
        "\n",
        "\n",
        "messages = chat_prompt.format_messages(user_input=\"태양계에서 가장 큰 행성은 무엇인가요?\")\n",
        "messages"
      ],
      "metadata": {
        "colab": {
          "base_uri": "https://localhost:8080/"
        },
        "id": "u1bpbNOyINkM",
        "outputId": "0452ca56-0566-436b-eba3-6f0116f39dbc"
      },
      "id": "u1bpbNOyINkM",
      "execution_count": 17,
      "outputs": [
        {
          "output_type": "execute_result",
          "data": {
            "text/plain": [
              "[SystemMessage(content='이 시스템은 천문학 질문에 답변할 수 있습니다.', additional_kwargs={}, response_metadata={}),\n",
              " HumanMessage(content='태양계에서 가장 큰 행성은 무엇인가요?', additional_kwargs={}, response_metadata={})]"
            ]
          },
          "metadata": {},
          "execution_count": 17
        }
      ]
    },
    {
      "cell_type": "code",
      "source": [
        "chain = chat_prompt | llm | StrOutputParser()\n",
        "\n",
        "chain.invoke({\"user_input\": \"태양계에서 가장 큰 행성은 무엇인가요?\"})"
      ],
      "metadata": {
        "colab": {
          "base_uri": "https://localhost:8080/",
          "height": 53
        },
        "id": "oFv2sFWwLH3L",
        "outputId": "c939a21b-4e0b-474d-a458-3ade19f68ada"
      },
      "id": "oFv2sFWwLH3L",
      "execution_count": 18,
      "outputs": [
        {
          "output_type": "execute_result",
          "data": {
            "text/plain": [
              "'태양계에서 가장 큰 행성은 목성입니다. 목성은 가스로 이루어진 거대한 행성으로, 지구의 약 1,300배 이상의 부피를 가지고 있습니다. 또한, 목성은 두 번째로 큰 행성을 가진 토성보다도 더 많은 달을 가지고 있는 것으로 알려져 있습니다.'"
            ],
            "application/vnd.google.colaboratory.intrinsic+json": {
              "type": "string"
            }
          },
          "metadata": {},
          "execution_count": 18
        }
      ]
    },
    {
      "cell_type": "markdown",
      "id": "62f6cbd9-769e-4671-89cc-8fb3da5eca2d",
      "metadata": {
        "id": "62f6cbd9-769e-4671-89cc-8fb3da5eca2d"
      },
      "source": [
        "## 5. Model Parameter\n"
      ]
    },
    {
      "cell_type": "markdown",
      "source": [
        "### 1) 모델 클래스 유형"
      ],
      "metadata": {
        "id": "OrGWildXSaQ7"
      },
      "id": "OrGWildXSaQ7"
    },
    {
      "cell_type": "markdown",
      "source": [
        "#### LLM"
      ],
      "metadata": {
        "id": "2xwl8LRsSkyX"
      },
      "id": "2xwl8LRsSkyX"
    },
    {
      "cell_type": "code",
      "source": [
        "llm.invoke(\"한국의 대표적인 관광지 3군데를 추천해주세요.\")"
      ],
      "metadata": {
        "colab": {
          "base_uri": "https://localhost:8080/"
        },
        "id": "Lln-TU8PbzmN",
        "outputId": "1dbf5495-73da-47d4-d8a9-22b7c600cdb9"
      },
      "id": "Lln-TU8PbzmN",
      "execution_count": 19,
      "outputs": [
        {
          "output_type": "execute_result",
          "data": {
            "text/plain": [
              "AIMessage(content='한국의 대표적인 관광지로 다음 세 곳을 추천드립니다:\\n\\n1. **경복궁 (Gyeongbokgung Palace)**: 서울에 위치한 경복궁은 조선 왕조의 주요 궁궐 중 하나로, 멋진 건축물과 아름다운 정원이 있습니다. 매일 열리는 수문장 교대식은 관광객들에게 인기가 많습니다.\\n\\n2. **부산 해운대 (Haeundae Beach)**: 부산의 대표 해변인 해운대는 깨끗한 백사장과 다양한 해양 레포츠를 즐길 수 있는 곳입니다. 여름철에는 많은 관광객들이 찾아와 활기를 띠며, 근처에는 맛있는 해산물 맛집도 많이 있습니다.\\n\\n3. **지리산 국립공원 (Jirisan National Park)**: 한국의 첫 번째 국립공원으로, 다양한 하이킹 코스와 아름다운 자연경관이 특징입니다. 지리산은 특히 단풍이 아름다운 가을철에 많은 등산객들에게 사랑받고 있습니다.\\n\\n이 외에도 한국에는 다양한 매력적인 관광지가 많으니, 방문 시 다양한 경험을 즐기시기 바랍니다!', additional_kwargs={'refusal': None}, response_metadata={'token_usage': {'completion_tokens': 255, 'prompt_tokens': 21, 'total_tokens': 276, 'completion_tokens_details': {'accepted_prediction_tokens': 0, 'audio_tokens': 0, 'reasoning_tokens': 0, 'rejected_prediction_tokens': 0}, 'prompt_tokens_details': {'audio_tokens': 0, 'cached_tokens': 0}}, 'model_name': 'gpt-4o-mini-2024-07-18', 'system_fingerprint': 'fp_0392822090', 'id': 'chatcmpl-BOgg66pBgFCwlnxFoM2Q8skEuoS7e', 'finish_reason': 'stop', 'logprobs': None}, id='run-e06c1158-239f-43ff-83f7-d7a61652232f-0', usage_metadata={'input_tokens': 21, 'output_tokens': 255, 'total_tokens': 276, 'input_token_details': {'audio': 0, 'cache_read': 0}, 'output_token_details': {'audio': 0, 'reasoning': 0}})"
            ]
          },
          "metadata": {},
          "execution_count": 19
        }
      ]
    },
    {
      "cell_type": "markdown",
      "source": [
        "#### ChatModel"
      ],
      "metadata": {
        "id": "n4p-sPIXSp6u"
      },
      "id": "n4p-sPIXSp6u"
    },
    {
      "cell_type": "code",
      "source": [
        "from langchain_core.prompts import ChatPromptTemplate\n",
        "from langchain_openai import ChatOpenAI\n",
        "\n",
        "chat = ChatOpenAI(model=\"gpt-4o-mini\")\n",
        "\n",
        "chat_prompt = ChatPromptTemplate.from_messages([\n",
        "    (\"system\", \"이 시스템은 여행 전문가입니다.\"),\n",
        "    (\"user\", \"{user_input}\"),\n",
        "])\n",
        "\n",
        "chain = chat_prompt | chat\n",
        "chain.invoke({\"user_input\": \"안녕하세요? 한국의 대표적인 관광지 3군데를 추천해주세요.\"})"
      ],
      "metadata": {
        "colab": {
          "base_uri": "https://localhost:8080/"
        },
        "id": "RoS6GNWQSwmF",
        "outputId": "1f25f0da-7ac4-4d43-a6a8-c67728f146d7"
      },
      "id": "RoS6GNWQSwmF",
      "execution_count": 20,
      "outputs": [
        {
          "output_type": "execute_result",
          "data": {
            "text/plain": [
              "AIMessage(content='안녕하세요! 한국의 대표적인 관광지 3군데를 추천해 드리겠습니다.\\n\\n1. **경주**: 신라의 고도로, 수많은 역사 유적이 있는 도시입니다. 불국사, 석굴암, 경주 역사유적지구 등을 비롯해 아름다운 자연 경관과 함께 고대 한국의 문화를 느낄 수 있습니다.\\n\\n2. **서울**: 한국의 수도로, 전통과 현대가 조화롭게 어우러진 도시입니다. 경복궁, 창덕궁 같은 역사적인 궁궐과 인사동, 명동과 같은 쇼핑 거리, 남산타워에서의 전망 등 다양한 매력을 제공합니다.\\n\\n3. **부산**: 아름다운 해변과 항구 도시의 매력을 지닌 부산은 해운대, 광안리 해변, 자갈치 시장 등의 명소가 유명합니다. 또한, 부산국제영화제와 같은 다채로운 문화 행사도 즐길 수 있습니다.\\n\\n각 도시마다 독특한 매력이 있으니, 꼭 방문해 보시길 추천합니다!', additional_kwargs={'refusal': None}, response_metadata={'token_usage': {'completion_tokens': 233, 'prompt_tokens': 35, 'total_tokens': 268, 'completion_tokens_details': {'accepted_prediction_tokens': 0, 'audio_tokens': 0, 'reasoning_tokens': 0, 'rejected_prediction_tokens': 0}, 'prompt_tokens_details': {'audio_tokens': 0, 'cached_tokens': 0}}, 'model_name': 'gpt-4o-mini-2024-07-18', 'system_fingerprint': 'fp_f7d56a8a2c', 'id': 'chatcmpl-BOggDFqPjMXnLGLgC9RXaf7UPoOSi', 'finish_reason': 'stop', 'logprobs': None}, id='run-99582d3b-aa18-464c-85de-9ecf8e1ecb75-0', usage_metadata={'input_tokens': 35, 'output_tokens': 233, 'total_tokens': 268, 'input_token_details': {'audio': 0, 'cache_read': 0}, 'output_token_details': {'audio': 0, 'reasoning': 0}})"
            ]
          },
          "metadata": {},
          "execution_count": 20
        }
      ]
    },
    {
      "cell_type": "markdown",
      "id": "9f4f0d21-c236-41dc-906f-e2d58c02b1ea",
      "metadata": {
        "id": "9f4f0d21-c236-41dc-906f-e2d58c02b1ea"
      },
      "source": [
        "### 2) 모델 파라미터 설정\n"
      ]
    },
    {
      "cell_type": "markdown",
      "source": [
        "#### 모델에 직접 파라미터를 전달 (모델 생성 시점)"
      ],
      "metadata": {
        "id": "mkaCYK13oc4-"
      },
      "id": "mkaCYK13oc4-"
    },
    {
      "cell_type": "code",
      "source": [
        "from langchain_openai import ChatOpenAI\n",
        "\n",
        "# 모델 파라미터 설정\n",
        "params = {\n",
        "    \"temperature\": 0.7,         # 생성된 텍스트의 다양성 조정\n",
        "    \"max_tokens\": 100,          # 생성할 최대 토큰 수\n",
        "}\n",
        "\n",
        "# 추가 모델 설정\n",
        "kwargs = {\n",
        "    \"frequency_penalty\": 0.5,   # 이미 등장한 단어의 재등장 확률\n",
        "    \"presence_penalty\": 0.5,    # 새로운 단어의 도입을 장려\n",
        "    \"stop\": [\"\\n\"]              # 정지 시퀀스 설정\n",
        "}\n",
        "\n",
        "# 모델 인스턴스를 생성할 때 설정\n",
        "model = ChatOpenAI(model=\"gpt-4o-mini\",\n",
        "                   **params,\n",
        "                   frequency_penalty=kwargs['frequency_penalty'],\n",
        "                   presence_penalty=kwargs['presence_penalty'],\n",
        "                   stop=kwargs['stop'])\n",
        "\n",
        "# 모델 호출\n",
        "question = \"태양계에서 가장 큰 행성은 무엇인가요?\"\n",
        "response = model.invoke(input=question)\n",
        "\n",
        "# 전체 응답 출력\n",
        "print(response)\n"
      ],
      "metadata": {
        "colab": {
          "base_uri": "https://localhost:8080/"
        },
        "id": "PeHH-O4Nc2wc",
        "outputId": "de58bf42-743d-4071-d222-5d5f486a56bc"
      },
      "id": "PeHH-O4Nc2wc",
      "execution_count": 21,
      "outputs": [
        {
          "output_type": "stream",
          "name": "stdout",
          "text": [
            "content='태양계에서 가장 큰 행성은 목성(Jupiter)입니다. 목성은 직경 약 139,820킬로미터로, 태양계의 다른 행성들보다 훨씬 큰 크기를 가지고 있습니다. 또한, 목성은 가스로 이루어진 행성으로, 강력한 자기장을 가지고 있으며 여러 개의 위성을 공전하고 있습니다.' additional_kwargs={'refusal': None} response_metadata={'token_usage': {'completion_tokens': 81, 'prompt_tokens': 20, 'total_tokens': 101, 'completion_tokens_details': {'accepted_prediction_tokens': 0, 'audio_tokens': 0, 'reasoning_tokens': 0, 'rejected_prediction_tokens': 0}, 'prompt_tokens_details': {'audio_tokens': 0, 'cached_tokens': 0}}, 'model_name': 'gpt-4o-mini-2024-07-18', 'system_fingerprint': 'fp_dbaca60df0', 'id': 'chatcmpl-BOggK9fYSpTednlKTKB8jaau3Emz6', 'finish_reason': 'stop', 'logprobs': None} id='run-18940467-351c-4fe5-b9a4-cfe21e49006b-0' usage_metadata={'input_tokens': 20, 'output_tokens': 81, 'total_tokens': 101, 'input_token_details': {'audio': 0, 'cache_read': 0}, 'output_token_details': {'audio': 0, 'reasoning': 0}}\n"
          ]
        }
      ]
    },
    {
      "cell_type": "markdown",
      "source": [
        "#### 모델에 직접 파라미터를 전달 (모델 호출 시점)"
      ],
      "metadata": {
        "id": "yAxlgzozpGMt"
      },
      "id": "yAxlgzozpGMt"
    },
    {
      "cell_type": "code",
      "source": [
        "# 모델 파라미터 설정\n",
        "params = {\n",
        "    \"temperature\": 0.7,         # 생성된 텍스트의 다양성 조정\n",
        "    \"max_tokens\": 10,          # 생성할 최대 토큰 수\n",
        "}\n",
        "\n",
        "# 모델 인스턴스를 호출할 때 전달\n",
        "response = model.invoke(input=question, **params)\n",
        "\n",
        "# 문자열 출력\n",
        "print(response.content)"
      ],
      "metadata": {
        "colab": {
          "base_uri": "https://localhost:8080/"
        },
        "id": "e9nGM_MroWwS",
        "outputId": "6dd97f4d-6113-4990-c6d9-fe90dc9f3d94"
      },
      "id": "e9nGM_MroWwS",
      "execution_count": 22,
      "outputs": [
        {
          "output_type": "stream",
          "name": "stdout",
          "text": [
            "태양계에서 가장 큰 행성은 목\n"
          ]
        }
      ]
    },
    {
      "cell_type": "markdown",
      "id": "bd39280c-2de0-49bf-8ee9-51362d50b6cb",
      "metadata": {
        "id": "bd39280c-2de0-49bf-8ee9-51362d50b6cb"
      },
      "source": [
        "#### 모델에 추가적인 파라미터를 전달\n",
        "- bind 메서드를 사용"
      ]
    },
    {
      "cell_type": "code",
      "execution_count": 23,
      "id": "ec858125-f9ec-447c-ad84-c69f81399e91",
      "metadata": {
        "id": "ec858125-f9ec-447c-ad84-c69f81399e91",
        "colab": {
          "base_uri": "https://localhost:8080/"
        },
        "outputId": "d4bda79e-3581-46a1-8b4f-0a4b467049d3"
      },
      "outputs": [
        {
          "output_type": "stream",
          "name": "stdout",
          "text": [
            "content='태양계에서 가장 큰 행성은 목성(Jupiter)입니다. 목성은 지구보다 약 11배 더 큰 직경을 가지고 있으며, 질량도 태양계를 구성하는 모든 행성 중에서 가장 큽니다. 목성은 가스 행성으로 주로 수소와 헬륨으로 이루어져 있습니다.' additional_kwargs={'refusal': None} response_metadata={'token_usage': {'completion_tokens': 76, 'prompt_tokens': 38, 'total_tokens': 114, 'completion_tokens_details': {'accepted_prediction_tokens': 0, 'audio_tokens': 0, 'reasoning_tokens': 0, 'rejected_prediction_tokens': 0}, 'prompt_tokens_details': {'audio_tokens': 0, 'cached_tokens': 0}}, 'model_name': 'gpt-4o-mini-2024-07-18', 'system_fingerprint': 'fp_f7d56a8a2c', 'id': 'chatcmpl-BOggPRZmMknAT1Lo3L6pWim2oJXMw', 'finish_reason': 'stop', 'logprobs': None} id='run-ab19021a-aada-4654-953a-e5c0acc8b262-0' usage_metadata={'input_tokens': 38, 'output_tokens': 76, 'total_tokens': 114, 'input_token_details': {'audio': 0, 'cache_read': 0}, 'output_token_details': {'audio': 0, 'reasoning': 0}}\n",
            "content='태양계에서 가장 큰 행성은 목' additional_kwargs={'refusal': None} response_metadata={'token_usage': {'completion_tokens': 10, 'prompt_tokens': 38, 'total_tokens': 48, 'completion_tokens_details': {'accepted_prediction_tokens': 0, 'audio_tokens': 0, 'reasoning_tokens': 0, 'rejected_prediction_tokens': 0}, 'prompt_tokens_details': {'audio_tokens': 0, 'cached_tokens': 0}}, 'model_name': 'gpt-4o-mini-2024-07-18', 'system_fingerprint': 'fp_f7d56a8a2c', 'id': 'chatcmpl-BOggReBthvFsMwasOX2hJvlX8xUim', 'finish_reason': 'length', 'logprobs': None} id='run-9d8234de-ef7a-4495-991c-22516bac235a-0' usage_metadata={'input_tokens': 38, 'output_tokens': 10, 'total_tokens': 48, 'input_token_details': {'audio': 0, 'cache_read': 0}, 'output_token_details': {'audio': 0, 'reasoning': 0}}\n"
          ]
        }
      ],
      "source": [
        "from langchain_core.prompts import ChatPromptTemplate\n",
        "\n",
        "prompt = ChatPromptTemplate.from_messages([\n",
        "    (\"system\", \"이 시스템은 천문학 질문에 답변할 수 있습니다.\"),\n",
        "    (\"user\", \"{user_input}\"),\n",
        "])\n",
        "\n",
        "model = ChatOpenAI(model=\"gpt-4o-mini\", max_tokens=100)\n",
        "\n",
        "messages = prompt.format_messages(user_input=\"태양계에서 가장 큰 행성은 무엇인가요?\")\n",
        "\n",
        "before_answer = model.invoke(messages)\n",
        "\n",
        "# # binding 이전 출력\n",
        "print(before_answer)\n",
        "\n",
        "# 모델 호출 시 추가적인 인수를 전달하기 위해 bind 메서드 사용 (응답의 최대 길이를 10 토큰으로 제한)\n",
        "chain = prompt | model.bind(max_tokens=10)\n",
        "\n",
        "after_answer = chain.invoke({\"user_input\": \"태양계에서 가장 큰 행성은 무엇인가요?\"})\n",
        "\n",
        "# binding 이후 출력\n",
        "print(after_answer)"
      ]
    },
    {
      "cell_type": "markdown",
      "id": "f5578014-f828-45e7-bd15-dde39ea72413",
      "metadata": {
        "id": "f5578014-f828-45e7-bd15-dde39ea72413"
      },
      "source": [
        "## 6. Output Parsers\n"
      ]
    },
    {
      "cell_type": "markdown",
      "id": "8aff3bd5-1dc0-4b60-ae36-78336bfa927d",
      "metadata": {
        "id": "8aff3bd5-1dc0-4b60-ae36-78336bfa927d"
      },
      "source": [
        "### 1) CSV Parser"
      ]
    },
    {
      "cell_type": "code",
      "execution_count": 24,
      "id": "e5670c36-abbe-4f33-a736-87fbb2d8e72a",
      "metadata": {
        "id": "e5670c36-abbe-4f33-a736-87fbb2d8e72a",
        "colab": {
          "base_uri": "https://localhost:8080/"
        },
        "outputId": "f3387298-74b4-467c-dbd0-011fac2e379c"
      },
      "outputs": [
        {
          "output_type": "stream",
          "name": "stdout",
          "text": [
            "Your response should be a list of comma separated values, eg: `foo, bar, baz` or `foo,bar,baz`\n"
          ]
        }
      ],
      "source": [
        "from langchain_core.output_parsers import CommaSeparatedListOutputParser\n",
        "\n",
        "output_parser = CommaSeparatedListOutputParser()\n",
        "format_instructions = output_parser.get_format_instructions()\n",
        "\n",
        "print(format_instructions)"
      ]
    },
    {
      "cell_type": "code",
      "execution_count": 25,
      "id": "762747bc-6a62-4d93-b052-15fb7443cf41",
      "metadata": {
        "id": "762747bc-6a62-4d93-b052-15fb7443cf41",
        "colab": {
          "base_uri": "https://localhost:8080/"
        },
        "outputId": "84c60ff7-5edd-4644-852c-3d6c54f18709"
      },
      "outputs": [
        {
          "output_type": "execute_result",
          "data": {
            "text/plain": [
              "['Kimchi', 'Bibimbap', 'Bulgogi', 'Tteokbokki', 'Japchae']"
            ]
          },
          "metadata": {},
          "execution_count": 25
        }
      ],
      "source": [
        "from langchain_core.prompts import PromptTemplate\n",
        "\n",
        "prompt = PromptTemplate(\n",
        "    template=\"List five {subject}.\\n{format_instructions}\",\n",
        "    input_variables=[\"subject\"],\n",
        "    partial_variables={\"format_instructions\": format_instructions},\n",
        ")\n",
        "\n",
        "llm = ChatOpenAI(model=\"gpt-4o-mini\", temperature=0)\n",
        "\n",
        "chain = prompt | llm | output_parser\n",
        "\n",
        "chain.invoke({\"subject\": \"popular Korean cusine\"})"
      ]
    },
    {
      "cell_type": "markdown",
      "id": "b861abc3-570c-43f4-8a65-84dbc755b3f2",
      "metadata": {
        "id": "b861abc3-570c-43f4-8a65-84dbc755b3f2"
      },
      "source": [
        "### 2) JSON Parser"
      ]
    },
    {
      "cell_type": "code",
      "execution_count": 26,
      "id": "f633514f-f8e3-4c16-8fce-2c65fc28a5aa",
      "metadata": {
        "id": "f633514f-f8e3-4c16-8fce-2c65fc28a5aa",
        "colab": {
          "base_uri": "https://localhost:8080/"
        },
        "outputId": "bd47a4db-66ec-41b2-9129-60409c5dc9fa"
      },
      "outputs": [
        {
          "output_type": "stream",
          "name": "stderr",
          "text": [
            "/usr/local/lib/python3.11/dist-packages/IPython/core/interactiveshell.py:3553: LangChainDeprecationWarning: As of langchain-core 0.3.0, LangChain uses pydantic v2 internally. The langchain_core.pydantic_v1 module was a compatibility shim for pydantic v1, and should no longer be used. Please update the code to import from Pydantic directly.\n",
            "\n",
            "For example, replace imports like: `from langchain_core.pydantic_v1 import BaseModel`\n",
            "with: `from pydantic import BaseModel`\n",
            "or the v1 compatibility namespace if you are working in a code base that has not been fully upgraded to pydantic 2 yet. \tfrom pydantic.v1 import BaseModel\n",
            "\n",
            "  exec(code_obj, self.user_global_ns, self.user_ns)\n"
          ]
        }
      ],
      "source": [
        "from langchain_core.output_parsers import JsonOutputParser\n",
        "from langchain_core.pydantic_v1 import BaseModel, Field\n",
        "\n",
        "# 자료구조 정의 (pydantic)\n",
        "class CusineRecipe(BaseModel):\n",
        "    name: str = Field(description=\"name of a cusine\")\n",
        "    recipe: str = Field(description=\"recipe to cook the cusine\")"
      ]
    },
    {
      "cell_type": "code",
      "execution_count": 27,
      "id": "ce40ce61-056b-4511-8c19-bfff7db60342",
      "metadata": {
        "id": "ce40ce61-056b-4511-8c19-bfff7db60342",
        "colab": {
          "base_uri": "https://localhost:8080/"
        },
        "outputId": "d3cc19c8-5e80-465c-f321-13acf44b0cad"
      },
      "outputs": [
        {
          "output_type": "stream",
          "name": "stdout",
          "text": [
            "The output should be formatted as a JSON instance that conforms to the JSON schema below.\n",
            "\n",
            "As an example, for the schema {\"properties\": {\"foo\": {\"title\": \"Foo\", \"description\": \"a list of strings\", \"type\": \"array\", \"items\": {\"type\": \"string\"}}}, \"required\": [\"foo\"]}\n",
            "the object {\"foo\": [\"bar\", \"baz\"]} is a well-formatted instance of the schema. The object {\"properties\": {\"foo\": [\"bar\", \"baz\"]}} is not well-formatted.\n",
            "\n",
            "Here is the output schema:\n",
            "```\n",
            "{\"properties\": {\"name\": {\"title\": \"Name\", \"description\": \"name of a cusine\", \"type\": \"string\"}, \"recipe\": {\"title\": \"Recipe\", \"description\": \"recipe to cook the cusine\", \"type\": \"string\"}}, \"required\": [\"name\", \"recipe\"]}\n",
            "```\n"
          ]
        }
      ],
      "source": [
        "# 출력 파서 정의\n",
        "output_parser = JsonOutputParser(pydantic_object=CusineRecipe)\n",
        "\n",
        "format_instructions = output_parser.get_format_instructions()\n",
        "\n",
        "print(format_instructions)"
      ]
    },
    {
      "cell_type": "code",
      "execution_count": 28,
      "id": "1b14fb66-640e-4ff9-9826-bf4718dcd7a2",
      "metadata": {
        "id": "1b14fb66-640e-4ff9-9826-bf4718dcd7a2",
        "colab": {
          "base_uri": "https://localhost:8080/"
        },
        "outputId": "74b6fce9-c5c0-4a7e-b842-531a1ccd9d4b"
      },
      "outputs": [
        {
          "output_type": "stream",
          "name": "stdout",
          "text": [
            "input_variables=['query'] input_types={} partial_variables={'format_instructions': 'The output should be formatted as a JSON instance that conforms to the JSON schema below.\\n\\nAs an example, for the schema {\"properties\": {\"foo\": {\"title\": \"Foo\", \"description\": \"a list of strings\", \"type\": \"array\", \"items\": {\"type\": \"string\"}}}, \"required\": [\"foo\"]}\\nthe object {\"foo\": [\"bar\", \"baz\"]} is a well-formatted instance of the schema. The object {\"properties\": {\"foo\": [\"bar\", \"baz\"]}} is not well-formatted.\\n\\nHere is the output schema:\\n```\\n{\"properties\": {\"name\": {\"title\": \"Name\", \"description\": \"name of a cusine\", \"type\": \"string\"}, \"recipe\": {\"title\": \"Recipe\", \"description\": \"recipe to cook the cusine\", \"type\": \"string\"}}, \"required\": [\"name\", \"recipe\"]}\\n```'} template='Answer the user query.\\n{format_instructions}\\n{query}\\n'\n"
          ]
        }
      ],
      "source": [
        "# prompt 구성\n",
        "prompt = PromptTemplate(\n",
        "    template=\"Answer the user query.\\n{format_instructions}\\n{query}\\n\",\n",
        "    input_variables=[\"query\"],\n",
        "    partial_variables={\"format_instructions\": format_instructions},\n",
        ")\n",
        "\n",
        "print(prompt)"
      ]
    },
    {
      "cell_type": "code",
      "execution_count": 29,
      "id": "1f42224e-a931-4fb1-868f-d4ed98489744",
      "metadata": {
        "id": "1f42224e-a931-4fb1-868f-d4ed98489744",
        "colab": {
          "base_uri": "https://localhost:8080/"
        },
        "outputId": "25b93f53-e568-4cd8-91eb-8e03bd4d6a3a"
      },
      "outputs": [
        {
          "output_type": "execute_result",
          "data": {
            "text/plain": [
              "{'name': 'Bibimbap',\n",
              " 'recipe': '1. Cook rice. 2. Prepare vegetables (spinach, carrots, bean sprouts, mushrooms) by sautéing or blanching. 3. Fry an egg sunny side up. 4. In a bowl, add cooked rice, arrange vegetables on top, place the fried egg in the center, and add gochujang (Korean red pepper paste) to taste. 5. Mix'}"
            ]
          },
          "metadata": {},
          "execution_count": 29
        }
      ],
      "source": [
        "chain = prompt | model | output_parser\n",
        "\n",
        "chain.invoke({\"query\": \"Let me know how to cook Bibimbap\"})"
      ]
    },
    {
      "cell_type": "code",
      "source": [],
      "metadata": {
        "id": "HR-5oafqdSnW"
      },
      "id": "HR-5oafqdSnW",
      "execution_count": 29,
      "outputs": []
    }
  ],
  "metadata": {
    "kernelspec": {
      "display_name": "Python 3",
      "name": "python3"
    },
    "language_info": {
      "name": "python"
    },
    "colab": {
      "provenance": [],
      "include_colab_link": true
    }
  },
  "nbformat": 4,
  "nbformat_minor": 5
}